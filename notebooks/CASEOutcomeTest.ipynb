{
 "cells": [
  {
   "cell_type": "markdown",
   "metadata": {},
   "source": [
    "# Make sure Lanczos and pre-lanczos implementation of CASE produces the same outcomes"
   ]
  },
  {
   "cell_type": "code",
   "execution_count": 1,
   "metadata": {},
   "outputs": [],
   "source": [
    "import numpy as np\n",
    "from scipy.sparse.linalg import eigsh\n",
    "from sklearn.preprocessing import normalize\n",
    "\n",
    "from graspologic.utils import import_graph, to_laplacian, is_almost_symmetric\n",
    "from graspologic.embed.base import BaseSpectralEmbed\n",
    "\n",
    "class CASEOld(BaseSpectralEmbed):\n",
    "\n",
    "    def __init__(\n",
    "        self,\n",
    "        alpha=None,\n",
    "        embedding_alg=\"assortative\",\n",
    "        n_components=None,\n",
    "        n_elbows=2,\n",
    "        check_lcc=False,\n",
    "    ):\n",
    "        super().__init__(\n",
    "            n_components=n_components,\n",
    "            n_elbows=n_elbows,\n",
    "            check_lcc=check_lcc,\n",
    "            concat=False,\n",
    "        )\n",
    "\n",
    "        if embedding_alg not in {\"assortative\", \"non-assortative\"}:\n",
    "            msg = \"embedding_alg must be in {assortative, non-assortative}.\"\n",
    "            raise ValueError(msg)\n",
    "        self.embedding_alg = embedding_alg\n",
    "\n",
    "        if not ((alpha is None) or isinstance(alpha, (float, int))):\n",
    "            msg = \"alpha must be in {None, float, int}.\"\n",
    "            raise TypeError(msg)\n",
    "\n",
    "        self.alpha = alpha\n",
    "        self.latent_right_ = None\n",
    "        self.is_fitted_ = False\n",
    "\n",
    "    def fit(self, network, y=None):\n",
    "        \"\"\"\n",
    "        Fit a CASE model to an input graph, along with its covariates. Depending on the\n",
    "        embedding algorithm, we embed\n",
    "        .. math:: L_ = LL + \\alpha YY^T\n",
    "        .. math:: L_ = L + \\alpha YY^T\n",
    "        where :math:`\\alpha` is a tuning parameter which makes the leading eigenvalues\n",
    "        of the two summands the same. Here, :math:`L` is the regularized\n",
    "        graph Laplacian, and :math:`Y` is a matrix of covariates for each node.\n",
    "        Parameters\n",
    "        ----------\n",
    "        network : tuple or list of np.ndarrays\n",
    "            Contains the tuple (A, Y), where A is an adjacency matrix and Y is the\n",
    "            matrix of covariates.\n",
    "            A : array-like or networkx.Graph\n",
    "                Input graph to embed. See graspologic.utils.import_graph\n",
    "            Y : array-like, shape (n_vertices, n_covariates)\n",
    "                Covariate matrix. Each node of the graph is associated with a set of\n",
    "                `d` covariates. Row `i` of the covariates matrix corresponds to node\n",
    "                `i`, and the number of columns are the number of covariates.\n",
    "        y: Ignored\n",
    "        Returns\n",
    "        -------\n",
    "        self : object\n",
    "            Returns an instance of self.\n",
    "        \"\"\"\n",
    "\n",
    "        # setup\n",
    "        if not isinstance(network, (tuple, list)):\n",
    "            msg = \"Network should be a tuple-like object of (graph, covariates).\"\n",
    "            raise TypeError(msg)\n",
    "        if len(network) != 2:\n",
    "            msg = \"Network should be a tuple-like object of (graph, covariates).\"\n",
    "            raise ValueError(msg)\n",
    "\n",
    "        graph, covariates = network\n",
    "        A = import_graph(graph)\n",
    "        if A.shape[0] != A.shape[1]:\n",
    "            raise ValueError(\"Graph should be square\")\n",
    "        if not is_almost_symmetric(A):\n",
    "            raise ValueError(\"Fit an undirected graph\")\n",
    "\n",
    "        # Create regularized Laplacian, scale covariates to unit norm\n",
    "        L = to_laplacian(A, form=\"R-DAD\")\n",
    "        Y = covariates.copy()\n",
    "        if Y.ndim == 1:\n",
    "            Y = Y[:, np.newaxis]\n",
    "        Y = normalize(Y, axis=0)\n",
    "\n",
    "        # change params based on tuning algorithm\n",
    "        if self.embedding_alg == \"assortative\":\n",
    "            LL = L.copy()\n",
    "            YYt = Y @ Y.T\n",
    "        elif self.embedding_alg == \"non-assortative\":\n",
    "            LL = L @ L\n",
    "            YYt = Y @ Y.T\n",
    "\n",
    "        # Get weight and create embedding matrix\n",
    "        self._get_tuning_parameter(LL, YYt)\n",
    "        L_ = (LL + self.alpha_ * (YYt)).astype(float)\n",
    "\n",
    "        # Dimensionality reduction with SVD\n",
    "        self._reduce_dim(L_)\n",
    "\n",
    "        self.is_fitted_ = True\n",
    "        return self\n",
    "\n",
    "    def _get_tuning_parameter(self, LL, YYt):\n",
    "        \"\"\"\n",
    "        Find the alpha which causes the leading eigenspace of LL and YYt to be the same.\n",
    "        Parameters\n",
    "        ----------\n",
    "        LL : array\n",
    "            The regularized graph Laplacian (assortative)\n",
    "            The squared regularized graph Laplacian (non-assortative)\n",
    "        YYt : array\n",
    "            Y@Y.T, where Y is the covariate matrix.\n",
    "        Returns\n",
    "        -------\n",
    "        alpha : float\n",
    "            Tuning parameter which normalizes the leading eigenspace of LL and YYt.\n",
    "        \"\"\"\n",
    "        # setup\n",
    "        if self.alpha is not None:\n",
    "            self.alpha_ = self.alpha\n",
    "            return self\n",
    "\n",
    "        # calculate bounds\n",
    "        (L_top,) = eigsh(LL, return_eigenvectors=False, k=1)\n",
    "        (Y_top,) = eigsh(YYt, return_eigenvectors=False, k=1)\n",
    "\n",
    "        # just use the ratio of the leading eigenvalues for the\n",
    "        # tuning parameter, or the closest value in its possible range.\n",
    "        self.alpha_ = np.float(L_top / Y_top)\n",
    "\n",
    "        return self"
   ]
  },
  {
   "cell_type": "code",
   "execution_count": 2,
   "metadata": {},
   "outputs": [],
   "source": []
  },
  {
   "cell_type": "code",
   "execution_count": 15,
   "metadata": {},
   "outputs": [],
   "source": [
    "import numpy as np\n",
    "from scipy.sparse.linalg import LinearOperator, eigsh\n",
    "from scipy.stats import beta\n",
    "import pandas as pd\n",
    "import seaborn as sns\n",
    "from graspologic.simulations import sbm\n",
    "from graspologic.utils import to_laplacian\n",
    "from graspologic.embed import CovariateAssistedEmbed as CASE\n",
    "from time import time\n",
    "import matplotlib.pyplot as plt\n",
    "\n",
    "import warnings; warnings.filterwarnings(\"ignore\")\n",
    "\n",
    "\n",
    "np.set_printoptions(suppress=True)\n",
    "\n",
    "def plot_latents(latent_positions, *, title=None, labels=None, ax=None, legend=False,\n",
    "                 fontdict=None, **kwargs):\n",
    "    if ax is None:\n",
    "        ax = plt.gca()\n",
    "    plot = sns.scatterplot(latent_positions[:, 0], latent_positions[:, 1], hue=labels, \n",
    "                           s=10, ax=ax, palette=\"Set1\", color='k', **kwargs)\n",
    "    if title is not None:\n",
    "        plot.set_title(title, wrap=True, fontdict=fontdict, loc=\"left\");\n",
    "    ax.axes.xaxis.set_visible(False)\n",
    "    ax.axes.yaxis.set_visible(False)\n",
    "    if legend:\n",
    "        ax.legend(loc=\"upper right\", title=\"Community\")\n",
    "    elif not legend and np.any(labels):\n",
    "        ax.get_legend().remove()\n",
    "    \n",
    "    return plot\n",
    "\n",
    "def make_community(a, b, n=500):\n",
    "    return beta.rvs(a, b, size=(n, 5))\n",
    "\n",
    "def gen_covariates(n):\n",
    "    c1 = make_community(2, 5, n=n)\n",
    "    c2 = make_community(2, 2, n=n)\n",
    "\n",
    "    covariates = np.vstack((c1, c2))\n",
    "    return covariates\n",
    "\n",
    "def gen_network(n):\n",
    "    P = np.array([[.08, .02], [.02, .08]])\n",
    "    A = sbm([n//2, n//2], P, return_labels=True)\n",
    "    Y = gen_covariates(n=n//2)\n",
    "    return A, Y\n",
    "\n",
    "(A, labels), Y = gen_network(200)\n",
    "case = CASE(n_components=2)\n",
    "case_old = CASEOld(n_components=2)"
   ]
  },
  {
   "cell_type": "code",
   "execution_count": 18,
   "metadata": {},
   "outputs": [],
   "source": [
    "latents = case.fit_transform((A, Y))\n",
    "latents_old = case_old.fit_transform((A, Y))\n",
    "\n",
    "# Procrustes\n",
    "from graspologic.align import OrthogonalProcrustes\n",
    "op = OrthogonalProcrustes()\n",
    "latents_old_ = op.fit_transform(latents_old, latents)"
   ]
  },
  {
   "cell_type": "code",
   "execution_count": 27,
   "metadata": {},
   "outputs": [
    {
     "data": {
      "text/plain": [
       "<AxesSubplot:title={'left':'Latent positions without lanczos \\n(after Procrustes)'}>"
      ]
     },
     "execution_count": 27,
     "metadata": {},
     "output_type": "execute_result"
    },
    {
     "data": {
      "image/png": "[encoded data removed]",
      "text/plain": [
       "<Figure size 720x360 with 2 Axes>"
      ]
     },
     "metadata": {
      "needs_background": "light"
     },
     "output_type": "display_data"
    }
   ],
   "source": [
    "fig, axs = plt.subplots(nrows=1, ncols=2, figsize=(10, 5))\n",
    "\n",
    "plot_latents(latents, ax=axs[0], title=\"Latent positions with lanczos\", labels=labels)\n",
    "plot_latents(latents_old_, ax=axs[1], title=\"Latent positions without lanczos \\n(after Procrustes)\", labels=labels)"
   ]
  },
  {
   "cell_type": "markdown",
   "metadata": {},
   "source": [
    "### Frobenius norm of the difference"
   ]
  },
  {
   "cell_type": "code",
   "execution_count": 25,
   "metadata": {},
   "outputs": [
    {
     "data": {
      "text/plain": [
       "1.8576271635505623"
      ]
     },
     "execution_count": 25,
     "metadata": {},
     "output_type": "execute_result"
    }
   ],
   "source": [
    "# before Procesutes\n",
    "np.linalg.norm(latents - latents_old)"
   ]
  },
  {
   "cell_type": "code",
   "execution_count": 24,
   "metadata": {},
   "outputs": [
    {
     "data": {
      "text/plain": [
       "0.1471912090456788"
      ]
     },
     "execution_count": 24,
     "metadata": {},
     "output_type": "execute_result"
    }
   ],
   "source": [
    "# after Procrustes\n",
    "np.linalg.norm(latents - latents_old_)"
   ]
  }
 ],
 "metadata": {
  "kernelspec": {
   "display_name": "Python 3",
   "language": "python",
   "name": "python3"
  },
  "language_info": {
   "codemirror_mode": {
    "name": "ipython",
    "version": 3
   },
   "file_extension": ".py",
   "mimetype": "text/x-python",
   "name": "python",
   "nbconvert_exporter": "python",
   "pygments_lexer": "ipython3",
   "version": "3.8.5"
  }
 },
 "nbformat": 4,
 "nbformat_minor": 4
}
