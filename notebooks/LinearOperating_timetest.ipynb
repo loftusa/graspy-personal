{
 "cells": [
  {
   "cell_type": "markdown",
   "metadata": {},
   "source": [
    "## linear operator test"
   ]
  },
  {
   "cell_type": "code",
   "execution_count": 134,
   "metadata": {},
   "outputs": [],
   "source": [
    "import numpy as np\n",
    "from scipy.sparse.linalg import LinearOperator, eigsh\n",
    "from scipy.stats import beta\n",
    "from graspologic.simulations import sbm\n",
    "from graspologic.utils import to_laplacian\n",
    "\n",
    "def make_community(a, b, n=500):\n",
    "    return beta.rvs(a, b, size=(n, 5))\n",
    "\n",
    "def gen_covariates(n):\n",
    "    c1 = make_community(2, 5, n=n)\n",
    "    c2 = make_community(2, 2, n=n)\n",
    "\n",
    "    covariates = np.vstack((c1, c2))\n",
    "    return covariates\n",
    "    \n",
    "# make SBM\n",
    "n = 5000\n",
    "P = np.array([[.8, .2], [.2, .8]])\n",
    "A, labels = sbm([n, n], P, return_labels=True)\n",
    "\n",
    "# Generate a covariate matrix\n",
    "Y = gen_covariates(n=n)"
   ]
  },
  {
   "cell_type": "markdown",
   "metadata": {},
   "source": [
    "true eigenvalues"
   ]
  },
  {
   "cell_type": "markdown",
   "metadata": {},
   "source": [
    "# Test speed increase in calculating leading eigenvalues"
   ]
  },
  {
   "cell_type": "code",
   "execution_count": 75,
   "metadata": {},
   "outputs": [
    {
     "name": "stdout",
     "output_type": "stream",
     "text": [
      "33.9 s ± 1.46 s per loop (mean ± std. dev. of 7 runs, 1 loop each)\n"
     ]
    }
   ],
   "source": [
    "%%timeit\n",
    "\n",
    "L = to_laplacian(A, form=\"R-DAD\")\n",
    "YYt = Y@Y.T\n",
    "\n",
    "L_top_slow = eigsh(L, k=1, return_eigenvectors=False)**2\n",
    "YYt_top_slow = eigsh(YYt, k=1, return_eigenvectors=False)"
   ]
  },
  {
   "cell_type": "code",
   "execution_count": 76,
   "metadata": {},
   "outputs": [],
   "source": [
    "L = to_laplacian(A, form=\"R-DAD\")\n",
    "YYt = Y@Y.T\n",
    "\n",
    "L_top_slow = eigsh(L, k=1, return_eigenvectors=False)**2\n",
    "YYt_top_slow = eigsh(YYt, k=1, return_eigenvectors=False)"
   ]
  },
  {
   "cell_type": "code",
   "execution_count": 77,
   "metadata": {},
   "outputs": [
    {
     "name": "stdout",
     "output_type": "stream",
     "text": [
      "609 ms ± 2.94 ms per loop (mean ± std. dev. of 7 runs, 1 loop each)\n"
     ]
    }
   ],
   "source": [
    "%%timeit\n",
    "\n",
    "def matvec(v):\n",
    "    return Y@(Y.T@v)\n",
    "    \n",
    "LO = LinearOperator((Y.shape[0], Y.shape[0]), matvec=matvec)\n",
    "\n",
    "L_top_fast = eigsh(L, k=1, return_eigenvectors=False)**2\n",
    "YYt_top_fast = eigsh(LO, k=1, return_eigenvectors=False)"
   ]
  },
  {
   "cell_type": "code",
   "execution_count": 78,
   "metadata": {},
   "outputs": [],
   "source": [
    "def matvec(v):\n",
    "    return Y@(Y.T@v)\n",
    "    \n",
    "LO = LinearOperator((Y.shape[0], Y.shape[0]), matvec=matvec)\n",
    "\n",
    "L_top_fast = eigsh(L, k=1, return_eigenvectors=False)**2\n",
    "YYt_top_fast = eigsh(LO, k=1, return_eigenvectors=False)"
   ]
  },
  {
   "cell_type": "code",
   "execution_count": 79,
   "metadata": {},
   "outputs": [
    {
     "name": "stdout",
     "output_type": "stream",
     "text": [
      "14.411764705882351 times speed increase\n"
     ]
    }
   ],
   "source": [
    "print(f\"{83.3 / 5.78} times speed increase\")"
   ]
  },
  {
   "cell_type": "markdown",
   "metadata": {},
   "source": [
    "#### Eigenvalues are the same"
   ]
  },
  {
   "cell_type": "code",
   "execution_count": 80,
   "metadata": {},
   "outputs": [
    {
     "name": "stdout",
     "output_type": "stream",
     "text": [
      "[50041.04838588]\n",
      "[50041.04838588]\n"
     ]
    }
   ],
   "source": [
    "YYt_top_slow = eigsh(YYt, k=1, return_eigenvectors=False)\n",
    "YYt_top_fast = eigsh(LO, k=1, return_eigenvectors=False)\n",
    "\n",
    "print(YYt_top_slow)\n",
    "print(YYt_top_fast)"
   ]
  },
  {
   "cell_type": "markdown",
   "metadata": {},
   "source": [
    "## Test speed increase in embedding matrix"
   ]
  },
  {
   "cell_type": "code",
   "execution_count": 90,
   "metadata": {},
   "outputs": [
    {
     "name": "stdout",
     "output_type": "stream",
     "text": [
      "3.04 s ± 222 ms per loop (mean ± std. dev. of 7 runs, 1 loop each)\n"
     ]
    }
   ],
   "source": [
    "%%timeit \n",
    "\n",
    "from sklearn.utils.extmath import randomized_svd\n",
    "\n",
    "L_ = L + Y@Y.T\n",
    "D_slow, U_slow = eigsh(L_, k=2)"
   ]
  },
  {
   "cell_type": "code",
   "execution_count": 91,
   "metadata": {},
   "outputs": [],
   "source": [
    "from sklearn.utils.extmath import randomized_svd\n",
    "\n",
    "L_ = L + Y@Y.T\n",
    "D_slow, U_slow = eigsh(L_, k=2)"
   ]
  },
  {
   "cell_type": "code",
   "execution_count": 92,
   "metadata": {},
   "outputs": [
    {
     "name": "stdout",
     "output_type": "stream",
     "text": [
      "2.17 s ± 175 ms per loop (mean ± std. dev. of 7 runs, 1 loop each)\n"
     ]
    }
   ],
   "source": [
    "%%timeit\n",
    "\n",
    "def _matvec(v):\n",
    "    return (L@v) + Y@(Y.T@v)\n",
    "\n",
    "L_ = LinearOperator((10000, 10000), matvec=_matvec)\n",
    "D_fast, U_fast = eigsh(L_, k=2)"
   ]
  },
  {
   "cell_type": "code",
   "execution_count": 93,
   "metadata": {},
   "outputs": [
    {
     "name": "stdout",
     "output_type": "stream",
     "text": [
      "1.4009216589861753 speed increase on 10,000 node matrix\n"
     ]
    }
   ],
   "source": [
    "print(f\"{3.04/2.17} speed increase on 10,000 node matrix\")"
   ]
  },
  {
   "cell_type": "markdown",
   "metadata": {},
   "source": [
    "## Profiling speed as a function of node size"
   ]
  },
  {
   "cell_type": "code",
   "execution_count": 133,
   "metadata": {},
   "outputs": [
    {
     "data": {
      "text/plain": [
       "(10, 30)"
      ]
     },
     "execution_count": 133,
     "metadata": {},
     "output_type": "execute_result"
    }
   ],
   "source": [
    "def gen_network(n):\n",
    "    P = np.array([[.8, .2], [.2, .8]])\n",
    "    A = sbm([n//2, n//2], P)\n",
    "    Y = gen_covariates(n=n//2)\n",
    "    return A, Y\n",
    "\n",
    "A, Y = gen_network(10)"
   ]
  },
  {
   "cell_type": "code",
   "execution_count": 187,
   "metadata": {},
   "outputs": [],
   "source": [
    "np.set_printoptions(suppress=True)\n",
    "from time import time\n",
    "\n",
    "def gen_network(n):\n",
    "    P = np.array([[.08, .02], [.02, .08]])\n",
    "    A = sbm([n//2, n//2], P)\n",
    "    Y = gen_covariates(n=n//2)\n",
    "    return A, Y\n",
    "\n",
    "def _matvec(v):\n",
    "    return (L@v) + Y@(Y.T@v)\n",
    "\n",
    "nodes = np.geomspace(100, 10000, 20).astype(int)\n",
    "nodes[nodes % 2 == 1] += 1\n",
    "\n",
    "slows = {}\n",
    "fasts = {}\n",
    "for n in nodes:\n",
    "    A, Y = gen_network(n)\n",
    "    L = to_laplacian(A, form=\"R-DAD\")\n",
    "    \n",
    "    # calculating Y@Y.T\n",
    "    start = time()\n",
    "    L_ = L + Y@Y.T\n",
    "    D, U = eigsh(L_, k=2)\n",
    "    slows[n] = time() - start\n",
    "    \n",
    "    # as LinearOperator\n",
    "    start = time()\n",
    "    L_ = LinearOperator((n, n), matvec=_matvec)\n",
    "    D, U = eigsh(L_, k=2)\n",
    "    fasts[n] = time() - start"
   ]
  },
  {
   "cell_type": "markdown",
   "metadata": {},
   "source": [
    "#### Embedding down to 2 dimensions. P=[[.08, .02], [.02, .08]]."
   ]
  },
  {
   "cell_type": "code",
   "execution_count": 188,
   "metadata": {},
   "outputs": [
    {
     "data": {
      "text/plain": [
       "[Text(0.5, 1.0, 'Speed comparison of Lanczos algorithm compared to calculating $YY^\\\\top$')]"
      ]
     },
     "execution_count": 188,
     "metadata": {},
     "output_type": "execute_result"
    },
    {
     "data": {
      "image/png": "[encoded data removed]",
      "text/plain": [
       "<Figure size 432x288 with 1 Axes>"
      ]
     },
     "metadata": {
      "needs_background": "light"
     },
     "output_type": "display_data"
    }
   ],
   "source": [
    "import pandas as pd\n",
    "import seaborn as sns\n",
    "\n",
    "times = slows.copy()\n",
    "df = pd.DataFrame(times.values(), index=times.keys(), columns=[\"Slow\"])\n",
    "df.reset_index(inplace=True)\n",
    "\n",
    "df[\"Fast\"] = fasts.values()\n",
    "melted = pd.melt(df, id_vars=\"index\")\n",
    "melted.rename(columns={\"index\": \"nodes\", \"variable\": \"Embedding Type\", \"value\": \"time (s)\"},\n",
    "              inplace=True)\n",
    "melted.head()\n",
    "melted[\"Embedding Type\"].replace({\"Slow\": r\"$YY^\\top$\", \"Fast\": \"Lanczos\"}, inplace=True)\n",
    "ax = sns.lineplot(data=melted, x=\"nodes\", y=\"time (s)\", hue=\"Embedding Type\")\n",
    "ax.set(title=r\"Speed comparison of Lanczos algorithm compared to calculating $YY^\\top$\")"
   ]
  }
 ],
 "metadata": {
  "kernelspec": {
   "display_name": "Python 3",
   "language": "python",
   "name": "python3"
  },
  "language_info": {
   "codemirror_mode": {
    "name": "ipython",
    "version": 3
   },
   "file_extension": ".py",
   "mimetype": "text/x-python",
   "name": "python",
   "nbconvert_exporter": "python",
   "pygments_lexer": "ipython3",
   "version": "3.8.5"
  }
 },
 "nbformat": 4,
 "nbformat_minor": 4
}
