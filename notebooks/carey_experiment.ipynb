{
 "cells": [
  {
   "cell_type": "markdown",
   "metadata": {},
   "source": [
    "# Carey's experiment"
   ]
  },
  {
   "cell_type": "markdown",
   "metadata": {},
   "source": [
    "2-block SBM G ~ SBM(n, pi, B)  \n",
    "B = [p^2, pq; pq, q^2]  \n",
    "p, q = 1/3, 1/4"
   ]
  },
  {
   "cell_type": "markdown",
   "metadata": {},
   "source": [
    "just setting an even number n=500 of nodes in each community, since code for drawing node communities stochastically isn't as accessible (e.g., I don't know where it is... and I think it shouldn't change much? maybe I'm wrong?)"
   ]
  },
  {
   "cell_type": "markdown",
   "metadata": {},
   "source": [
    "so the pi inputted into `vfun` = 1/2 in this case, I think? so that it can be a scalar?  \n",
    "\n",
    "nodes in community 1 drawn from N(q, vfun(pi, q, p, ci=1)/n)  \n",
    "nodes in community 2 drawn from N(q, vfun(pi, q, p, ci=2)/n)  "
   ]
  },
  {
   "cell_type": "code",
   "execution_count": null,
   "metadata": {},
   "outputs": [],
   "source": [
    "import numpy as np\n",
    "from scipy.stats import norm\n",
    "from graspologic.simulations import sbm\n",
    "from graspologic.plot import binary_heatmap\n",
    "import seaborn as sns\n",
    "from matplotlib import pyplot as plt\n",
    "np.random.seed(1)\n",
    "\n",
    "def vfun(pi, p, q, ci=1):\n",
    "    if ci==1:\n",
    "        num = pi*p**4*(1-p**2) + (1-pi)*p*q**3*(1-p*q)\n",
    "    else:\n",
    "        num = pi*p**3*q*(1-p*q) + (1-pi)*q**4*(1-q**2)\n",
    "    \n",
    "    denom = ((pi*p**2 + (1-pi)*q**2))**2\n",
    "    return num / denom\n",
    "\n",
    "def make_community(mu, sig, n=500):\n",
    "    return np.random.normal()\n",
    "    return norm.rvs(mu, sig, size=n)\n",
    "\n",
    "def gen_covariates(p, q, pi, n=250):\n",
    "    c1 = np.random.normal(p, np.sqrt(vfun(pi, q, p, ci=1)/n), size=n)\n",
    "    c2 = np.random.normal(p, np.sqrt(vfun(1-pi, p, q, ci=2)/n), size=n)\n",
    "    covariates = np.concatenate((c1, c2))\n",
    "    \n",
    "    return covariates\n",
    "\n",
    "p, q = 1/3, 1/4\n",
    "pi = 1/2\n",
    "n = 500\n",
    "nvec = [int(n*pi), int(n*(1-pi))]\n",
    "B = np.array([[p**2, p*q],\n",
    "              [p*q, q**2]])\n",
    "\n",
    "A, labels = sbm(nvec, B, return_labels=True)\n",
    "labels += 1\n",
    "\n",
    "X = gen_covariates(p, q, pi, n=int(n*pi))\n",
    "\n",
    "fig, axs = plt.subplots(1, 2, figsize=(10,5))\n",
    "binary_heatmap(A, ax=axs[0], inner_hier_labels=labels, cbar=False, title=\"Graph\")\n",
    "sns.histplot(X, ax=axs[1], fill=False, color='k').set_title(\"Covariates\")"
   ]
  },
  {
   "cell_type": "code",
   "execution_count": null,
   "metadata": {},
   "outputs": [],
   "source": [
    "from graspologic.embed import CovariateAssistedEmbed as CASE\n",
    "from graspologic.plot import pairplot\n",
    "\n",
    "case = CASE(n_components=1)\n",
    "latents = case.fit_transform(A, covariates=X)\n",
    "\n",
    "pairplot(latents, labels=labels)"
   ]
  },
  {
   "cell_type": "markdown",
   "metadata": {},
   "source": [
    "## default alpha isn't super reasonable"
   ]
  },
  {
   "cell_type": "code",
   "execution_count": null,
   "metadata": {},
   "outputs": [],
   "source": [
    "ax = sns.histplot(latents)\n",
    "ax.set_title(\"latent embedding into 1d: not great separation \\nwith default alpha=ratio of leading eigenvalues of L and XX^T\");"
   ]
  },
  {
   "cell_type": "code",
   "execution_count": null,
   "metadata": {},
   "outputs": [],
   "source": [
    "def plot_latents(latent_positions, *, title, labels, ax=None):\n",
    "    if ax is None:\n",
    "        ax = plt.gca()\n",
    "    plot = sns.scatterplot(latent_positions[:, 0], latent_positions[:, 1], hue=labels, \n",
    "                           linewidth=0, s=10, ax=ax, palette=\"Set1\")\n",
    "    plot.set_title(title, wrap=True);\n",
    "    ax.axes.xaxis.set_visible(False)\n",
    "    ax.axes.yaxis.set_visible(False)\n",
    "    ax.legend(loc=\"upper right\", title=\"Community\")\n",
    "    \n",
    "    return plot\n",
    "\n",
    "case = CASE(n_components=2)\n",
    "latents = case.fit_transform(A, covariates=X)\n",
    "\n",
    "plot_latents(latents, title=\"into 2 dimensions\", labels=labels)"
   ]
  },
  {
   "cell_type": "code",
   "execution_count": null,
   "metadata": {},
   "outputs": [],
   "source": [
    "from warnings import filterwarnings\n",
    "filterwarnings(\"ignore\")\n",
    "\n",
    "fig, axs = plt.subplots(nrows=3, ncols=3, figsize=(10, 10))\n",
    "alphas = np.linspace(0,0.2,num=20).tolist()+[0.5]\n",
    "# for a, ax in zip(np.geomspace(10e-5, 100, num=9), axs.flat):\n",
    "for a, ax in zip(alphas, axs.flat):\n",
    "    case = CASE(n_components=2, alpha=a)\n",
    "    l_ = case.fit_transform(A, covariates=X)\n",
    "    plot_latents(l_, title=f\"weight: {a:.3f}\", labels=labels, ax=ax)\n",
    "    ax.get_legend().remove()\n",
    "    \n",
    "fig.suptitle(r\"Comparison of different alphas\", y=1, fontsize=25);\n",
    "plt.tight_layout()"
   ]
  },
  {
   "cell_type": "markdown",
   "metadata": {},
   "source": [
    "## embedding with best alpha I can see there"
   ]
  },
  {
   "cell_type": "code",
   "execution_count": null,
   "metadata": {},
   "outputs": [],
   "source": [
    "import pandas as pd\n",
    "\n",
    "alpha = 2\n",
    "case = CASE(n_components=1, alpha=alpha)\n",
    "latents = case.fit_transform(A, covariates=X)\n",
    "\n",
    "data = pd.DataFrame({\"labels\": labels, \"latents\": latents.squeeze()})\n",
    "ax = sns.histplot(data, x=\"latents\", bins=20, kde=True, hue=\"labels\", \n",
    "                  palette=[\"red\", \"blue\"])\n",
    "ax.set_title(\"1d embedding of latents with alpha=2, \\nalpha manually set\");"
   ]
  },
  {
   "cell_type": "markdown",
   "metadata": {},
   "source": [
    "## ARI plot"
   ]
  },
  {
   "cell_type": "markdown",
   "metadata": {},
   "source": [
    "I think Teresa passed-to-ranks inside her version of CASE, graspologic implementation doesn't do that (should it?)"
   ]
  },
  {
   "cell_type": "code",
   "execution_count": null,
   "metadata": {},
   "outputs": [],
   "source": [
    "??MASE"
   ]
  },
  {
   "cell_type": "code",
   "execution_count": null,
   "metadata": {},
   "outputs": [],
   "source": [
    "from sklearn.metrics import adjusted_rand_score, rand_score\n",
    "from sklearn.mixture import GaussianMixture as GMM\n",
    "from graspologic.embed import AdjacencySpectralEmbed as ASE\n",
    "from graspologic.embed import OmnibusEmbed\n",
    "from graspologic.embed import MultipleASE as MASE\n",
    "\n",
    "def ARI(embedding, true_labels):\n",
    "    gmm = GMM(n_components=2, covariance_type=\"full\")\n",
    "    pred = gmm.fit_predict(embedding)\n",
    "    return adjusted_rand_score(true_labels, pred)\n",
    "\n",
    "p, q = 1/3, 1/4\n",
    "\n",
    "aris_case_assort = {}\n",
    "aris_case_nonassort = {}\n",
    "aris_ase_cov = {}\n",
    "aris_omni = {}\n",
    "aris_mase = {}\n",
    "alphas = np.linspace(0,0.2,num=20).tolist()+[0.5]\n",
    "for alpha in alphas:\n",
    "    \n",
    "    # CASE assort\n",
    "    case = CASE(n_components=1, alpha=alpha, embedding_alg=\"assortative\")\n",
    "    latents = case.fit_transform(A, covariates=X)\n",
    "    aris_case_assort[alpha] = ARI(latents, labels)\n",
    "    \n",
    "    # CASE nonassort\n",
    "    case = CASE(n_components=1, alpha=alpha, embedding_alg=\"non-assortative\")\n",
    "    latents = case.fit_transform(A, covariates=X)\n",
    "    aris_case_nonassort[alpha] = ARI(latents, labels)\n",
    "\n",
    "# ASE A\n",
    "ase = ASE(n_components=1)\n",
    "latents = ase.fit_transform(A)\n",
    "ari_ase_A = ARI(latents, labels)\n",
    "\n",
    "# ASE covariates\n",
    "ase = ASE(n_components=1)\n",
    "latents = ase.fit_transform(np.outer(X, X))\n",
    "ari_ase_cov = ARI(latents, labels)\n",
    "\n",
    "# OMNI\n",
    "omni = OmnibusEmbed(n_components=1)\n",
    "Zhat = omni.fit_transform([A, np.outer(X, X)])\n",
    "latents = .5*Zhat[0] + .5*Zhat[1]\n",
    "ari_omni = ARI(latents, labels)\n",
    "\n",
    "# MASE\n",
    "mase = MASE(n_components=1)\n",
    "latents = mase.fit_transform([A, np.outer(X,X)])\n",
    "ari_mase = ARI(latents, labels)\n",
    "\n",
    "\n",
    "    \n",
    "fig, ax = plt.subplots(figsize=(10, 4))\n",
    "ax.plot(aris_case_assort.keys(), aris_case_assort.values(), c=\"blue\", label=\"CASE (assort)\")\n",
    "ax.plot(aris_case_nonassort.keys(), aris_case_nonassort.values(), c=\"orange\", label=\"CASE (non-assort)\")\n",
    "ax.plot(0, ari_ase_A,'ro', label='ASE (graph)')\n",
    "ax.plot(alphas[-1], ari_ase_cov, 'kx', label='ASE (covariates)')\n",
    "ax.axhline(ari_mase, color='gold',linestyle='-', label='MASE')\n",
    "ax.axhline(ari_omni, color='grey',linestyle=':', label='OMNI')\n",
    "\n",
    "plt.legend(loc=\"best\")"
   ]
  }
 ],
 "metadata": {
  "kernelspec": {
   "display_name": "Python 3",
   "language": "python",
   "name": "python3"
  },
  "language_info": {
   "codemirror_mode": {
    "name": "ipython",
    "version": 3
   },
   "file_extension": ".py",
   "mimetype": "text/x-python",
   "name": "python",
   "nbconvert_exporter": "python",
   "pygments_lexer": "ipython3",
   "version": "3.8.5"
  }
 },
 "nbformat": 4,
 "nbformat_minor": 4
}
