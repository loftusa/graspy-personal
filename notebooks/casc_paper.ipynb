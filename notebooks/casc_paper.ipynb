{
 "cells": [
  {
   "cell_type": "markdown",
   "metadata": {},
   "source": [
    "# CASC playground notebook + paper notes"
   ]
  },
  {
   "cell_type": "markdown",
   "metadata": {},
   "source": [
    "## Summary"
   ]
  },
  {
   "cell_type": "markdown",
   "metadata": {},
   "source": [
    "we can use node covariates to cluster better. We can get an upper bound on misclustering rate with a joint mixture model. Casc is usually better than both normal spectral clustering and canonical correlation analysis."
   ]
  },
  {
   "cell_type": "markdown",
   "metadata": {},
   "source": [
    "## Introduction"
   ]
  },
  {
   "cell_type": "markdown",
   "metadata": {},
   "source": [
    "studying relationships in structured data is important.\n",
    "\n",
    "A common approach to this is to find clusters in structured data.\n",
    "\n",
    "Common methods to finding node clusters include bayesian, MLE, and spectral approaches. MLE is more interpretable, spectral is usually more accurate for sparse graphs and is computationally feasible for large graphs, bayesian is most flexible.\n",
    "\n",
    "Nodes are also associated with additional measurements a lot of the time (age if the nodes are people, for instance). We can use these measurements to cluster better. They also help hella for interpreting clusters.\n",
    "\n",
    "This is not a new idea, but most older methods don't provide any statistical guarantees. Bayesian methods eat categorical data and are computationally expensive. Other methods are kinda random and do a bunch of stuff, but don't give statistical guarantees. This paper gives the first one, as far as we can tell.\n",
    "\n",
    "this work is a spectral approach, but it's better. Assortive CASC can do this by adding the covariance matrix of the node covariates to the regularized graph Laplacian. CASC uses the square of the regularized graph Laplacian, which is more general. It also uses a tuning parameter to balance out the contribution of the Laplacian and the covariance matrix in determining clustering.\n",
    "\n",
    "We get the statistical guarantee by defining the node-contextualized sbm, which combines the sbm with a block-mixture model for node covariates. From this we can get a bound on casc's misclustering rate.\n",
    "\n",
    "Canonical correlation analysis is worse than casc (if covariates are Bernoulli), but it's faster and doesn't require tuning. Our tuning parameter can have a reasonable default value though (e.g., the within-cluster sum-of-squares)."
   ]
  },
  {
   "cell_type": "markdown",
   "metadata": {},
   "source": [
    "## Methodology"
   ]
  },
  {
   "cell_type": "code",
   "execution_count": 5,
   "metadata": {},
   "outputs": [
    {
     "data": {
      "text/plain": [
       "array([[0.        , 0.        , 0.0364258 , 0.03839143, 0.0364258 ],\n",
       "       [0.        , 0.        , 0.03220553, 0.03394343, 0.03220553],\n",
       "       [0.0364258 , 0.03220553, 0.        , 0.03505419, 0.03325942],\n",
       "       [0.03839143, 0.03394343, 0.03505419, 0.        , 0.03505419],\n",
       "       [0.0364258 , 0.03220553, 0.03325942, 0.03505419, 0.        ]])"
      ]
     },
     "execution_count": 5,
     "metadata": {},
     "output_type": "execute_result"
    },
    {
     "data": {
      "image/png": "[encoded data removed]",
      "text/plain": [
       "<Figure size 720x720 with 2 Axes>"
      ]
     },
     "metadata": {
      "needs_background": "light"
     },
     "output_type": "display_data"
    }
   ],
   "source": [
    "# gonna do this in code as I read\n",
    "import numpy as np\n",
    "import graspologic as gs\n",
    "from graspologic.simulations import sbm\n",
    "from graspologic.plot import heatmap\n",
    "\n",
    "n = 10\n",
    "n_communities = 3\n",
    "p, q = .9, .3\n",
    "B = np.array([[p, q, q], \n",
    "              [q, p, q],\n",
    "              [q, q, p]])\n",
    "\n",
    "B2 = np.array([[q, p, p], \n",
    "               [p, q, p],\n",
    "               [p, p, q]])\n",
    "\n",
    "A, labels = sbm([n, n, n], B, return_labels=True)\n",
    "N = A.shape[0]\n",
    "L = gs.utils.to_laplace(A, form='R-DAD')\n",
    "\n",
    "heatmap(L)\n",
    "L[:5, :5]"
   ]
  },
  {
   "cell_type": "code",
   "execution_count": 2,
   "metadata": {},
   "outputs": [
    {
     "data": {
      "text/plain": [
       "array([[0.        , 0.03171481, 0.03342623, 0.03171481, 0.03282535],\n",
       "       [0.03171481, 0.        , 0.03505419, 0.03325942, 0.        ],\n",
       "       [0.03342623, 0.03505419, 0.        , 0.        , 0.03628166],\n",
       "       [0.03171481, 0.03325942, 0.        , 0.        , 0.03442405],\n",
       "       [0.03282535, 0.        , 0.03628166, 0.03442405, 0.        ]])"
      ]
     },
     "execution_count": 2,
     "metadata": {},
     "output_type": "execute_result"
    }
   ],
   "source": [
    "d = A.sum(axis=0)\n",
    "tau = (1/A.shape[0]) * np.sum(d)\n",
    "\n",
    "D = np.diag(1/np.sqrt(d + tau))\n",
    "(D @ A @ D)[:5, :5]"
   ]
  },
  {
   "cell_type": "code",
   "execution_count": 3,
   "metadata": {},
   "outputs": [
    {
     "data": {
      "text/plain": [
       "array([[0.        , 0.03171481, 0.03342623, 0.03171481, 0.03282535],\n",
       "       [0.03171481, 0.        , 0.03505419, 0.03325942, 0.        ],\n",
       "       [0.03342623, 0.03505419, 0.        , 0.        , 0.03628166],\n",
       "       [0.03171481, 0.03325942, 0.        , 0.        , 0.03442405],\n",
       "       [0.03282535, 0.        , 0.03628166, 0.03442405, 0.        ]])"
      ]
     },
     "execution_count": 3,
     "metadata": {},
     "output_type": "execute_result"
    }
   ],
   "source": [
    "L[:5, :5]"
   ]
  },
  {
   "cell_type": "markdown",
   "metadata": {},
   "source": [
    "#### covariate matrix"
   ]
  },
  {
   "cell_type": "markdown",
   "metadata": {},
   "source": [
    "each node has bounded covariate vector $X_i \\in [-J,J]^R$  \n",
    "$X \\in [-J, J]^{N \\times R}$ is the covariate matrix where each row corresponds to a node covariate vector"
   ]
  },
  {
   "cell_type": "code",
   "execution_count": 6,
   "metadata": {},
   "outputs": [
    {
     "data": {
      "text/plain": [
       "array([[1, 0, 0],\n",
       "       [1, 0, 0],\n",
       "       [1, 0, 0],\n",
       "       [1, 0, 0],\n",
       "       [1, 0, 0],\n",
       "       [1, 0, 0],\n",
       "       [1, 0, 0],\n",
       "       [1, 0, 0],\n",
       "       [1, 0, 0],\n",
       "       [1, 0, 0],\n",
       "       [0, 1, 0],\n",
       "       [0, 1, 0],\n",
       "       [0, 0, 0],\n",
       "       [1, 1, 0],\n",
       "       [0, 1, 0],\n",
       "       [0, 1, 0],\n",
       "       [0, 1, 0],\n",
       "       [0, 1, 0],\n",
       "       [0, 1, 0],\n",
       "       [1, 0, 0],\n",
       "       [0, 0, 1],\n",
       "       [0, 0, 1],\n",
       "       [0, 1, 1],\n",
       "       [0, 0, 1],\n",
       "       [0, 1, 0],\n",
       "       [0, 0, 1],\n",
       "       [0, 0, 1],\n",
       "       [0, 0, 1],\n",
       "       [0, 0, 1],\n",
       "       [0, 0, 1]])"
      ]
     },
     "execution_count": 6,
     "metadata": {},
     "output_type": "execute_result"
    }
   ],
   "source": [
    "# generate a reasonable covariate matrix for A.\n",
    "# in the kth block, the probability of the kth covariate being 1 is m1\n",
    "# and the probability of the other covariates being 1 is m2\n",
    "m1 = .9\n",
    "m2 = .1\n",
    "\n",
    "M = np.array([[m1, m2, m2],\n",
    "              [m2, m1, m2],\n",
    "              [m2, m2, m1]])\n",
    "\n",
    "# Generate X\n",
    "\n",
    "# for node i in community k,\n",
    "# create an array of size n_communities,\n",
    "# where the kth element of the array is 1 with probability m1,\n",
    "# and every other element is 1 with probability m2.\n",
    "# TODO: implement in pure numpy without loops\n",
    "X = []\n",
    "for i, _ in enumerate(A):\n",
    "    Xi = []\n",
    "    k = labels[i]\n",
    "    for ii in range(n_communities):\n",
    "        p = M[k, ii]\n",
    "        Xi.append(np.random.choice([1, 0], p=[p, 1-p]))\n",
    "    X.append(Xi)\n",
    "X = np.array(X)\n",
    "X"
   ]
  },
  {
   "cell_type": "code",
   "execution_count": null,
   "metadata": {},
   "outputs": [],
   "source": []
  }
 ],
 "metadata": {
  "kernelspec": {
   "display_name": "Python 3",
   "language": "python",
   "name": "python3"
  },
  "language_info": {
   "codemirror_mode": {
    "name": "ipython",
    "version": 3
   },
   "file_extension": ".py",
   "mimetype": "text/x-python",
   "name": "python",
   "nbconvert_exporter": "python",
   "pygments_lexer": "ipython3",
   "version": "3.8.5"
  }
 },
 "nbformat": 4,
 "nbformat_minor": 4
}
