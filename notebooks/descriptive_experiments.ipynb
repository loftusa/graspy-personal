{
 "cells": [
  {
   "cell_type": "code",
   "execution_count": 8,
   "metadata": {},
   "outputs": [],
   "source": [
    "import numpy as np\n",
    "import pandas as pd\n",
    "import graspologic as gs\n",
    "import seaborn as sns\n",
    "import matplotlib.pyplot as plt\n",
    "\n",
    "from graspologic.embed import AdjacencySpectralEmbed as ASE\n",
    "from graspologic.simulations import sbm\n",
    "from graspologic.utils import remove_vertices\n",
    "from graspologic.plot import pairplot, heatmap"
   ]
  },
  {
   "cell_type": "code",
   "execution_count": 9,
   "metadata": {},
   "outputs": [],
   "source": [
    "P = np.array([[.8, .2], \n",
    "              [.2, .8]])\n",
    "M = sbm([50, 50], P)\n",
    "A, a = remove_vertices(M, indices=[0, -1], return_removed=True)\n",
    "\n",
    "ase = ASE(n_components=2)\n",
    "ase.fit(A)\n",
    "\n",
    "fitted_latents = ase.latent_left_\n",
    "predicted_latents = ase.predict(A)"
   ]
  },
  {
   "cell_type": "markdown",
   "metadata": {},
   "source": [
    "### they're close but they're not on top of each other"
   ]
  },
  {
   "cell_type": "code",
   "execution_count": 3,
   "metadata": {},
   "outputs": [
    {
     "data": {
      "text/plain": [
       "False"
      ]
     },
     "execution_count": 3,
     "metadata": {},
     "output_type": "execute_result"
    }
   ],
   "source": [
    "np.allclose(fitted_latents, predicted_latents)"
   ]
  },
  {
   "cell_type": "code",
   "execution_count": 4,
   "metadata": {},
   "outputs": [
    {
     "data": {
      "text/plain": [
       "True"
      ]
     },
     "execution_count": 4,
     "metadata": {},
     "output_type": "execute_result"
    }
   ],
   "source": [
    "np.allclose(fitted_latents, predicted_latents, atol=1e-1)"
   ]
  },
  {
   "cell_type": "code",
   "execution_count": 5,
   "metadata": {},
   "outputs": [
    {
     "data": {
      "text/plain": [
       "<seaborn.axisgrid.PairGrid at 0x10d079940>"
      ]
     },
     "execution_count": 5,
     "metadata": {},
     "output_type": "execute_result"
    },
    {
     "data": {
      "image/png": "[encoded data removed]",
      "text/plain": [
       "<Figure size 360x360 with 6 Axes>"
      ]
     },
     "metadata": {
      "needs_background": "light"
     },
     "output_type": "display_data"
    }
   ],
   "source": [
    "pairplot(fitted_latents)"
   ]
  },
  {
   "cell_type": "code",
   "execution_count": 6,
   "metadata": {},
   "outputs": [
    {
     "data": {
      "text/plain": [
       "<seaborn.axisgrid.PairGrid at 0x142482b00>"
      ]
     },
     "execution_count": 6,
     "metadata": {},
     "output_type": "execute_result"
    },
    {
     "data": {
      "image/png": "[encoded data removed]",
      "text/plain": [
       "<Figure size 360x360 with 6 Axes>"
      ]
     },
     "metadata": {
      "needs_background": "light"
     },
     "output_type": "display_data"
    }
   ],
   "source": [
    "pairplot(predicted_latents)"
   ]
  },
  {
   "cell_type": "code",
   "execution_count": 7,
   "metadata": {},
   "outputs": [
    {
     "data": {
      "text/html": [
       "<div>\n",
       "<style scoped>\n",
       "    .dataframe tbody tr th:only-of-type {\n",
       "        vertical-align: middle;\n",
       "    }\n",
       "\n",
       "    .dataframe tbody tr th {\n",
       "        vertical-align: top;\n",
       "    }\n",
       "\n",
       "    .dataframe thead th {\n",
       "        text-align: right;\n",
       "    }\n",
       "</style>\n",
       "<table border=\"1\" class=\"dataframe\">\n",
       "  <thead>\n",
       "    <tr style=\"text-align: right;\">\n",
       "      <th></th>\n",
       "      <th>fit_x1</th>\n",
       "      <th>fit_x2</th>\n",
       "      <th>pred_x1</th>\n",
       "      <th>pred_x2</th>\n",
       "    </tr>\n",
       "  </thead>\n",
       "  <tbody>\n",
       "    <tr>\n",
       "      <th>0</th>\n",
       "      <td>0.768279</td>\n",
       "      <td>-0.527250</td>\n",
       "      <td>0.759811</td>\n",
       "      <td>-0.517829</td>\n",
       "    </tr>\n",
       "    <tr>\n",
       "      <th>1</th>\n",
       "      <td>0.594401</td>\n",
       "      <td>-0.553051</td>\n",
       "      <td>0.589333</td>\n",
       "      <td>-0.545407</td>\n",
       "    </tr>\n",
       "    <tr>\n",
       "      <th>2</th>\n",
       "      <td>0.662643</td>\n",
       "      <td>-0.637066</td>\n",
       "      <td>0.656305</td>\n",
       "      <td>-0.627186</td>\n",
       "    </tr>\n",
       "    <tr>\n",
       "      <th>3</th>\n",
       "      <td>0.717248</td>\n",
       "      <td>-0.612299</td>\n",
       "      <td>0.709790</td>\n",
       "      <td>-0.601978</td>\n",
       "    </tr>\n",
       "    <tr>\n",
       "      <th>4</th>\n",
       "      <td>0.782349</td>\n",
       "      <td>-0.495871</td>\n",
       "      <td>0.773564</td>\n",
       "      <td>-0.486843</td>\n",
       "    </tr>\n",
       "    <tr>\n",
       "      <th>...</th>\n",
       "      <td>...</td>\n",
       "      <td>...</td>\n",
       "      <td>...</td>\n",
       "      <td>...</td>\n",
       "    </tr>\n",
       "    <tr>\n",
       "      <th>93</th>\n",
       "      <td>0.669502</td>\n",
       "      <td>0.478565</td>\n",
       "      <td>0.663098</td>\n",
       "      <td>0.471144</td>\n",
       "    </tr>\n",
       "    <tr>\n",
       "      <th>94</th>\n",
       "      <td>0.791852</td>\n",
       "      <td>0.593069</td>\n",
       "      <td>0.782961</td>\n",
       "      <td>0.582273</td>\n",
       "    </tr>\n",
       "    <tr>\n",
       "      <th>95</th>\n",
       "      <td>0.760069</td>\n",
       "      <td>0.663248</td>\n",
       "      <td>0.751851</td>\n",
       "      <td>0.651620</td>\n",
       "    </tr>\n",
       "    <tr>\n",
       "      <th>96</th>\n",
       "      <td>0.763333</td>\n",
       "      <td>0.481036</td>\n",
       "      <td>0.755079</td>\n",
       "      <td>0.472603</td>\n",
       "    </tr>\n",
       "    <tr>\n",
       "      <th>97</th>\n",
       "      <td>0.589517</td>\n",
       "      <td>0.514870</td>\n",
       "      <td>0.584613</td>\n",
       "      <td>0.507927</td>\n",
       "    </tr>\n",
       "  </tbody>\n",
       "</table>\n",
       "<p>98 rows × 4 columns</p>\n",
       "</div>"
      ],
      "text/plain": [
       "      fit_x1    fit_x2   pred_x1   pred_x2\n",
       "0   0.768279 -0.527250  0.759811 -0.517829\n",
       "1   0.594401 -0.553051  0.589333 -0.545407\n",
       "2   0.662643 -0.637066  0.656305 -0.627186\n",
       "3   0.717248 -0.612299  0.709790 -0.601978\n",
       "4   0.782349 -0.495871  0.773564 -0.486843\n",
       "..       ...       ...       ...       ...\n",
       "93  0.669502  0.478565  0.663098  0.471144\n",
       "94  0.791852  0.593069  0.782961  0.582273\n",
       "95  0.760069  0.663248  0.751851  0.651620\n",
       "96  0.763333  0.481036  0.755079  0.472603\n",
       "97  0.589517  0.514870  0.584613  0.507927\n",
       "\n",
       "[98 rows x 4 columns]"
      ]
     },
     "execution_count": 7,
     "metadata": {},
     "output_type": "execute_result"
    }
   ],
   "source": [
    "fitted_latents_df = pd.DataFrame(fitted_latents, columns=[\"fit_x1\", \"fit_x2\"])\n",
    "predicted_latents_df = pd.DataFrame(predicted_latents, columns=[\"pred_x1\", \"pred_x2\"])\n",
    "pd.concat([fitted_latents_df, predicted_latents_df], axis='columns')"
   ]
  },
  {
   "cell_type": "markdown",
   "metadata": {},
   "source": [
    "### anton's new thing"
   ]
  },
  {
   "cell_type": "markdown",
   "metadata": {},
   "source": [
    "1. diag aug the matrix before doing anything else (before fit, etc)\n",
    "2. do not diag_aug the matrix ever"
   ]
  },
  {
   "cell_type": "code",
   "execution_count": 10,
   "metadata": {},
   "outputs": [],
   "source": [
    "# set up stuff\n",
    "ase = ASE(n_components=2, diag_aug=False)\n",
    "P = np.array([[.8, .2], \n",
    "              [.2, .8]])\n",
    "M = sbm([50, 50], P)\n",
    "A, a = remove_vertices(M, indices=[0, -1], return_removed=True)\n",
    "\n",
    "# fit and predict\n",
    "ase.fit(A)\n",
    "fitted_latents = ase.latent_left_\n",
    "predicted_latents = ase.predict(A)"
   ]
  },
  {
   "cell_type": "code",
   "execution_count": 11,
   "metadata": {},
   "outputs": [
    {
     "data": {
      "text/plain": [
       "True"
      ]
     },
     "execution_count": 11,
     "metadata": {},
     "output_type": "execute_result"
    }
   ],
   "source": [
    "# eyyyyyyyyyyyyyyyyyyyyyyyyyyyy\n",
    "np.allclose(fitted_latents, predicted_latents)"
   ]
  },
  {
   "cell_type": "code",
   "execution_count": null,
   "metadata": {},
   "outputs": [],
   "source": []
  }
 ],
 "metadata": {
  "kernelspec": {
   "display_name": "Python 3",
   "language": "python",
   "name": "python3"
  },
  "language_info": {
   "codemirror_mode": {
    "name": "ipython",
    "version": 3
   },
   "file_extension": ".py",
   "mimetype": "text/x-python",
   "name": "python",
   "nbconvert_exporter": "python",
   "pygments_lexer": "ipython3",
   "version": "3.7.0"
  }
 },
 "nbformat": 4,
 "nbformat_minor": 4
}
