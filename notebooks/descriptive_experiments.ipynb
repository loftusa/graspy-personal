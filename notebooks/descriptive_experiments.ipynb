{
 "cells": [
  {
   "cell_type": "code",
   "execution_count": 18,
   "metadata": {},
   "outputs": [],
   "source": [
    "import numpy as np\n",
    "import pandas as pd\n",
    "import graspologic as gs\n",
    "import seaborn as sns\n",
    "import matplotlib.pyplot as plt\n",
    "\n",
    "from graspologic.embed import AdjacencySpectralEmbed as ASE\n",
    "from graspologic.simulations import sbm\n",
    "from graspologic.utils import remove_vertices, augment_diagonal\n",
    "from graspologic.plot import pairplot, heatmap"
   ]
  },
  {
   "cell_type": "code",
   "execution_count": 19,
   "metadata": {},
   "outputs": [],
   "source": [
    "P = np.array([[.8, .2], \n",
    "              [.2, .8]])\n",
    "M = sbm([50, 50], P)\n",
    "A, a = remove_vertices(M, indices=[0, -1], return_removed=True)\n",
    "\n",
    "ase = ASE(n_components=2)\n",
    "ase.fit(A)\n",
    "\n",
    "fitted_latents = ase.latent_left_\n",
    "predicted_latents = ase.predict(A)"
   ]
  },
  {
   "cell_type": "code",
   "execution_count": 20,
   "metadata": {},
   "outputs": [
    {
     "data": {
      "text/plain": [
       "array([[ 0.01427746,  0.0235149 ],\n",
       "       [ 0.01250587,  0.01617801],\n",
       "       [ 0.014191  ,  0.01865917],\n",
       "       [ 0.01333854,  0.01773226],\n",
       "       [ 0.01525935,  0.0214505 ],\n",
       "       [ 0.01366671,  0.02082442],\n",
       "       [ 0.011422  ,  0.01721948],\n",
       "       [ 0.01380026,  0.01710564],\n",
       "       [ 0.01340281,  0.01909489],\n",
       "       [ 0.01522994,  0.02062433],\n",
       "       [ 0.01530075,  0.01596945],\n",
       "       [ 0.01363091,  0.01950277],\n",
       "       [ 0.01436711,  0.01723484],\n",
       "       [ 0.0145814 ,  0.02165641],\n",
       "       [ 0.01515161,  0.01907866],\n",
       "       [ 0.01406504,  0.01778556],\n",
       "       [ 0.01531068,  0.01410655],\n",
       "       [ 0.01486453,  0.01953687],\n",
       "       [ 0.01481034,  0.01699258],\n",
       "       [ 0.01724925,  0.01962242],\n",
       "       [ 0.01520528,  0.0197773 ],\n",
       "       [ 0.01316389,  0.01480329],\n",
       "       [ 0.01588937,  0.02117608],\n",
       "       [ 0.01527592,  0.01676571],\n",
       "       [ 0.01412774,  0.01715521],\n",
       "       [ 0.01388614,  0.02250209],\n",
       "       [ 0.01498111,  0.01773297],\n",
       "       [ 0.01410017,  0.01158171],\n",
       "       [ 0.0125515 ,  0.01858795],\n",
       "       [ 0.01476356,  0.0180653 ],\n",
       "       [ 0.01387767,  0.01668741],\n",
       "       [ 0.01543007,  0.01937139],\n",
       "       [ 0.01435506,  0.01838507],\n",
       "       [ 0.01538085,  0.01390316],\n",
       "       [ 0.01296891,  0.01451189],\n",
       "       [ 0.01422503,  0.02268901],\n",
       "       [ 0.01425661,  0.0138056 ],\n",
       "       [ 0.01428272,  0.02048981],\n",
       "       [ 0.01557495,  0.02152647],\n",
       "       [ 0.01227849,  0.01786415],\n",
       "       [ 0.01561444,  0.02125697],\n",
       "       [ 0.01508331,  0.02018648],\n",
       "       [ 0.01291435,  0.01915993],\n",
       "       [ 0.01476157,  0.01663726],\n",
       "       [ 0.01393086,  0.01875998],\n",
       "       [ 0.01485223,  0.01927508],\n",
       "       [ 0.01450708,  0.01469923],\n",
       "       [ 0.0141597 ,  0.02053869],\n",
       "       [ 0.01304709,  0.02102049],\n",
       "       [ 0.01333343, -0.01669262],\n",
       "       [ 0.01677056, -0.01931097],\n",
       "       [ 0.01428737, -0.01242447],\n",
       "       [ 0.01468072, -0.01869068],\n",
       "       [ 0.0158678 , -0.01725396],\n",
       "       [ 0.01617108, -0.0194087 ],\n",
       "       [ 0.01542644, -0.01939622],\n",
       "       [ 0.016077  , -0.0188608 ],\n",
       "       [ 0.014266  , -0.01810435],\n",
       "       [ 0.01283242, -0.01999186],\n",
       "       [ 0.01646534, -0.01661261],\n",
       "       [ 0.01421443, -0.02091411],\n",
       "       [ 0.01351544, -0.01445684],\n",
       "       [ 0.01357481, -0.01758334],\n",
       "       [ 0.01404546, -0.01645977],\n",
       "       [ 0.01593671, -0.01874405],\n",
       "       [ 0.01582411, -0.0208995 ],\n",
       "       [ 0.01537036, -0.01797401],\n",
       "       [ 0.01520237, -0.01633199],\n",
       "       [ 0.01418697, -0.01455791],\n",
       "       [ 0.01424684, -0.01626699],\n",
       "       [ 0.0158202 , -0.01508037],\n",
       "       [ 0.01532084, -0.01851696],\n",
       "       [ 0.01485595, -0.02161935],\n",
       "       [ 0.01487264, -0.0192052 ],\n",
       "       [ 0.01366058, -0.01819553],\n",
       "       [ 0.0159277 , -0.01620443],\n",
       "       [ 0.01355878, -0.02003073],\n",
       "       [ 0.01326018, -0.01809927],\n",
       "       [ 0.01492005, -0.02036857],\n",
       "       [ 0.01551182, -0.01602505],\n",
       "       [ 0.01342565, -0.02098097],\n",
       "       [ 0.01233478, -0.01607836],\n",
       "       [ 0.01597373, -0.01683824],\n",
       "       [ 0.01434824, -0.02251863],\n",
       "       [ 0.0142349 , -0.01698027],\n",
       "       [ 0.01304254, -0.01878001],\n",
       "       [ 0.01545362, -0.02086766],\n",
       "       [ 0.01519574, -0.01606539],\n",
       "       [ 0.0120664 , -0.01728718],\n",
       "       [ 0.01497676, -0.01779388],\n",
       "       [ 0.01466587, -0.01660966],\n",
       "       [ 0.01544353, -0.01933562],\n",
       "       [ 0.01544264, -0.01537743],\n",
       "       [ 0.01615204, -0.01936073],\n",
       "       [ 0.01450799, -0.02134331],\n",
       "       [ 0.01522799, -0.01757498],\n",
       "       [ 0.01511923, -0.01507076],\n",
       "       [ 0.01509245, -0.01488774]])"
      ]
     },
     "execution_count": 20,
     "metadata": {},
     "output_type": "execute_result"
    }
   ],
   "source": [
    "ase._pinv_left"
   ]
  },
  {
   "cell_type": "markdown",
   "metadata": {},
   "source": [
    "### they're close but they're not on top of each other"
   ]
  },
  {
   "cell_type": "code",
   "execution_count": 21,
   "metadata": {},
   "outputs": [
    {
     "data": {
      "text/plain": [
       "False"
      ]
     },
     "execution_count": 21,
     "metadata": {},
     "output_type": "execute_result"
    }
   ],
   "source": [
    "np.allclose(fitted_latents, predicted_latents)"
   ]
  },
  {
   "cell_type": "code",
   "execution_count": 22,
   "metadata": {},
   "outputs": [
    {
     "data": {
      "text/plain": [
       "True"
      ]
     },
     "execution_count": 22,
     "metadata": {},
     "output_type": "execute_result"
    }
   ],
   "source": [
    "np.allclose(fitted_latents, predicted_latents, atol=1e-1)"
   ]
  },
  {
   "cell_type": "code",
   "execution_count": 23,
   "metadata": {},
   "outputs": [
    {
     "data": {
      "text/plain": [
       "<seaborn.axisgrid.PairGrid at 0x14426ae48>"
      ]
     },
     "execution_count": 23,
     "metadata": {},
     "output_type": "execute_result"
    },
    {
     "data": {
      "image/png": "[encoded data removed]",
      "text/plain": [
       "<Figure size 360x360 with 6 Axes>"
      ]
     },
     "metadata": {
      "needs_background": "light"
     },
     "output_type": "display_data"
    }
   ],
   "source": [
    "pairplot(fitted_latents)"
   ]
  },
  {
   "cell_type": "code",
   "execution_count": 24,
   "metadata": {},
   "outputs": [
    {
     "data": {
      "text/plain": [
       "<seaborn.axisgrid.PairGrid at 0x143cc9828>"
      ]
     },
     "execution_count": 24,
     "metadata": {},
     "output_type": "execute_result"
    },
    {
     "data": {
      "image/png": "[encoded data removed]",
      "text/plain": [
       "<Figure size 360x360 with 6 Axes>"
      ]
     },
     "metadata": {
      "needs_background": "light"
     },
     "output_type": "display_data"
    }
   ],
   "source": [
    "pairplot(predicted_latents)"
   ]
  },
  {
   "cell_type": "code",
   "execution_count": 25,
   "metadata": {},
   "outputs": [
    {
     "data": {
      "text/html": [
       "<div>\n",
       "<style scoped>\n",
       "    .dataframe tbody tr th:only-of-type {\n",
       "        vertical-align: middle;\n",
       "    }\n",
       "\n",
       "    .dataframe tbody tr th {\n",
       "        vertical-align: top;\n",
       "    }\n",
       "\n",
       "    .dataframe thead th {\n",
       "        text-align: right;\n",
       "    }\n",
       "</style>\n",
       "<table border=\"1\" class=\"dataframe\">\n",
       "  <thead>\n",
       "    <tr style=\"text-align: right;\">\n",
       "      <th></th>\n",
       "      <th>fit_x1</th>\n",
       "      <th>fit_x2</th>\n",
       "      <th>pred_x1</th>\n",
       "      <th>pred_x2</th>\n",
       "    </tr>\n",
       "  </thead>\n",
       "  <tbody>\n",
       "    <tr>\n",
       "      <th>0</th>\n",
       "      <td>0.685573</td>\n",
       "      <td>0.714361</td>\n",
       "      <td>0.678655</td>\n",
       "      <td>0.702967</td>\n",
       "    </tr>\n",
       "    <tr>\n",
       "      <th>1</th>\n",
       "      <td>0.600505</td>\n",
       "      <td>0.491473</td>\n",
       "      <td>0.595219</td>\n",
       "      <td>0.484635</td>\n",
       "    </tr>\n",
       "    <tr>\n",
       "      <th>2</th>\n",
       "      <td>0.681421</td>\n",
       "      <td>0.566848</td>\n",
       "      <td>0.674691</td>\n",
       "      <td>0.557999</td>\n",
       "    </tr>\n",
       "    <tr>\n",
       "      <th>3</th>\n",
       "      <td>0.640488</td>\n",
       "      <td>0.538690</td>\n",
       "      <td>0.634438</td>\n",
       "      <td>0.530646</td>\n",
       "    </tr>\n",
       "    <tr>\n",
       "      <th>4</th>\n",
       "      <td>0.732721</td>\n",
       "      <td>0.651646</td>\n",
       "      <td>0.724855</td>\n",
       "      <td>0.640589</td>\n",
       "    </tr>\n",
       "    <tr>\n",
       "      <th>...</th>\n",
       "      <td>...</td>\n",
       "      <td>...</td>\n",
       "      <td>...</td>\n",
       "      <td>...</td>\n",
       "    </tr>\n",
       "    <tr>\n",
       "      <th>93</th>\n",
       "      <td>0.775586</td>\n",
       "      <td>-0.588161</td>\n",
       "      <td>0.766927</td>\n",
       "      <td>-0.577782</td>\n",
       "    </tr>\n",
       "    <tr>\n",
       "      <th>94</th>\n",
       "      <td>0.696642</td>\n",
       "      <td>-0.648390</td>\n",
       "      <td>0.689613</td>\n",
       "      <td>-0.638048</td>\n",
       "    </tr>\n",
       "    <tr>\n",
       "      <th>95</th>\n",
       "      <td>0.731215</td>\n",
       "      <td>-0.533911</td>\n",
       "      <td>0.723523</td>\n",
       "      <td>-0.525033</td>\n",
       "    </tr>\n",
       "    <tr>\n",
       "      <th>96</th>\n",
       "      <td>0.725993</td>\n",
       "      <td>-0.457836</td>\n",
       "      <td>0.718355</td>\n",
       "      <td>-0.450222</td>\n",
       "    </tr>\n",
       "    <tr>\n",
       "      <th>97</th>\n",
       "      <td>0.724707</td>\n",
       "      <td>-0.452276</td>\n",
       "      <td>0.717083</td>\n",
       "      <td>-0.444755</td>\n",
       "    </tr>\n",
       "  </tbody>\n",
       "</table>\n",
       "<p>98 rows × 4 columns</p>\n",
       "</div>"
      ],
      "text/plain": [
       "      fit_x1    fit_x2   pred_x1   pred_x2\n",
       "0   0.685573  0.714361  0.678655  0.702967\n",
       "1   0.600505  0.491473  0.595219  0.484635\n",
       "2   0.681421  0.566848  0.674691  0.557999\n",
       "3   0.640488  0.538690  0.634438  0.530646\n",
       "4   0.732721  0.651646  0.724855  0.640589\n",
       "..       ...       ...       ...       ...\n",
       "93  0.775586 -0.588161  0.766927 -0.577782\n",
       "94  0.696642 -0.648390  0.689613 -0.638048\n",
       "95  0.731215 -0.533911  0.723523 -0.525033\n",
       "96  0.725993 -0.457836  0.718355 -0.450222\n",
       "97  0.724707 -0.452276  0.717083 -0.444755\n",
       "\n",
       "[98 rows x 4 columns]"
      ]
     },
     "execution_count": 25,
     "metadata": {},
     "output_type": "execute_result"
    }
   ],
   "source": [
    "fitted_latents_df = pd.DataFrame(fitted_latents, columns=[\"fit_x1\", \"fit_x2\"])\n",
    "predicted_latents_df = pd.DataFrame(predicted_latents, columns=[\"pred_x1\", \"pred_x2\"])\n",
    "pd.concat([fitted_latents_df, predicted_latents_df], axis='columns')"
   ]
  },
  {
   "cell_type": "markdown",
   "metadata": {},
   "source": [
    "### anton experiment"
   ]
  },
  {
   "cell_type": "markdown",
   "metadata": {},
   "source": [
    "1. diag aug the matrix before doing anything else (before fit, etc)\n",
    "2. do not diag_aug the matrix ever"
   ]
  },
  {
   "cell_type": "markdown",
   "metadata": {},
   "source": [
    "### 1"
   ]
  },
  {
   "cell_type": "code",
   "execution_count": 26,
   "metadata": {},
   "outputs": [],
   "source": [
    "# set up stuff\n",
    "ase = ASE(n_components=2, diag_aug=True)\n",
    "P = np.array([[.8, .2], \n",
    "              [.2, .8]])\n",
    "M = sbm([50, 50], P)\n",
    "A, a = remove_vertices(M, indices=[0, -1], return_removed=True)\n",
    "A = augment_diagonal(A)\n",
    "\n",
    "# fit and predict\n",
    "ase.fit(A)\n",
    "fitted_latents = ase.latent_left_\n",
    "predicted_latents = ase.predict(A)"
   ]
  },
  {
   "cell_type": "code",
   "execution_count": 27,
   "metadata": {},
   "outputs": [
    {
     "data": {
      "text/plain": [
       "True"
      ]
     },
     "execution_count": 27,
     "metadata": {},
     "output_type": "execute_result"
    }
   ],
   "source": [
    "# eyyyyyyyyyyyyyyyyyyyyyyyyyyyy\n",
    "np.allclose(fitted_latents, predicted_latents)"
   ]
  },
  {
   "cell_type": "markdown",
   "metadata": {},
   "source": [
    "### 2"
   ]
  },
  {
   "cell_type": "code",
   "execution_count": 10,
   "metadata": {},
   "outputs": [],
   "source": [
    "# set up stuff\n",
    "ase = ASE(n_components=2, diag_aug=False)\n",
    "P = np.array([[.8, .2], \n",
    "              [.2, .8]])\n",
    "M = sbm([50, 50], P)\n",
    "A, a = remove_vertices(M, indices=[0, -1], return_removed=True)\n",
    "\n",
    "# fit and predict\n",
    "ase.fit(A)\n",
    "fitted_latents = ase.latent_left_\n",
    "predicted_latents = ase.predict(A)"
   ]
  },
  {
   "cell_type": "code",
   "execution_count": 11,
   "metadata": {},
   "outputs": [
    {
     "data": {
      "text/plain": [
       "True"
      ]
     },
     "execution_count": 11,
     "metadata": {},
     "output_type": "execute_result"
    }
   ],
   "source": [
    "# eyyyyyyyyyyyyyyyyyyyyyyyyyyyy\n",
    "np.allclose(fitted_latents, predicted_latents)"
   ]
  },
  {
   "cell_type": "code",
   "execution_count": null,
   "metadata": {},
   "outputs": [],
   "source": []
  }
 ],
 "metadata": {
  "kernelspec": {
   "display_name": "Python 3",
   "language": "python",
   "name": "python3"
  },
  "language_info": {
   "codemirror_mode": {
    "name": "ipython",
    "version": 3
   },
   "file_extension": ".py",
   "mimetype": "text/x-python",
   "name": "python",
   "nbconvert_exporter": "python",
   "pygments_lexer": "ipython3",
   "version": "3.7.0"
  }
 },
 "nbformat": 4,
 "nbformat_minor": 4
}
