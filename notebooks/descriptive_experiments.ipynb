{
 "cells": [
  {
   "cell_type": "code",
   "execution_count": 21,
   "metadata": {},
   "outputs": [],
   "source": [
    "import numpy as np\n",
    "import pandas as pd\n",
    "\n",
    "from graspologic.embed import AdjacencySpectralEmbed as ASE\n",
    "from graspologic.simulations import sbm\n",
    "from graspologic.utils import remove_vertices\n",
    "from graspologic.plot import pairplot"
   ]
  },
  {
   "cell_type": "code",
   "execution_count": 22,
   "metadata": {},
   "outputs": [],
   "source": [
    "P = np.array([[.8, .2], \n",
    "              [.2, .8]])\n",
    "M = sbm([50, 50], P)\n",
    "A, a = remove_vertices(M, indices=[0, -1], return_removed=True)\n",
    "\n",
    "ase = ASE(n_components=2)\n",
    "ase.fit(A)\n",
    "\n",
    "fitted_latents = ase.latent_left_\n",
    "predicted_latents = ase.predict(A)"
   ]
  },
  {
   "cell_type": "markdown",
   "metadata": {},
   "source": [
    "### they're close but they're not on top of each other"
   ]
  },
  {
   "cell_type": "code",
   "execution_count": 41,
   "metadata": {},
   "outputs": [
    {
     "data": {
      "text/plain": [
       "False"
      ]
     },
     "execution_count": 41,
     "metadata": {},
     "output_type": "execute_result"
    }
   ],
   "source": [
    "np.allclose(fitted_latents, predicted_latents)"
   ]
  },
  {
   "cell_type": "code",
   "execution_count": 46,
   "metadata": {},
   "outputs": [
    {
     "data": {
      "text/plain": [
       "True"
      ]
     },
     "execution_count": 46,
     "metadata": {},
     "output_type": "execute_result"
    }
   ],
   "source": [
    "np.allclose(fitted_latents, predicted_latents, atol=1e-1)"
   ]
  },
  {
   "cell_type": "code",
   "execution_count": 24,
   "metadata": {},
   "outputs": [
    {
     "data": {
      "text/plain": [
       "<seaborn.axisgrid.PairGrid at 0x142fb0cc0>"
      ]
     },
     "execution_count": 24,
     "metadata": {},
     "output_type": "execute_result"
    },
    {
     "data": {
      "image/png": "[encoded data removed]",
      "text/plain": [
       "<Figure size 360x360 with 6 Axes>"
      ]
     },
     "metadata": {
      "needs_background": "light"
     },
     "output_type": "display_data"
    }
   ],
   "source": [
    "pairplot(fitted_latents)"
   ]
  },
  {
   "cell_type": "code",
   "execution_count": 25,
   "metadata": {},
   "outputs": [
    {
     "data": {
      "text/plain": [
       "<seaborn.axisgrid.PairGrid at 0x1432ac2e8>"
      ]
     },
     "execution_count": 25,
     "metadata": {},
     "output_type": "execute_result"
    },
    {
     "data": {
      "image/png": "[encoded data removed]",
      "text/plain": [
       "<Figure size 360x360 with 6 Axes>"
      ]
     },
     "metadata": {
      "needs_background": "light"
     },
     "output_type": "display_data"
    }
   ],
   "source": [
    "pairplot(predicted_latents)"
   ]
  },
  {
   "cell_type": "code",
   "execution_count": 32,
   "metadata": {},
   "outputs": [
    {
     "data": {
      "text/html": [
       "<div>\n",
       "<style scoped>\n",
       "    .dataframe tbody tr th:only-of-type {\n",
       "        vertical-align: middle;\n",
       "    }\n",
       "\n",
       "    .dataframe tbody tr th {\n",
       "        vertical-align: top;\n",
       "    }\n",
       "\n",
       "    .dataframe thead th {\n",
       "        text-align: right;\n",
       "    }\n",
       "</style>\n",
       "<table border=\"1\" class=\"dataframe\">\n",
       "  <thead>\n",
       "    <tr style=\"text-align: right;\">\n",
       "      <th></th>\n",
       "      <th>fit_x1</th>\n",
       "      <th>fit_x2</th>\n",
       "      <th>pred_x1</th>\n",
       "      <th>pred_x2</th>\n",
       "    </tr>\n",
       "  </thead>\n",
       "  <tbody>\n",
       "    <tr>\n",
       "      <th>0</th>\n",
       "      <td>0.650576</td>\n",
       "      <td>-0.565366</td>\n",
       "      <td>0.644434</td>\n",
       "      <td>-0.556851</td>\n",
       "    </tr>\n",
       "    <tr>\n",
       "      <th>1</th>\n",
       "      <td>0.796514</td>\n",
       "      <td>-0.569589</td>\n",
       "      <td>0.787286</td>\n",
       "      <td>-0.559061</td>\n",
       "    </tr>\n",
       "    <tr>\n",
       "      <th>2</th>\n",
       "      <td>0.603366</td>\n",
       "      <td>-0.552208</td>\n",
       "      <td>0.598059</td>\n",
       "      <td>-0.544459</td>\n",
       "    </tr>\n",
       "    <tr>\n",
       "      <th>3</th>\n",
       "      <td>0.681077</td>\n",
       "      <td>-0.469757</td>\n",
       "      <td>0.674356</td>\n",
       "      <td>-0.462361</td>\n",
       "    </tr>\n",
       "    <tr>\n",
       "      <th>4</th>\n",
       "      <td>0.613901</td>\n",
       "      <td>-0.569304</td>\n",
       "      <td>0.608370</td>\n",
       "      <td>-0.561120</td>\n",
       "    </tr>\n",
       "    <tr>\n",
       "      <th>...</th>\n",
       "      <td>...</td>\n",
       "      <td>...</td>\n",
       "      <td>...</td>\n",
       "      <td>...</td>\n",
       "    </tr>\n",
       "    <tr>\n",
       "      <th>93</th>\n",
       "      <td>0.650845</td>\n",
       "      <td>0.443545</td>\n",
       "      <td>0.644701</td>\n",
       "      <td>0.436865</td>\n",
       "    </tr>\n",
       "    <tr>\n",
       "      <th>94</th>\n",
       "      <td>0.766764</td>\n",
       "      <td>0.445165</td>\n",
       "      <td>0.758210</td>\n",
       "      <td>0.437242</td>\n",
       "    </tr>\n",
       "    <tr>\n",
       "      <th>95</th>\n",
       "      <td>0.706685</td>\n",
       "      <td>0.564090</td>\n",
       "      <td>0.699408</td>\n",
       "      <td>0.554822</td>\n",
       "    </tr>\n",
       "    <tr>\n",
       "      <th>96</th>\n",
       "      <td>0.740632</td>\n",
       "      <td>0.498801</td>\n",
       "      <td>0.732688</td>\n",
       "      <td>0.490265</td>\n",
       "    </tr>\n",
       "    <tr>\n",
       "      <th>97</th>\n",
       "      <td>0.696060</td>\n",
       "      <td>0.568478</td>\n",
       "      <td>0.689041</td>\n",
       "      <td>0.559333</td>\n",
       "    </tr>\n",
       "  </tbody>\n",
       "</table>\n",
       "<p>98 rows × 4 columns</p>\n",
       "</div>"
      ],
      "text/plain": [
       "      fit_x1    fit_x2   pred_x1   pred_x2\n",
       "0   0.650576 -0.565366  0.644434 -0.556851\n",
       "1   0.796514 -0.569589  0.787286 -0.559061\n",
       "2   0.603366 -0.552208  0.598059 -0.544459\n",
       "3   0.681077 -0.469757  0.674356 -0.462361\n",
       "4   0.613901 -0.569304  0.608370 -0.561120\n",
       "..       ...       ...       ...       ...\n",
       "93  0.650845  0.443545  0.644701  0.436865\n",
       "94  0.766764  0.445165  0.758210  0.437242\n",
       "95  0.706685  0.564090  0.699408  0.554822\n",
       "96  0.740632  0.498801  0.732688  0.490265\n",
       "97  0.696060  0.568478  0.689041  0.559333\n",
       "\n",
       "[98 rows x 4 columns]"
      ]
     },
     "execution_count": 32,
     "metadata": {},
     "output_type": "execute_result"
    }
   ],
   "source": [
    "fitted_latents_df = pd.DataFrame(fitted_latents, columns=[\"fit_x1\", \"fit_x2\"])\n",
    "predicted_latents_df = pd.DataFrame(predicted_latents, columns=[\"pred_x1\", \"pred_x2\"])\n",
    "pd.concat([fitted_latents_df, predicted_latents_df], axis='columns')"
   ]
  },
  {
   "cell_type": "code",
   "execution_count": null,
   "metadata": {},
   "outputs": [],
   "source": []
  }
 ],
 "metadata": {
  "kernelspec": {
   "display_name": "Python 3",
   "language": "python",
   "name": "python3"
  },
  "language_info": {
   "codemirror_mode": {
    "name": "ipython",
    "version": 3
   },
   "file_extension": ".py",
   "mimetype": "text/x-python",
   "name": "python",
   "nbconvert_exporter": "python",
   "pygments_lexer": "ipython3",
   "version": "3.7.0"
  }
 },
 "nbformat": 4,
 "nbformat_minor": 4
}
