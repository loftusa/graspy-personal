{
 "cells": [
  {
   "cell_type": "code",
   "execution_count": 1,
   "metadata": {},
   "outputs": [],
   "source": [
    "import numpy as np\n",
    "import pandas as pd\n",
    "import graspologic as gs\n",
    "import seaborn as sns\n",
    "import matplotlib.pyplot as plt\n",
    "\n",
    "from graspologic.embed import AdjacencySpectralEmbed as ASE\n",
    "from graspologic.simulations import sbm\n",
    "from graspologic.utils import remove_vertices\n",
    "from graspologic.plot import pairplot, heatmap"
   ]
  },
  {
   "cell_type": "markdown",
   "metadata": {},
   "source": [
    "### Make sure remove_vertices is doing what we think it is in the directed case"
   ]
  },
  {
   "cell_type": "code",
   "execution_count": 2,
   "metadata": {},
   "outputs": [
    {
     "data": {
      "text/plain": [
       "<AxesSubplot:>"
      ]
     },
     "execution_count": 2,
     "metadata": {},
     "output_type": "execute_result"
    },
    {
     "data": {
      "image/png": "[encoded data removed]",
      "text/plain": [
       "<Figure size 720x720 with 4 Axes>"
      ]
     },
     "metadata": {
      "needs_background": "light"
     },
     "output_type": "display_data"
    }
   ],
   "source": [
    "B = np.array([[.1, .8],\n",
    "              [.8, .1]])\n",
    "\n",
    "heatmap(B, annot=True, cmap=\"RdBu_r\", center=0, inner_hier_labels=[0, 1])"
   ]
  },
  {
   "cell_type": "code",
   "execution_count": 3,
   "metadata": {},
   "outputs": [
    {
     "name": "stdout",
     "output_type": "stream",
     "text": [
      "actual: \n",
      " [[ 0.6703407   0.57224303]\n",
      " [ 0.6650164   0.57283891]\n",
      " [ 0.65911595  0.60541298]\n",
      " ...\n",
      " [ 0.64573274 -0.57068983]\n",
      " [ 0.67930037 -0.59817268]\n",
      " [ 0.66796776 -0.57903508]] \n",
      "\n",
      "pred: \n",
      " [[ 0.68412083 -0.58272166]\n",
      " [ 0.66763329  0.5940621 ]]\n"
     ]
    }
   ],
   "source": [
    "A, labels = sbm([1000, 1000], B, return_labels=True, directed=True)\n",
    "indices = [0, -1]\n",
    "labels = list(labels)\n",
    "oos_labels = [labels.pop(i) for i in indices]\n",
    "A, a = remove_vertices(A, indices, return_removed=True)  # one oos vertex for each community\n",
    "\n",
    "\n",
    "# indices = np.nonzero(np.r_[1, np.diff(labels)[:-1]])[0]\n",
    "\n",
    "\n",
    "ase = ASE(n_components=2)\n",
    "out_latent, in_latent = ase.fit_transform(A)\n",
    "out_w, in_w = ase.predict(a)\n",
    "\n",
    "\n",
    "print(\"actual: \\n\", out_latent, \"\\n\")\n",
    "print(\"pred: \\n\", out_w)\n",
    "# # out dataframes\n",
    "# out_oos_df = gs.plot.pairplot(pred_out, labels=oos_labels).data\n",
    "\n",
    "# # in dataframes\n",
    "# in_oos_df = gs.plot.pairplot(pred_in, labels=oos_labels).data"
   ]
  },
  {
   "cell_type": "code",
   "execution_count": 4,
   "metadata": {},
   "outputs": [
    {
     "data": {
      "text/plain": [
       "array([[ 0.6713655 , -0.60427119],\n",
       "       [ 0.67272044, -0.60460947],\n",
       "       [ 0.68908491, -0.60634363],\n",
       "       ...,\n",
       "       [ 0.65524179,  0.58544855],\n",
       "       [ 0.66409956,  0.59217154],\n",
       "       [ 0.66781566,  0.59311419]])"
      ]
     },
     "execution_count": 4,
     "metadata": {},
     "output_type": "execute_result"
    }
   ],
   "source": [
    "in_latent"
   ]
  },
  {
   "cell_type": "code",
   "execution_count": 6,
   "metadata": {},
   "outputs": [
    {
     "ename": "NameError",
     "evalue": "name 'pred_in' is not defined",
     "output_type": "error",
     "traceback": [
      "\u001b[1;31m---------------------------------------------------------------------------\u001b[0m",
      "\u001b[1;31mNameError\u001b[0m                                 Traceback (most recent call last)",
      "\u001b[1;32m<ipython-input-6-c78f102f2a33>\u001b[0m in \u001b[0;36m<module>\u001b[1;34m\u001b[0m\n\u001b[0;32m      4\u001b[0m \u001b[1;33m\u001b[0m\u001b[0m\n\u001b[0;32m      5\u001b[0m \u001b[0min_latent_df\u001b[0m \u001b[1;33m=\u001b[0m \u001b[0mpd\u001b[0m\u001b[1;33m.\u001b[0m\u001b[0mconcat\u001b[0m\u001b[1;33m(\u001b[0m\u001b[1;33m[\u001b[0m\u001b[0mdf_labels\u001b[0m\u001b[1;33m,\u001b[0m \u001b[0mpd\u001b[0m\u001b[1;33m.\u001b[0m\u001b[0mDataFrame\u001b[0m\u001b[1;33m(\u001b[0m\u001b[0min_latent\u001b[0m\u001b[1;33m)\u001b[0m\u001b[1;33m]\u001b[0m\u001b[1;33m,\u001b[0m \u001b[0maxis\u001b[0m\u001b[1;33m=\u001b[0m\u001b[1;36m1\u001b[0m\u001b[1;33m)\u001b[0m\u001b[1;33m\u001b[0m\u001b[0m\n\u001b[1;32m----> 6\u001b[1;33m \u001b[0min_oos_df\u001b[0m \u001b[1;33m=\u001b[0m \u001b[0mpd\u001b[0m\u001b[1;33m.\u001b[0m\u001b[0mconcat\u001b[0m\u001b[1;33m(\u001b[0m\u001b[1;33m[\u001b[0m\u001b[0moos_labels\u001b[0m\u001b[1;33m,\u001b[0m \u001b[0mpd\u001b[0m\u001b[1;33m.\u001b[0m\u001b[0mDataFrame\u001b[0m\u001b[1;33m(\u001b[0m\u001b[0mpred_in\u001b[0m\u001b[1;33m)\u001b[0m\u001b[1;33m]\u001b[0m\u001b[1;33m,\u001b[0m \u001b[0maxis\u001b[0m\u001b[1;33m=\u001b[0m\u001b[1;36m1\u001b[0m\u001b[1;33m)\u001b[0m\u001b[1;33m\u001b[0m\u001b[0m\n\u001b[0m\u001b[0;32m      7\u001b[0m \u001b[1;33m\u001b[0m\u001b[0m\n\u001b[0;32m      8\u001b[0m \u001b[0mg\u001b[0m \u001b[1;33m=\u001b[0m \u001b[0msns\u001b[0m\u001b[1;33m.\u001b[0m\u001b[0mpairplot\u001b[0m\u001b[1;33m(\u001b[0m\u001b[0min_latent_df\u001b[0m\u001b[1;33m,\u001b[0m \u001b[0mhue\u001b[0m\u001b[1;33m=\u001b[0m\u001b[1;34m\"Type\"\u001b[0m\u001b[1;33m)\u001b[0m\u001b[1;33m\u001b[0m\u001b[0m\n",
      "\u001b[1;31mNameError\u001b[0m: name 'pred_in' is not defined"
     ]
    }
   ],
   "source": [
    "# Plot the data\n",
    "df_labels = pd.DataFrame(labels, columns=[\"Type\"])\n",
    "oos_labels = pd.DataFrame(oos_labels, columns=[\"Type\"])\n",
    "\n",
    "in_latent_df = pd.concat([df_labels, pd.DataFrame(in_latent)], axis=1)\n",
    "in_oos_df = pd.concat([oos_labels, pd.DataFrame(pred_in)], axis=1)\n",
    "\n",
    "g = sns.pairplot(in_latent_df, hue=\"Type\")\n",
    "print(g.data)\n",
    "\n",
    "# Change the PairGrid dataset and add a new layer\n",
    "g.data = in_oos_df\n",
    "print(g.data)\n",
    "g.hue_vals = in_oos_df[\"Type\"]\n",
    "g.map_offdiag(plt.scatter, s=500, marker=\"*\", edgecolor=\"black\")\n",
    "\n",
    "# # Plot the data\n",
    "# g = sns.pairplot(out_latent, labels=labels)\n",
    "\n",
    "# # Change the PairGrid dataset and add a new layer\n",
    "# g.data = out_oos_df\n",
    "# g.hue_vals = out_oos_df[\"Type\"]\n",
    "# g.map_offdiag(plt.scatter, s=500, marker=\"*\", edgecolor=\"black\")"
   ]
  }
 ],
 "metadata": {
  "kernelspec": {
   "display_name": "Python 3",
   "language": "python",
   "name": "python3"
  },
  "language_info": {
   "codemirror_mode": {
    "name": "ipython",
    "version": 3
   },
   "file_extension": ".py",
   "mimetype": "text/x-python",
   "name": "python",
   "nbconvert_exporter": "python",
   "pygments_lexer": "ipython3",
   "version": "3.7.0"
  }
 },
 "nbformat": 4,
 "nbformat_minor": 4
}
