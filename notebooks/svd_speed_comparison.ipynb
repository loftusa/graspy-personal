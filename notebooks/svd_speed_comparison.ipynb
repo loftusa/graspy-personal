{
 "cells": [
  {
   "cell_type": "markdown",
   "metadata": {},
   "source": [
    "# Speed comparison: sparse.svds to sparse.eigsh"
   ]
  },
  {
   "cell_type": "code",
   "execution_count": 27,
   "metadata": {},
   "outputs": [],
   "source": [
    "from time import time\n",
    "import numpy as np\n",
    "from scipy.sparse.linalg import svds, eigsh\n",
    "from scipy.stats import beta\n",
    "import pandas as pd\n",
    "import seaborn as sns\n",
    "import matplotlib.pyplot as plt\n",
    "\n",
    "from graspologic.simulations import sbm\n",
    "from graspologic.plot import heatmap"
   ]
  },
  {
   "cell_type": "code",
   "execution_count": 16,
   "metadata": {},
   "outputs": [],
   "source": [
    "def make_community(a, b, n=500):\n",
    "    return beta.rvs(a, b, size=(n, 5))\n",
    "\n",
    "def gen_covariates(n):\n",
    "    c1 = make_community(2, 5, n=n)\n",
    "    c2 = make_community(2, 2, n=n)\n",
    "\n",
    "    covariates = np.vstack((c1, c2))\n",
    "    return covariates\n",
    "\n",
    "def gen_network(n):\n",
    "    P = np.array([[.08, .02], [.02, .08]])\n",
    "    A = sbm([n//2, n//2], P)\n",
    "    Y = gen_covariates(n=n//2)\n",
    "    return A, Y"
   ]
  },
  {
   "cell_type": "code",
   "execution_count": null,
   "metadata": {},
   "outputs": [],
   "source": [
    "nodes = np.geomspace(100, 10000, 40).astype(int)\n",
    "nodes[nodes % 2 == 1] += 1\n",
    "n_components = 1\n",
    "\n",
    "svds_time = {}\n",
    "eigsh_time = {}\n",
    "for n in nodes:\n",
    "    A, _ = gen_network(n)\n",
    "    \n",
    "    # svds\n",
    "    start = time()\n",
    "    U, D, V = svds(A, k=n_components)\n",
    "    svds_time[n] = time() - start\n",
    "    \n",
    "    # eigsh\n",
    "    start = time()\n",
    "    D_, U_ = eigsh(A, k=n_components)\n",
    "    D = np.abs(D)\n",
    "    eigsh_time[n] = time() - start\n",
    "    \n",
    "times = svds_time.copy()\n",
    "df = pd.DataFrame(times.values(), index=times.keys(), columns=[\"SVD\"])\n",
    "df.reset_index(inplace=True)\n",
    "\n",
    "df[\"eigsh\"] = eigsh_time.values()\n",
    "melted = pd.melt(df, id_vars=\"index\")\n",
    "melted.rename(columns={\"index\": \"nodes\", \"variable\": \"SVD Type\", \"value\": \"time (s)\"},\n",
    "              inplace=True)\n",
    "melted.head()\n",
    "ax = sns.lineplot(data=melted, x=\"nodes\", y=\"time (s)\", hue=\"SVD Type\")\n",
    "ax.set(title=f\"Speed comparison of svds compared to eigsh (n_components={n_components})\")\n",
    "\n",
    "plt.savefig(f\"../figs/svd_speeds_{n_components}_comp.png\", bbox_inches=\"tight\")"
   ]
  },
  {
   "cell_type": "code",
   "execution_count": 28,
   "metadata": {},
   "outputs": [],
   "source": [
    "nodes = np.geomspace(100, 10000, 40).astype(int)\n",
    "nodes[nodes % 2 == 1] += 1\n",
    "n_components = 2\n",
    "\n",
    "svds_time = {}\n",
    "eigsh_time = {}\n",
    "for n in nodes:\n",
    "    A, _ = gen_network(n)\n",
    "    \n",
    "    # svds\n",
    "    start = time()\n",
    "    U, D, V = svds(A, k=n_components)\n",
    "    svds_time[n] = time() - start\n",
    "    \n",
    "    # eigsh\n",
    "    start = time()\n",
    "    D_, U_ = eigsh(A, k=n_components)\n",
    "    D = np.abs(D)\n",
    "    eigsh_time[n] = time() - start\n",
    "\n",
    "times = svds_time.copy()\n",
    "df = pd.DataFrame(times.values(), index=times.keys(), columns=[\"SVD\"])\n",
    "df.reset_index(inplace=True)\n",
    "\n",
    "df[\"eigsh\"] = eigsh_time.values()\n",
    "melted = pd.melt(df, id_vars=\"index\")\n",
    "melted.rename(columns={\"index\": \"nodes\", \"variable\": \"SVD Type\", \"value\": \"time (s)\"},\n",
    "              inplace=True)\n",
    "melted.head()\n",
    "ax = sns.lineplot(data=melted, x=\"nodes\", y=\"time (s)\", hue=\"SVD Type\")\n",
    "ax.set(title=r\"Speed comparison of svds compared to eigsh (n_components=2)\")\n",
    "\n",
    "plt.savefig(\"../figs/svd_speeds_2comp.png\", bbox_inches=\"tight\")"
   ]
  },
  {
   "cell_type": "code",
   "execution_count": 29,
   "metadata": {},
   "outputs": [
    {
     "data": {
      "image/png": "[encoded data removed]",
      "text/plain": [
       "<Figure size 432x288 with 1 Axes>"
      ]
     },
     "metadata": {
      "needs_background": "light"
     },
     "output_type": "display_data"
    }
   ],
   "source": [
    "nodes = np.geomspace(100, 10000, 40).astype(int)\n",
    "nodes[nodes % 2 == 1] += 1\n",
    "n_components = 4\n",
    "\n",
    "svds_time = {}\n",
    "eigsh_time = {}\n",
    "for n in nodes:\n",
    "    A, _ = gen_network(n)\n",
    "    \n",
    "    # svds\n",
    "    start = time()\n",
    "    U, D, V = svds(A, k=n_components)\n",
    "    svds_time[n] = time() - start\n",
    "    \n",
    "    # eigsh\n",
    "    start = time()\n",
    "    D_, U_ = eigsh(A, k=n_components)\n",
    "    D = np.abs(D)\n",
    "    eigsh_time[n] = time() - start\n",
    "    \n",
    "times = svds_time.copy()\n",
    "df = pd.DataFrame(times.values(), index=times.keys(), columns=[\"SVD\"])\n",
    "df.reset_index(inplace=True)\n",
    "\n",
    "df[\"eigsh\"] = eigsh_time.values()\n",
    "melted = pd.melt(df, id_vars=\"index\")\n",
    "melted.rename(columns={\"index\": \"nodes\", \"variable\": \"SVD Type\", \"value\": \"time (s)\"},\n",
    "              inplace=True)\n",
    "melted.head()\n",
    "ax = sns.lineplot(data=melted, x=\"nodes\", y=\"time (s)\", hue=\"SVD Type\")\n",
    "ax.set(title=f\"Speed comparison of svds compared to eigsh (n_components={n_components})\")\n",
    "\n",
    "plt.savefig(f\"../figs/svd_speeds_{n_components}_comp.png\", bbox_inches=\"tight\")"
   ]
  },
  {
   "cell_type": "code",
   "execution_count": 30,
   "metadata": {},
   "outputs": [
    {
     "data": {
      "image/png": "[encoded data removed]",
      "text/plain": [
       "<Figure size 432x288 with 1 Axes>"
      ]
     },
     "metadata": {
      "needs_background": "light"
     },
     "output_type": "display_data"
    }
   ],
   "source": [
    "nodes = np.geomspace(100, 10000, 40).astype(int)\n",
    "nodes[nodes % 2 == 1] += 1\n",
    "n_components = 8\n",
    "\n",
    "svds_time = {}\n",
    "eigsh_time = {}\n",
    "for n in nodes:\n",
    "    A, _ = gen_network(n)\n",
    "    \n",
    "    # svds\n",
    "    start = time()\n",
    "    U, D, V = svds(A, k=n_components)\n",
    "    svds_time[n] = time() - start\n",
    "    \n",
    "    # eigsh\n",
    "    start = time()\n",
    "    D_, U_ = eigsh(A, k=n_components)\n",
    "    D = np.abs(D)\n",
    "    eigsh_time[n] = time() - start\n",
    "    \n",
    "times = svds_time.copy()\n",
    "df = pd.DataFrame(times.values(), index=times.keys(), columns=[\"SVD\"])\n",
    "df.reset_index(inplace=True)\n",
    "\n",
    "df[\"eigsh\"] = eigsh_time.values()\n",
    "melted = pd.melt(df, id_vars=\"index\")\n",
    "melted.rename(columns={\"index\": \"nodes\", \"variable\": \"SVD Type\", \"value\": \"time (s)\"},\n",
    "              inplace=True)\n",
    "melted.head()\n",
    "ax = sns.lineplot(data=melted, x=\"nodes\", y=\"time (s)\", hue=\"SVD Type\")\n",
    "ax.set(title=f\"Speed comparison of svds compared to eigsh (n_components={n_components})\")\n",
    "\n",
    "plt.savefig(f\"../figs/svd_speeds_{n_components}_comp.png\", bbox_inches=\"tight\")"
   ]
  },
  {
   "cell_type": "code",
   "execution_count": null,
   "metadata": {},
   "outputs": [],
   "source": [
    "nodes = np.geomspace(100, 10000, 40).astype(int)\n",
    "nodes[nodes % 2 == 1] += 1\n",
    "n_components = 16\n",
    "\n",
    "svds_time = {}\n",
    "eigsh_time = {}\n",
    "for n in nodes:\n",
    "    A, _ = gen_network(n)\n",
    "    \n",
    "    # svds\n",
    "    start = time()\n",
    "    U, D, V = svds(A, k=n_components)\n",
    "    svds_time[n] = time() - start\n",
    "    \n",
    "    # eigsh\n",
    "    start = time()\n",
    "    D_, U_ = eigsh(A, k=n_components)\n",
    "    D = np.abs(D)\n",
    "    eigsh_time[n] = time() - start\n",
    "    \n",
    "times = svds_time.copy()\n",
    "df = pd.DataFrame(times.values(), index=times.keys(), columns=[\"SVD\"])\n",
    "df.reset_index(inplace=True)\n",
    "\n",
    "df[\"eigsh\"] = eigsh_time.values()\n",
    "melted = pd.melt(df, id_vars=\"index\")\n",
    "melted.rename(columns={\"index\": \"nodes\", \"variable\": \"SVD Type\", \"value\": \"time (s)\"},\n",
    "              inplace=True)\n",
    "melted.head()\n",
    "ax = sns.lineplot(data=melted, x=\"nodes\", y=\"time (s)\", hue=\"SVD Type\")\n",
    "ax.set(title=f\"Speed comparison of svds compared to eigsh (n_components={n_components})\")\n",
    "\n",
    "plt.savefig(f\"../figs/svd_speeds_{n_components}_comp.png\", bbox_inches=\"tight\")"
   ]
  }
 ],
 "metadata": {
  "kernelspec": {
   "display_name": "Python 3",
   "language": "python",
   "name": "python3"
  },
  "language_info": {
   "codemirror_mode": {
    "name": "ipython",
    "version": 3
   },
   "file_extension": ".py",
   "mimetype": "text/x-python",
   "name": "python",
   "nbconvert_exporter": "python",
   "pygments_lexer": "ipython3",
   "version": "3.8.5"
  }
 },
 "nbformat": 4,
 "nbformat_minor": 4
}
