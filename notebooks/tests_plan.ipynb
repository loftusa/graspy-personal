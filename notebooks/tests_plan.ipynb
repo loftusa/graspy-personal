{
 "cells": [
  {
   "cell_type": "markdown",
   "metadata": {},
   "source": [
    "# Test plan"
   ]
  },
  {
   "cell_type": "markdown",
   "metadata": {},
   "source": [
    "#### cases\n",
    "- directed\n",
    "    - weighted\n",
    "    - unweighted\n",
    "- undirected\n",
    "    - weighted\n",
    "    - unweighted\n",
    "\n",
    "#### tests needed\n",
    "- make sure objects are correct shape/size/type\n",
    "- make sure exceptions get properly raised\n",
    "- given some embedding from a matrix B (with same weights everywhere, true generative matrix), make sure latent positions are in proper location\n",
    "\n",
    "#### things users could do:\n",
    "- pass original matrix into predict method\n",
    "- pass augmented matrix into predict method\n",
    "- forget to fit\n",
    "- pass list as y (or any other type)\n",
    "- call fit_transform without calling fit\n",
    "\n",
    "#### ideas\n",
    "- maybe predict should take some number of 1D arrays as `args` instead of a numpy array? (and a bunch of tuples in the directed case)\n",
    "\n",
    "#### notes\n",
    "- remove_vertex needs more testing\n",
    "- add remove_vertex to ASE predict tutorial"
   ]
  },
  {
   "cell_type": "code",
   "execution_count": 133,
   "metadata": {},
   "outputs": [],
   "source": [
    "import numpy as np\n",
    "from numpy.random import normal, poisson\n",
    "\n",
    "import graspologic\n",
    "from graspologic.embed import AdjacencySpectralEmbed as ASE\n",
    "from graspologic.simulations import sbm\n",
    "from graspologic.plot import heatmap, pairplot\n",
    "from graspologic.utils import get_lcc, remove_vertices\n",
    "\n",
    "import warnings\n",
    "warnings.filterwarnings(\"ignore\")"
   ]
  },
  {
   "cell_type": "code",
   "execution_count": 134,
   "metadata": {},
   "outputs": [
    {
     "data": {
      "text/plain": [
       "\u001b[1;31mInit signature:\u001b[0m\n",
       "\u001b[0mASE\u001b[0m\u001b[1;33m(\u001b[0m\u001b[1;33m\u001b[0m\n",
       "\u001b[1;33m\u001b[0m    \u001b[0mn_components\u001b[0m\u001b[1;33m=\u001b[0m\u001b[1;32mNone\u001b[0m\u001b[1;33m,\u001b[0m\u001b[1;33m\u001b[0m\n",
       "\u001b[1;33m\u001b[0m    \u001b[0mn_elbows\u001b[0m\u001b[1;33m=\u001b[0m\u001b[1;36m2\u001b[0m\u001b[1;33m,\u001b[0m\u001b[1;33m\u001b[0m\n",
       "\u001b[1;33m\u001b[0m    \u001b[0malgorithm\u001b[0m\u001b[1;33m=\u001b[0m\u001b[1;34m'randomized'\u001b[0m\u001b[1;33m,\u001b[0m\u001b[1;33m\u001b[0m\n",
       "\u001b[1;33m\u001b[0m    \u001b[0mn_iter\u001b[0m\u001b[1;33m=\u001b[0m\u001b[1;36m5\u001b[0m\u001b[1;33m,\u001b[0m\u001b[1;33m\u001b[0m\n",
       "\u001b[1;33m\u001b[0m    \u001b[0mcheck_lcc\u001b[0m\u001b[1;33m=\u001b[0m\u001b[1;32mTrue\u001b[0m\u001b[1;33m,\u001b[0m\u001b[1;33m\u001b[0m\n",
       "\u001b[1;33m\u001b[0m    \u001b[0mdiag_aug\u001b[0m\u001b[1;33m=\u001b[0m\u001b[1;32mTrue\u001b[0m\u001b[1;33m,\u001b[0m\u001b[1;33m\u001b[0m\n",
       "\u001b[1;33m\u001b[0m    \u001b[0mconcat\u001b[0m\u001b[1;33m=\u001b[0m\u001b[1;32mFalse\u001b[0m\u001b[1;33m,\u001b[0m\u001b[1;33m\u001b[0m\n",
       "\u001b[1;33m\u001b[0m\u001b[1;33m)\u001b[0m\u001b[1;33m\u001b[0m\u001b[0m\n",
       "\u001b[1;31mSource:\u001b[0m        \n",
       "\u001b[1;32mclass\u001b[0m \u001b[0mAdjacencySpectralEmbed\u001b[0m\u001b[1;33m(\u001b[0m\u001b[0mBaseEmbed\u001b[0m\u001b[1;33m)\u001b[0m\u001b[1;33m:\u001b[0m\u001b[1;33m\u001b[0m\n",
       "\u001b[1;33m\u001b[0m    \u001b[1;34mr\"\"\"\u001b[0m\n",
       "\u001b[1;34m    Class for computing the adjacency spectral embedding of a graph.\u001b[0m\n",
       "\u001b[1;34m\u001b[0m\n",
       "\u001b[1;34m    The adjacency spectral embedding (ASE) is a k-dimensional Euclidean representation\u001b[0m\n",
       "\u001b[1;34m    of the graph based on its adjacency matrix. It relies on an SVD to reduce\u001b[0m\n",
       "\u001b[1;34m    the dimensionality to the specified k, or if k is unspecified, can find a number of\u001b[0m\n",
       "\u001b[1;34m    dimensions automatically (see :class:`~graspologic.embed.selectSVD`).\u001b[0m\n",
       "\u001b[1;34m\u001b[0m\n",
       "\u001b[1;34m    Read more in the :ref:`tutorials <embed_tutorials>`\u001b[0m\n",
       "\u001b[1;34m\u001b[0m\n",
       "\u001b[1;34m    Parameters\u001b[0m\n",
       "\u001b[1;34m    ----------\u001b[0m\n",
       "\u001b[1;34m    n_components : int or None, default = None\u001b[0m\n",
       "\u001b[1;34m        Desired dimensionality of output data. If \"full\",\u001b[0m\n",
       "\u001b[1;34m        n_components must be <= min(X.shape). Otherwise, n_components must be\u001b[0m\n",
       "\u001b[1;34m        < min(X.shape). If None, then optimal dimensions will be chosen by\u001b[0m\n",
       "\u001b[1;34m        :func:`~graspologic.embed.select_dimension` using ``n_elbows`` argument.\u001b[0m\n",
       "\u001b[1;34m\u001b[0m\n",
       "\u001b[1;34m    n_elbows : int, optional, default: 2\u001b[0m\n",
       "\u001b[1;34m        If ``n_components=None``, then compute the optimal embedding dimension using\u001b[0m\n",
       "\u001b[1;34m        :func:`~graspologic.embed.select_dimension`. Otherwise, ignored.\u001b[0m\n",
       "\u001b[1;34m\u001b[0m\n",
       "\u001b[1;34m    algorithm : {'randomized' (default), 'full', 'truncated'}, optional\u001b[0m\n",
       "\u001b[1;34m        SVD solver to use:\u001b[0m\n",
       "\u001b[1;34m\u001b[0m\n",
       "\u001b[1;34m        - 'randomized'\u001b[0m\n",
       "\u001b[1;34m            Computes randomized svd using\u001b[0m\n",
       "\u001b[1;34m            :func:`sklearn.utils.extmath.randomized_svd`\u001b[0m\n",
       "\u001b[1;34m        - 'full'\u001b[0m\n",
       "\u001b[1;34m            Computes full svd using :func:`scipy.linalg.svd`\u001b[0m\n",
       "\u001b[1;34m        - 'truncated'\u001b[0m\n",
       "\u001b[1;34m            Computes truncated svd using :func:`scipy.sparse.linalg.svds`\u001b[0m\n",
       "\u001b[1;34m\u001b[0m\n",
       "\u001b[1;34m    n_iter : int, optional (default = 5)\u001b[0m\n",
       "\u001b[1;34m        Number of iterations for randomized SVD solver. Not used by 'full' or\u001b[0m\n",
       "\u001b[1;34m        'truncated'. The default is larger than the default in randomized_svd\u001b[0m\n",
       "\u001b[1;34m        to handle sparse matrices that may have large slowly decaying spectrum.\u001b[0m\n",
       "\u001b[1;34m\u001b[0m\n",
       "\u001b[1;34m    check_lcc : bool , optional (default = True)\u001b[0m\n",
       "\u001b[1;34m        Whether to check if input graph is connected. May result in non-optimal\u001b[0m\n",
       "\u001b[1;34m        results if the graph is unconnected. If True and input is unconnected,\u001b[0m\n",
       "\u001b[1;34m        a UserWarning is thrown. Not checking for connectedness may result in\u001b[0m\n",
       "\u001b[1;34m        faster computation.\u001b[0m\n",
       "\u001b[1;34m\u001b[0m\n",
       "\u001b[1;34m    diag_aug : bool, optional (default = True)\u001b[0m\n",
       "\u001b[1;34m        Whether to replace the main diagonal of the adjacency matrix with a vector\u001b[0m\n",
       "\u001b[1;34m        corresponding to the degree (or sum of edge weights for a weighted network)\u001b[0m\n",
       "\u001b[1;34m        before embedding. Empirically, this produces latent position estimates closer\u001b[0m\n",
       "\u001b[1;34m        to the ground truth.\u001b[0m\n",
       "\u001b[1;34m\u001b[0m\n",
       "\u001b[1;34m    concat : bool, optional (default False)\u001b[0m\n",
       "\u001b[1;34m        If graph is directed, whether to concatenate left and right (out and in) latent positions along axis 1.\u001b[0m\n",
       "\u001b[1;34m\u001b[0m\n",
       "\u001b[1;34m\u001b[0m\n",
       "\u001b[1;34m\u001b[0m\n",
       "\u001b[1;34m    Attributes\u001b[0m\n",
       "\u001b[1;34m    ----------\u001b[0m\n",
       "\u001b[1;34m    n_features_in_: int\u001b[0m\n",
       "\u001b[1;34m        Number of features passed to the fit method.\u001b[0m\n",
       "\u001b[1;34m    latent_left_ : array, shape (n_samples, n_components)\u001b[0m\n",
       "\u001b[1;34m        Estimated left latent positions of the graph.\u001b[0m\n",
       "\u001b[1;34m    latent_right_ : array, shape (n_samples, n_components), or None\u001b[0m\n",
       "\u001b[1;34m        Only computed when the graph is directed, or adjacency matrix is assymetric.\u001b[0m\n",
       "\u001b[1;34m        Estimated right latent positions of the graph. Otherwise, None.\u001b[0m\n",
       "\u001b[1;34m    singular_values_ : array, shape (n_components)\u001b[0m\n",
       "\u001b[1;34m        Singular values associated with the latent position matrices.\u001b[0m\n",
       "\u001b[1;34m\u001b[0m\n",
       "\u001b[1;34m    See Also\u001b[0m\n",
       "\u001b[1;34m    --------\u001b[0m\n",
       "\u001b[1;34m    graspologic.embed.selectSVD\u001b[0m\n",
       "\u001b[1;34m    graspologic.embed.select_dimension\u001b[0m\n",
       "\u001b[1;34m\u001b[0m\n",
       "\u001b[1;34m    Notes\u001b[0m\n",
       "\u001b[1;34m    -----\u001b[0m\n",
       "\u001b[1;34m    The singular value decomposition:\u001b[0m\n",
       "\u001b[1;34m\u001b[0m\n",
       "\u001b[1;34m    .. math:: A = U \\Sigma V^T\u001b[0m\n",
       "\u001b[1;34m\u001b[0m\n",
       "\u001b[1;34m    is used to find an orthonormal basis for a matrix, which in our case is the\u001b[0m\n",
       "\u001b[1;34m    adjacency matrix of the graph. These basis vectors (in the matrices U or V) are\u001b[0m\n",
       "\u001b[1;34m    ordered according to the amount of variance they explain in the original matrix.\u001b[0m\n",
       "\u001b[1;34m    By selecting a subset of these basis vectors (through our choice of dimensionality\u001b[0m\n",
       "\u001b[1;34m    reduction) we can find a lower dimensional space in which to represent the graph.\u001b[0m\n",
       "\u001b[1;34m\u001b[0m\n",
       "\u001b[1;34m    References\u001b[0m\n",
       "\u001b[1;34m    ----------\u001b[0m\n",
       "\u001b[1;34m    .. [1] Sussman, D.L., Tang, M., Fishkind, D.E., Priebe, C.E.  \"A\u001b[0m\n",
       "\u001b[1;34m       Consistent Adjacency Spectral Embedding for Stochastic Blockmodel Graphs,\"\u001b[0m\n",
       "\u001b[1;34m       Journal of the American Statistical Association, Vol. 107(499), 2012\u001b[0m\n",
       "\u001b[1;34m    \"\"\"\u001b[0m\u001b[1;33m\u001b[0m\n",
       "\u001b[1;33m\u001b[0m\u001b[1;33m\u001b[0m\n",
       "\u001b[1;33m\u001b[0m    \u001b[1;32mdef\u001b[0m \u001b[0m__init__\u001b[0m\u001b[1;33m(\u001b[0m\u001b[1;33m\u001b[0m\n",
       "\u001b[1;33m\u001b[0m        \u001b[0mself\u001b[0m\u001b[1;33m,\u001b[0m\u001b[1;33m\u001b[0m\n",
       "\u001b[1;33m\u001b[0m        \u001b[0mn_components\u001b[0m\u001b[1;33m=\u001b[0m\u001b[1;32mNone\u001b[0m\u001b[1;33m,\u001b[0m\u001b[1;33m\u001b[0m\n",
       "\u001b[1;33m\u001b[0m        \u001b[0mn_elbows\u001b[0m\u001b[1;33m=\u001b[0m\u001b[1;36m2\u001b[0m\u001b[1;33m,\u001b[0m\u001b[1;33m\u001b[0m\n",
       "\u001b[1;33m\u001b[0m        \u001b[0malgorithm\u001b[0m\u001b[1;33m=\u001b[0m\u001b[1;34m\"randomized\"\u001b[0m\u001b[1;33m,\u001b[0m\u001b[1;33m\u001b[0m\n",
       "\u001b[1;33m\u001b[0m        \u001b[0mn_iter\u001b[0m\u001b[1;33m=\u001b[0m\u001b[1;36m5\u001b[0m\u001b[1;33m,\u001b[0m\u001b[1;33m\u001b[0m\n",
       "\u001b[1;33m\u001b[0m        \u001b[0mcheck_lcc\u001b[0m\u001b[1;33m=\u001b[0m\u001b[1;32mTrue\u001b[0m\u001b[1;33m,\u001b[0m\u001b[1;33m\u001b[0m\n",
       "\u001b[1;33m\u001b[0m        \u001b[0mdiag_aug\u001b[0m\u001b[1;33m=\u001b[0m\u001b[1;32mTrue\u001b[0m\u001b[1;33m,\u001b[0m\u001b[1;33m\u001b[0m\n",
       "\u001b[1;33m\u001b[0m        \u001b[0mconcat\u001b[0m\u001b[1;33m=\u001b[0m\u001b[1;32mFalse\u001b[0m\u001b[1;33m,\u001b[0m\u001b[1;33m\u001b[0m\n",
       "\u001b[1;33m\u001b[0m    \u001b[1;33m)\u001b[0m\u001b[1;33m:\u001b[0m\u001b[1;33m\u001b[0m\n",
       "\u001b[1;33m\u001b[0m        \u001b[0msuper\u001b[0m\u001b[1;33m(\u001b[0m\u001b[1;33m)\u001b[0m\u001b[1;33m.\u001b[0m\u001b[0m__init__\u001b[0m\u001b[1;33m(\u001b[0m\u001b[1;33m\u001b[0m\n",
       "\u001b[1;33m\u001b[0m            \u001b[0mn_components\u001b[0m\u001b[1;33m=\u001b[0m\u001b[0mn_components\u001b[0m\u001b[1;33m,\u001b[0m\u001b[1;33m\u001b[0m\n",
       "\u001b[1;33m\u001b[0m            \u001b[0mn_elbows\u001b[0m\u001b[1;33m=\u001b[0m\u001b[0mn_elbows\u001b[0m\u001b[1;33m,\u001b[0m\u001b[1;33m\u001b[0m\n",
       "\u001b[1;33m\u001b[0m            \u001b[0malgorithm\u001b[0m\u001b[1;33m=\u001b[0m\u001b[0malgorithm\u001b[0m\u001b[1;33m,\u001b[0m\u001b[1;33m\u001b[0m\n",
       "\u001b[1;33m\u001b[0m            \u001b[0mn_iter\u001b[0m\u001b[1;33m=\u001b[0m\u001b[0mn_iter\u001b[0m\u001b[1;33m,\u001b[0m\u001b[1;33m\u001b[0m\n",
       "\u001b[1;33m\u001b[0m            \u001b[0mcheck_lcc\u001b[0m\u001b[1;33m=\u001b[0m\u001b[0mcheck_lcc\u001b[0m\u001b[1;33m,\u001b[0m\u001b[1;33m\u001b[0m\n",
       "\u001b[1;33m\u001b[0m            \u001b[0mconcat\u001b[0m\u001b[1;33m=\u001b[0m\u001b[0mconcat\u001b[0m\u001b[1;33m,\u001b[0m\u001b[1;33m\u001b[0m\n",
       "\u001b[1;33m\u001b[0m        \u001b[1;33m)\u001b[0m\u001b[1;33m\u001b[0m\n",
       "\u001b[1;33m\u001b[0m\u001b[1;33m\u001b[0m\n",
       "\u001b[1;33m\u001b[0m        \u001b[1;32mif\u001b[0m \u001b[1;32mnot\u001b[0m \u001b[0misinstance\u001b[0m\u001b[1;33m(\u001b[0m\u001b[0mdiag_aug\u001b[0m\u001b[1;33m,\u001b[0m \u001b[0mbool\u001b[0m\u001b[1;33m)\u001b[0m\u001b[1;33m:\u001b[0m\u001b[1;33m\u001b[0m\n",
       "\u001b[1;33m\u001b[0m            \u001b[1;32mraise\u001b[0m \u001b[0mTypeError\u001b[0m\u001b[1;33m(\u001b[0m\u001b[1;34m\"`diag_aug` must be of type bool\"\u001b[0m\u001b[1;33m)\u001b[0m\u001b[1;33m\u001b[0m\n",
       "\u001b[1;33m\u001b[0m        \u001b[0mself\u001b[0m\u001b[1;33m.\u001b[0m\u001b[0mdiag_aug\u001b[0m \u001b[1;33m=\u001b[0m \u001b[0mdiag_aug\u001b[0m\u001b[1;33m\u001b[0m\n",
       "\u001b[1;33m\u001b[0m\u001b[1;33m\u001b[0m\n",
       "\u001b[1;33m\u001b[0m    \u001b[1;32mdef\u001b[0m \u001b[0mfit\u001b[0m\u001b[1;33m(\u001b[0m\u001b[0mself\u001b[0m\u001b[1;33m,\u001b[0m \u001b[0mgraph\u001b[0m\u001b[1;33m,\u001b[0m \u001b[0my\u001b[0m\u001b[1;33m=\u001b[0m\u001b[1;32mNone\u001b[0m\u001b[1;33m)\u001b[0m\u001b[1;33m:\u001b[0m\u001b[1;33m\u001b[0m\n",
       "\u001b[1;33m\u001b[0m        \u001b[1;34m\"\"\"\u001b[0m\n",
       "\u001b[1;34m        Fit ASE model to input graph\u001b[0m\n",
       "\u001b[1;34m\u001b[0m\n",
       "\u001b[1;34m        Parameters\u001b[0m\n",
       "\u001b[1;34m        ----------\u001b[0m\n",
       "\u001b[1;34m        graph : array_like or networkx.Graph\u001b[0m\n",
       "\u001b[1;34m            Input graph to embed.\u001b[0m\n",
       "\u001b[1;34m\u001b[0m\n",
       "\u001b[1;34m        Returns\u001b[0m\n",
       "\u001b[1;34m        -------\u001b[0m\n",
       "\u001b[1;34m        self : object\u001b[0m\n",
       "\u001b[1;34m            Returns an instance of self.\u001b[0m\n",
       "\u001b[1;34m        \"\"\"\u001b[0m\u001b[1;33m\u001b[0m\n",
       "\u001b[1;33m\u001b[0m        \u001b[0mA\u001b[0m \u001b[1;33m=\u001b[0m \u001b[0mimport_graph\u001b[0m\u001b[1;33m(\u001b[0m\u001b[0mgraph\u001b[0m\u001b[1;33m)\u001b[0m\u001b[1;33m\u001b[0m\n",
       "\u001b[1;33m\u001b[0m\u001b[1;33m\u001b[0m\n",
       "\u001b[1;33m\u001b[0m        \u001b[1;32mif\u001b[0m \u001b[0mself\u001b[0m\u001b[1;33m.\u001b[0m\u001b[0mcheck_lcc\u001b[0m\u001b[1;33m:\u001b[0m\u001b[1;33m\u001b[0m\n",
       "\u001b[1;33m\u001b[0m            \u001b[1;32mif\u001b[0m \u001b[1;32mnot\u001b[0m \u001b[0mis_fully_connected\u001b[0m\u001b[1;33m(\u001b[0m\u001b[0mA\u001b[0m\u001b[1;33m)\u001b[0m\u001b[1;33m:\u001b[0m\u001b[1;33m\u001b[0m\n",
       "\u001b[1;33m\u001b[0m                \u001b[0mmsg\u001b[0m \u001b[1;33m=\u001b[0m \u001b[1;33m(\u001b[0m\u001b[1;33m\u001b[0m\n",
       "\u001b[1;33m\u001b[0m                    \u001b[1;34m\"Input graph is not fully connected. Results may not\"\u001b[0m\u001b[1;33m\u001b[0m\n",
       "\u001b[1;33m\u001b[0m                    \u001b[1;33m+\u001b[0m \u001b[1;34m\"be optimal. You can compute the largest connected component by\"\u001b[0m\u001b[1;33m\u001b[0m\n",
       "\u001b[1;33m\u001b[0m                    \u001b[1;33m+\u001b[0m \u001b[1;34m\"using ``graspologic.utils.get_lcc``.\"\u001b[0m\u001b[1;33m\u001b[0m\n",
       "\u001b[1;33m\u001b[0m                \u001b[1;33m)\u001b[0m\u001b[1;33m\u001b[0m\n",
       "\u001b[1;33m\u001b[0m                \u001b[0mwarnings\u001b[0m\u001b[1;33m.\u001b[0m\u001b[0mwarn\u001b[0m\u001b[1;33m(\u001b[0m\u001b[0mmsg\u001b[0m\u001b[1;33m,\u001b[0m \u001b[0mUserWarning\u001b[0m\u001b[1;33m)\u001b[0m\u001b[1;33m\u001b[0m\n",
       "\u001b[1;33m\u001b[0m\u001b[1;33m\u001b[0m\n",
       "\u001b[1;33m\u001b[0m        \u001b[1;32mif\u001b[0m \u001b[0mself\u001b[0m\u001b[1;33m.\u001b[0m\u001b[0mdiag_aug\u001b[0m\u001b[1;33m:\u001b[0m\u001b[1;33m\u001b[0m\n",
       "\u001b[1;33m\u001b[0m            \u001b[0mA\u001b[0m \u001b[1;33m=\u001b[0m \u001b[0maugment_diagonal\u001b[0m\u001b[1;33m(\u001b[0m\u001b[0mA\u001b[0m\u001b[1;33m)\u001b[0m\u001b[1;33m\u001b[0m\n",
       "\u001b[1;33m\u001b[0m\u001b[1;33m\u001b[0m\n",
       "\u001b[1;33m\u001b[0m        \u001b[0mself\u001b[0m\u001b[1;33m.\u001b[0m\u001b[0mn_features_in_\u001b[0m \u001b[1;33m=\u001b[0m \u001b[0mlen\u001b[0m\u001b[1;33m(\u001b[0m\u001b[0mA\u001b[0m\u001b[1;33m)\u001b[0m\u001b[1;33m\u001b[0m\n",
       "\u001b[1;33m\u001b[0m        \u001b[0mself\u001b[0m\u001b[1;33m.\u001b[0m\u001b[0m_reduce_dim\u001b[0m\u001b[1;33m(\u001b[0m\u001b[0mA\u001b[0m\u001b[1;33m)\u001b[0m\u001b[1;33m\u001b[0m\n",
       "\u001b[1;33m\u001b[0m\u001b[1;33m\u001b[0m\n",
       "\u001b[1;33m\u001b[0m        \u001b[1;31m# for out-of-sample\u001b[0m\u001b[1;33m\u001b[0m\n",
       "\u001b[1;33m\u001b[0m        \u001b[0minv_eigs\u001b[0m \u001b[1;33m=\u001b[0m \u001b[0mnp\u001b[0m\u001b[1;33m.\u001b[0m\u001b[0mdiag\u001b[0m\u001b[1;33m(\u001b[0m\u001b[1;36m1\u001b[0m \u001b[1;33m/\u001b[0m \u001b[0mself\u001b[0m\u001b[1;33m.\u001b[0m\u001b[0msingular_values_\u001b[0m\u001b[1;33m)\u001b[0m\u001b[1;33m\u001b[0m\n",
       "\u001b[1;33m\u001b[0m        \u001b[0mself\u001b[0m\u001b[1;33m.\u001b[0m\u001b[0mpinv_left_\u001b[0m \u001b[1;33m=\u001b[0m \u001b[0mself\u001b[0m\u001b[1;33m.\u001b[0m\u001b[0mlatent_left_\u001b[0m \u001b[1;33m@\u001b[0m \u001b[0minv_eigs\u001b[0m\u001b[1;33m\u001b[0m\n",
       "\u001b[1;33m\u001b[0m        \u001b[1;32mif\u001b[0m \u001b[0mself\u001b[0m\u001b[1;33m.\u001b[0m\u001b[0mlatent_right_\u001b[0m \u001b[1;32mis\u001b[0m \u001b[1;32mnot\u001b[0m \u001b[1;32mNone\u001b[0m\u001b[1;33m:\u001b[0m\u001b[1;33m\u001b[0m\n",
       "\u001b[1;33m\u001b[0m            \u001b[0mself\u001b[0m\u001b[1;33m.\u001b[0m\u001b[0mpinv_right_\u001b[0m \u001b[1;33m=\u001b[0m \u001b[0mself\u001b[0m\u001b[1;33m.\u001b[0m\u001b[0mlatent_right_\u001b[0m \u001b[1;33m@\u001b[0m \u001b[0minv_eigs\u001b[0m\u001b[1;33m\u001b[0m\n",
       "\u001b[1;33m\u001b[0m\u001b[1;33m\u001b[0m\n",
       "\u001b[1;33m\u001b[0m        \u001b[0mself\u001b[0m\u001b[1;33m.\u001b[0m\u001b[0mis_fitted_\u001b[0m \u001b[1;33m=\u001b[0m \u001b[1;32mTrue\u001b[0m\u001b[1;33m\u001b[0m\n",
       "\u001b[1;33m\u001b[0m        \u001b[1;32mreturn\u001b[0m \u001b[0mself\u001b[0m\u001b[1;33m\u001b[0m\n",
       "\u001b[1;33m\u001b[0m\u001b[1;33m\u001b[0m\n",
       "\u001b[1;33m\u001b[0m    \u001b[1;32mdef\u001b[0m \u001b[0mpredict\u001b[0m\u001b[1;33m(\u001b[0m\u001b[0mself\u001b[0m\u001b[1;33m,\u001b[0m \u001b[0my\u001b[0m\u001b[1;33m)\u001b[0m\u001b[1;33m:\u001b[0m\u001b[1;33m\u001b[0m\n",
       "\u001b[1;33m\u001b[0m        \u001b[1;34m\"\"\"\u001b[0m\n",
       "\u001b[1;34m        Obtain an out-of-sample embedding from vertices not in the original embedding.\u001b[0m\n",
       "\u001b[1;34m        For more details, see [1].\u001b[0m\n",
       "\u001b[1;34m\u001b[0m\n",
       "\u001b[1;34m        Parameters\u001b[0m\n",
       "\u001b[1;34m        ----------\u001b[0m\n",
       "\u001b[1;34m        y : array_like or tuple, shape (n_oos_vertices, n_vertices)\u001b[0m\n",
       "\u001b[1;34m            out-of-sample matrix.\u001b[0m\n",
       "\u001b[1;34m            If tuple, graph is directed and y[0] contains edges from y to other nodes.\u001b[0m\n",
       "\u001b[1;34m\u001b[0m\n",
       "\u001b[1;34m        Returns\u001b[0m\n",
       "\u001b[1;34m        -------\u001b[0m\n",
       "\u001b[1;34m        array_like or tuple\u001b[0m\n",
       "\u001b[1;34m            Out-of-sample prediction for the latent position(s) of y.\u001b[0m\n",
       "\u001b[1;34m            If the original embedding was undirected, input should be an array.\u001b[0m\n",
       "\u001b[1;34m            If the original embedding was directed, input should be a tuple (y_left, y_right).\u001b[0m\n",
       "\u001b[1;34m\u001b[0m\n",
       "\u001b[1;34m        References\u001b[0m\n",
       "\u001b[1;34m        ----------\u001b[0m\n",
       "\u001b[1;34m        .. [1] Levin, K., Roosta-Khorasani, F., Mahoney, M. W., & Priebe, C. E. (2018).\u001b[0m\n",
       "\u001b[1;34m        Out-of-sample extension of graph adjacency spectral embedding. PMLR: Proceedings\u001b[0m\n",
       "\u001b[1;34m        of Machine Learning Research, 80, 2975-2984.\u001b[0m\n",
       "\u001b[1;34m        \"\"\"\u001b[0m\u001b[1;33m\u001b[0m\n",
       "\u001b[1;33m\u001b[0m\u001b[1;33m\u001b[0m\n",
       "\u001b[1;33m\u001b[0m        \u001b[1;31m# checks\u001b[0m\u001b[1;33m\u001b[0m\n",
       "\u001b[1;33m\u001b[0m        \u001b[0mcheck_is_fitted\u001b[0m\u001b[1;33m(\u001b[0m\u001b[0mself\u001b[0m\u001b[1;33m,\u001b[0m \u001b[1;34m\"is_fitted_\"\u001b[0m\u001b[1;33m)\u001b[0m\u001b[1;33m\u001b[0m\n",
       "\u001b[1;33m\u001b[0m        \u001b[1;31m# TODO: check for nan values in y\u001b[0m\u001b[1;33m\u001b[0m\n",
       "\u001b[1;33m\u001b[0m\u001b[1;33m\u001b[0m\n",
       "\u001b[1;33m\u001b[0m        \u001b[1;31m# workhorse code\u001b[0m\u001b[1;33m\u001b[0m\n",
       "\u001b[1;33m\u001b[0m        \u001b[1;32mif\u001b[0m \u001b[0mself\u001b[0m\u001b[1;33m.\u001b[0m\u001b[0mlatent_right_\u001b[0m \u001b[1;32mis\u001b[0m \u001b[1;32mNone\u001b[0m\u001b[1;33m:\u001b[0m  \u001b[1;31m# undirected\u001b[0m\u001b[1;33m\u001b[0m\n",
       "\u001b[1;33m\u001b[0m            \u001b[1;32mif\u001b[0m \u001b[1;32mnot\u001b[0m \u001b[0misinstance\u001b[0m\u001b[1;33m(\u001b[0m\u001b[0my\u001b[0m\u001b[1;33m,\u001b[0m \u001b[0mnp\u001b[0m\u001b[1;33m.\u001b[0m\u001b[0mndarray\u001b[0m\u001b[1;33m)\u001b[0m\u001b[1;33m:\u001b[0m\u001b[1;33m\u001b[0m\n",
       "\u001b[1;33m\u001b[0m                \u001b[1;32mraise\u001b[0m \u001b[0mTypeError\u001b[0m\u001b[1;33m(\u001b[0m\u001b[1;34m\"Undirected graphs require array input\"\u001b[0m\u001b[1;33m)\u001b[0m\u001b[1;33m\u001b[0m\n",
       "\u001b[1;33m\u001b[0m            \u001b[1;32mreturn\u001b[0m \u001b[0my\u001b[0m \u001b[1;33m@\u001b[0m \u001b[0mself\u001b[0m\u001b[1;33m.\u001b[0m\u001b[0mpinv_left_\u001b[0m\u001b[1;33m\u001b[0m\n",
       "\u001b[1;33m\u001b[0m        \u001b[1;32melse\u001b[0m\u001b[1;33m:\u001b[0m  \u001b[1;31m# directed\u001b[0m\u001b[1;33m\u001b[0m\n",
       "\u001b[1;33m\u001b[0m            \u001b[1;32mif\u001b[0m \u001b[1;32mnot\u001b[0m \u001b[0misinstance\u001b[0m\u001b[1;33m(\u001b[0m\u001b[0my\u001b[0m\u001b[1;33m,\u001b[0m \u001b[0mtuple\u001b[0m\u001b[1;33m)\u001b[0m\u001b[1;33m:\u001b[0m\u001b[1;33m\u001b[0m\n",
       "\u001b[1;33m\u001b[0m                \u001b[1;32mraise\u001b[0m \u001b[0mTypeError\u001b[0m\u001b[1;33m(\u001b[0m\u001b[1;34m\"Directed graphs require a tuple (y_left, y_right)\"\u001b[0m\u001b[1;33m)\u001b[0m\u001b[1;33m\u001b[0m\n",
       "\u001b[1;33m\u001b[0m            \u001b[1;32mreturn\u001b[0m \u001b[0my\u001b[0m\u001b[1;33m[\u001b[0m\u001b[1;36m0\u001b[0m\u001b[1;33m]\u001b[0m \u001b[1;33m@\u001b[0m \u001b[0mself\u001b[0m\u001b[1;33m.\u001b[0m\u001b[0mpinv_left_\u001b[0m\u001b[1;33m,\u001b[0m \u001b[0my\u001b[0m\u001b[1;33m[\u001b[0m\u001b[1;36m1\u001b[0m\u001b[1;33m]\u001b[0m \u001b[1;33m@\u001b[0m \u001b[0mself\u001b[0m\u001b[1;33m.\u001b[0m\u001b[0mpinv_right_\u001b[0m\u001b[1;33m\u001b[0m\u001b[0m\n",
       "\u001b[1;31mFile:\u001b[0m           ~/Dropbox/School/NDD/graspologic/graspologic/embed/ase.py\n",
       "\u001b[1;31mType:\u001b[0m           type\n",
       "\u001b[1;31mSubclasses:\u001b[0m     \n"
      ]
     },
     "metadata": {},
     "output_type": "display_data"
    }
   ],
   "source": [
    "??ASE"
   ]
  },
  {
   "cell_type": "markdown",
   "metadata": {},
   "source": [
    "## Test weighted"
   ]
  },
  {
   "cell_type": "code",
   "execution_count": 135,
   "metadata": {},
   "outputs": [
    {
     "data": {
      "text/plain": [
       "<AxesSubplot:>"
      ]
     },
     "execution_count": 135,
     "metadata": {},
     "output_type": "execute_result"
    },
    {
     "data": {
      "image/png": "[encoded data removed]",
      "text/plain": [
       "<Figure size 720x720 with 2 Axes>"
      ]
     },
     "metadata": {
      "needs_background": "light"
     },
     "output_type": "display_data"
    }
   ],
   "source": [
    "n = [10, 10]\n",
    "p = np.eye(2)\n",
    "wt = [[normal, poisson],\n",
    "      [poisson, normal]]\n",
    "wtargs = [[dict(loc=3, scale=1), dict(lam=5)],\n",
    "          [dict(lam=5), dict(loc=3, scale=1)]]\n",
    "\n",
    "# B = sbm(n=n, p=p, \n",
    "#         wt=wt, wtargs=wtargs)\n",
    "Guw = sbm(n=n, p=p)\n",
    "Gw = sbm(n=n, p=p, wt=wt, wtargs=wtargs)\n",
    "Guwd = sbm(n=n, p=p, directed=True)\n",
    "Gwd = sbm(n=n, p=p, wt=wt, wtargs=wtargs, directed=True)\n",
    "\n",
    "heatmap(Guw)"
   ]
  },
  {
   "cell_type": "code",
   "execution_count": 136,
   "metadata": {},
   "outputs": [
    {
     "data": {
      "text/plain": [
       "<seaborn.axisgrid.PairGrid at 0x138c0b9e8>"
      ]
     },
     "execution_count": 136,
     "metadata": {},
     "output_type": "execute_result"
    },
    {
     "data": {
      "image/png": "[encoded data removed]",
      "text/plain": [
       "<Figure size 360x360 with 6 Axes>"
      ]
     },
     "metadata": {
      "needs_background": "light"
     },
     "output_type": "display_data"
    }
   ],
   "source": [
    "# plot\n",
    "ase = ASE(n_components=2)\n",
    "Xhat = ase.fit_transform(Guw)\n",
    "\n",
    "pairplot(Xhat)"
   ]
  },
  {
   "cell_type": "code",
   "execution_count": 137,
   "metadata": {},
   "outputs": [
    {
     "data": {
      "text/plain": [
       "array([[ 1., -0.],\n",
       "       [ 1., -0.],\n",
       "       [ 1., -0.],\n",
       "       [ 1., -0.],\n",
       "       [ 1., -0.],\n",
       "       [ 1., -0.],\n",
       "       [ 1., -0.],\n",
       "       [ 1., -0.],\n",
       "       [ 1., -0.],\n",
       "       [ 1., -0.],\n",
       "       [ 0.,  1.],\n",
       "       [ 0.,  1.],\n",
       "       [ 0.,  1.],\n",
       "       [ 0.,  1.],\n",
       "       [ 0.,  1.],\n",
       "       [ 0.,  1.],\n",
       "       [ 0.,  1.],\n",
       "       [ 0.,  1.],\n",
       "       [ 0.,  1.],\n",
       "       [ 0.,  1.]])"
      ]
     },
     "execution_count": 137,
     "metadata": {},
     "output_type": "execute_result"
    }
   ],
   "source": [
    "np.round(Xhat)"
   ]
  },
  {
   "cell_type": "code",
   "execution_count": 138,
   "metadata": {},
   "outputs": [
    {
     "data": {
      "text/plain": [
       "<AxesSubplot:>"
      ]
     },
     "execution_count": 138,
     "metadata": {},
     "output_type": "execute_result"
    },
    {
     "data": {
      "image/png": "[encoded data removed]",
      "text/plain": [
       "<Figure size 720x720 with 2 Axes>"
      ]
     },
     "metadata": {
      "needs_background": "light"
     },
     "output_type": "display_data"
    }
   ],
   "source": [
    "heatmap(Gw)"
   ]
  },
  {
   "cell_type": "code",
   "execution_count": 139,
   "metadata": {},
   "outputs": [
    {
     "data": {
      "text/plain": [
       "<seaborn.axisgrid.PairGrid at 0x138ed7940>"
      ]
     },
     "execution_count": 139,
     "metadata": {},
     "output_type": "execute_result"
    },
    {
     "data": {
      "image/png": "[encoded data removed]",
      "text/plain": [
       "<Figure size 360x360 with 6 Axes>"
      ]
     },
     "metadata": {
      "needs_background": "light"
     },
     "output_type": "display_data"
    }
   ],
   "source": [
    "ase = ASE(n_components=2)\n",
    "Xhat = ase.fit_transform(Gw)\n",
    "\n",
    "pairplot(Xhat)"
   ]
  },
  {
   "cell_type": "code",
   "execution_count": 140,
   "metadata": {},
   "outputs": [
    {
     "data": {
      "text/plain": [
       "array([[-0.,  2.],\n",
       "       [-0.,  2.],\n",
       "       [ 0.,  2.],\n",
       "       [-0.,  1.],\n",
       "       [-0.,  2.],\n",
       "       [-0.,  2.],\n",
       "       [ 0.,  2.],\n",
       "       [ 0.,  1.],\n",
       "       [ 0.,  2.],\n",
       "       [-0.,  2.],\n",
       "       [ 2.,  0.],\n",
       "       [ 2.,  0.],\n",
       "       [ 2., -0.],\n",
       "       [ 2., -0.],\n",
       "       [ 2., -0.],\n",
       "       [ 2.,  0.],\n",
       "       [ 2., -0.],\n",
       "       [ 2., -0.],\n",
       "       [ 2., -0.],\n",
       "       [ 2., -0.]])"
      ]
     },
     "execution_count": 140,
     "metadata": {},
     "output_type": "execute_result"
    }
   ],
   "source": [
    "np.round(Xhat)"
   ]
  },
  {
   "cell_type": "code",
   "execution_count": 141,
   "metadata": {},
   "outputs": [
    {
     "data": {
      "text/plain": [
       "(20, 20)"
      ]
     },
     "execution_count": 141,
     "metadata": {},
     "output_type": "execute_result"
    }
   ],
   "source": [
    "Gw.shape"
   ]
  },
  {
   "cell_type": "code",
   "execution_count": 142,
   "metadata": {},
   "outputs": [
    {
     "data": {
      "text/plain": [
       "(array([[0.        , 4.05609828, 3.38065088, 2.20923406, 3.33943137,\n",
       "         3.84115304, 3.19634292, 3.30199553, 1.43454245, 0.        ,\n",
       "         0.        , 0.        , 0.        , 0.        , 0.        ,\n",
       "         0.        , 0.        , 0.        , 0.        ],\n",
       "        [4.05609828, 0.        , 2.39886198, 2.26521815, 0.63349018,\n",
       "         3.86138327, 3.28406806, 3.95529269, 3.27175628, 0.        ,\n",
       "         0.        , 0.        , 0.        , 0.        , 0.        ,\n",
       "         0.        , 0.        , 0.        , 0.        ],\n",
       "        [3.38065088, 2.39886198, 0.        , 4.03496313, 1.73019689,\n",
       "         2.91320111, 1.23942799, 1.94762148, 1.96591277, 0.        ,\n",
       "         0.        , 0.        , 0.        , 0.        , 0.        ,\n",
       "         0.        , 0.        , 0.        , 0.        ],\n",
       "        [2.20923406, 2.26521815, 4.03496313, 0.        , 4.11795158,\n",
       "         4.01796021, 2.12722713, 3.29179663, 3.80263594, 0.        ,\n",
       "         0.        , 0.        , 0.        , 0.        , 0.        ,\n",
       "         0.        , 0.        , 0.        , 0.        ],\n",
       "        [3.33943137, 0.63349018, 1.73019689, 4.11795158, 0.        ,\n",
       "         2.6119693 , 2.48876273, 4.19347451, 2.78936944, 0.        ,\n",
       "         0.        , 0.        , 0.        , 0.        , 0.        ,\n",
       "         0.        , 0.        , 0.        , 0.        ],\n",
       "        [3.84115304, 3.86138327, 2.91320111, 4.01796021, 2.6119693 ,\n",
       "         0.        , 3.20934998, 3.51188234, 2.52339235, 0.        ,\n",
       "         0.        , 0.        , 0.        , 0.        , 0.        ,\n",
       "         0.        , 0.        , 0.        , 0.        ],\n",
       "        [3.19634292, 3.28406806, 1.23942799, 2.12722713, 2.48876273,\n",
       "         3.20934998, 0.        , 4.08979167, 2.68167621, 0.        ,\n",
       "         0.        , 0.        , 0.        , 0.        , 0.        ,\n",
       "         0.        , 0.        , 0.        , 0.        ],\n",
       "        [3.30199553, 3.95529269, 1.94762148, 3.29179663, 4.19347451,\n",
       "         3.51188234, 4.08979167, 0.        , 3.35521098, 0.        ,\n",
       "         0.        , 0.        , 0.        , 0.        , 0.        ,\n",
       "         0.        , 0.        , 0.        , 0.        ],\n",
       "        [1.43454245, 3.27175628, 1.96591277, 3.80263594, 2.78936944,\n",
       "         2.52339235, 2.68167621, 3.35521098, 0.        , 0.        ,\n",
       "         0.        , 0.        , 0.        , 0.        , 0.        ,\n",
       "         0.        , 0.        , 0.        , 0.        ],\n",
       "        [0.        , 0.        , 0.        , 0.        , 0.        ,\n",
       "         0.        , 0.        , 0.        , 0.        , 0.        ,\n",
       "         2.43312881, 2.53239332, 4.6297431 , 3.77211307, 2.94359897,\n",
       "         3.24380968, 3.9321153 , 2.88175136, 2.71207692],\n",
       "        [0.        , 0.        , 0.        , 0.        , 0.        ,\n",
       "         0.        , 0.        , 0.        , 0.        , 2.43312881,\n",
       "         0.        , 4.2802766 , 2.59317337, 2.34499862, 4.08634607,\n",
       "         2.67346288, 3.35397803, 3.15681698, 3.2645551 ],\n",
       "        [0.        , 0.        , 0.        , 0.        , 0.        ,\n",
       "         0.        , 0.        , 0.        , 0.        , 2.53239332,\n",
       "         4.2802766 , 0.        , 3.16707124, 3.10300493, 3.20076019,\n",
       "         2.87891484, 1.19460787, 3.25552138, 3.2577434 ],\n",
       "        [0.        , 0.        , 0.        , 0.        , 0.        ,\n",
       "         0.        , 0.        , 0.        , 0.        , 4.6297431 ,\n",
       "         2.59317337, 3.16707124, 0.        , 3.00190996, 1.94254113,\n",
       "         2.69782983, 2.53469462, 1.85469899, 3.56578748],\n",
       "        [0.        , 0.        , 0.        , 0.        , 0.        ,\n",
       "         0.        , 0.        , 0.        , 0.        , 3.77211307,\n",
       "         2.34499862, 3.10300493, 3.00190996, 0.        , 3.57532115,\n",
       "         3.57213169, 2.28611709, 4.94342773, 3.00767259],\n",
       "        [0.        , 0.        , 0.        , 0.        , 0.        ,\n",
       "         0.        , 0.        , 0.        , 0.        , 2.94359897,\n",
       "         4.08634607, 3.20076019, 1.94254113, 3.57532115, 0.        ,\n",
       "         4.03179797, 2.31625595, 4.58500658, 2.41295962],\n",
       "        [0.        , 0.        , 0.        , 0.        , 0.        ,\n",
       "         0.        , 0.        , 0.        , 0.        , 3.24380968,\n",
       "         2.67346288, 2.87891484, 2.69782983, 3.57213169, 4.03179797,\n",
       "         0.        , 4.88911712, 4.23317538, 0.99830792],\n",
       "        [0.        , 0.        , 0.        , 0.        , 0.        ,\n",
       "         0.        , 0.        , 0.        , 0.        , 3.9321153 ,\n",
       "         3.35397803, 1.19460787, 2.53469462, 2.28611709, 2.31625595,\n",
       "         4.88911712, 0.        , 3.41986412, 5.12754744],\n",
       "        [0.        , 0.        , 0.        , 0.        , 0.        ,\n",
       "         0.        , 0.        , 0.        , 0.        , 2.88175136,\n",
       "         3.15681698, 3.25552138, 1.85469899, 4.94342773, 4.58500658,\n",
       "         4.23317538, 3.41986412, 0.        , 1.91206944],\n",
       "        [0.        , 0.        , 0.        , 0.        , 0.        ,\n",
       "         0.        , 0.        , 0.        , 0.        , 2.71207692,\n",
       "         3.2645551 , 3.2577434 , 3.56578748, 3.00767259, 2.41295962,\n",
       "         0.99830792, 5.12754744, 1.91206944, 0.        ]]),\n",
       " array([[3.30949277, 2.35578103, 2.81683223, 3.11065097, 3.03168231,\n",
       "         3.4179215 , 0.74389512, 2.81257402, 4.43268952, 0.        ,\n",
       "         0.        , 0.        , 0.        , 0.        , 0.        ,\n",
       "         0.        , 0.        , 0.        , 0.        ]]))"
      ]
     },
     "execution_count": 142,
     "metadata": {},
     "output_type": "execute_result"
    }
   ],
   "source": [
    "remove_vertices(Gw, 1, return_vertices=True)"
   ]
  },
  {
   "cell_type": "markdown",
   "metadata": {},
   "source": [
    "## Tests for remove_vertices"
   ]
  },
  {
   "cell_type": "code",
   "execution_count": 143,
   "metadata": {},
   "outputs": [
    {
     "data": {
      "text/plain": [
       "'1.19.1'"
      ]
     },
     "execution_count": 143,
     "metadata": {},
     "output_type": "execute_result"
    }
   ],
   "source": [
    "np.__version__"
   ]
  },
  {
   "cell_type": "code",
   "execution_count": 146,
   "metadata": {},
   "outputs": [],
   "source": [
    "# testing remove_vertices\n",
    "from graspologic.utils import is_almost_symmetric, import_graph, symmetrize\n",
    "\n",
    "def remove_vertices(graph, indices, return_vertices=False):\n",
    "    # type checks\n",
    "    directed = not is_almost_symmetric(graph)\n",
    "    graph = import_graph(graph)\n",
    "\n",
    "    # truncate graph\n",
    "    A = np.delete(np.delete(graph, indices, 0), indices, 1)\n",
    "\n",
    "    # grab relevant vertices\n",
    "    if return_vertices:\n",
    "        rows = np.delete(graph, indices, axis=0)\n",
    "        vertices = rows[:, indices].T\n",
    "        if directed:\n",
    "            cols = np.delete(graph, indices, axis=1)\n",
    "            vertices_right = cols[indices, :]\n",
    "            return A, (vertices, vertices_right)\n",
    "        return A, vertices\n",
    "    return A\n",
    "\n",
    "# generate data (undirected)\n",
    "G = np.arange(1, 26).reshape(5, 5)\n",
    "G = symmetrize(G, method='tril')\n",
    "G[np.diag_indices(len(G))] = 0\n",
    "\n",
    "# tests (undirected)\n",
    "vertices = [0, -1, 1]\n",
    "A, a = remove_vertices(G, indices=vertices, return_vertices=True)\n",
    "assert np.array_equal(A, np.array([[0, 18], [18, 0]]))\n",
    "assert np.array_equal(a, np.array([[11, 16],\n",
    "                                   [23, 24],\n",
    "                                   [12, 17]]))\n",
    "\n",
    "# with integer index\n",
    "A, a = remove_vertices(G, indices=0, return_vertices=True)\n",
    "assert np.array_equal(A, G[1:, 1:])\n",
    "assert np.array_equal(a, np.array([6, 11, 16, 21]))\n",
    "\n",
    "assert np.array_equal(remove_vertices(G, 0), remove_vertices(G, [0]))\n",
    "\n",
    "# directed case\n",
    "G = np.arange(1, 26).reshape(5, 5)\n",
    "G[np.diag_indices(len(G))] = 0\n",
    "A, a = remove_vertices(G, indices=vertices, return_vertices=True)\n",
    "assert np.array_equal(A, np.array([[0, 14], [18, 0]]))\n",
    "assert np.array_equal(a[0], np.array([[11, 16],\n",
    "                                      [15, 20],\n",
    "                                      [12, 17]]))\n",
    "assert np.array_equal(a[1], np.array([[3, 4],\n",
    "                                      [23, 24],\n",
    "                                      [8, 9]]))\n"
   ]
  },
  {
   "cell_type": "code",
   "execution_count": 123,
   "metadata": {},
   "outputs": [
    {
     "data": {
      "text/plain": [
       "(array([[11., 16.],\n",
       "        [15., 20.],\n",
       "        [12., 17.]]),\n",
       " array([[ 3.,  4.],\n",
       "        [23., 24.],\n",
       "        [ 8.,  9.]]))"
      ]
     },
     "execution_count": 123,
     "metadata": {},
     "output_type": "execute_result"
    }
   ],
   "source": [
    "a"
   ]
  },
  {
   "cell_type": "code",
   "execution_count": 118,
   "metadata": {},
   "outputs": [
    {
     "data": {
      "text/plain": [
       "array([[ 0,  2,  3,  4,  5],\n",
       "       [ 6,  0,  8,  9, 10],\n",
       "       [11, 12,  0, 14, 15],\n",
       "       [16, 17, 18,  0, 20],\n",
       "       [21, 22, 23, 24,  0]])"
      ]
     },
     "execution_count": 118,
     "metadata": {},
     "output_type": "execute_result"
    }
   ],
   "source": [
    "G"
   ]
  },
  {
   "cell_type": "markdown",
   "metadata": {},
   "source": [
    "## Tests for ASE"
   ]
  },
  {
   "cell_type": "code",
   "execution_count": 127,
   "metadata": {},
   "outputs": [],
   "source": [
    "from graspologic.embed import AdjacencySpectralEmbed as ASE\n",
    "from sklearn.utils.estimator_checks import check_estimator"
   ]
  },
  {
   "cell_type": "code",
   "execution_count": 131,
   "metadata": {},
   "outputs": [
    {
     "data": {
      "text/plain": [
       "\u001b[1;31mSignature:\u001b[0m \u001b[0mcheck_estimator\u001b[0m\u001b[1;33m(\u001b[0m\u001b[0mEstimator\u001b[0m\u001b[1;33m,\u001b[0m \u001b[0mgenerate_only\u001b[0m\u001b[1;33m=\u001b[0m\u001b[1;32mFalse\u001b[0m\u001b[1;33m)\u001b[0m\u001b[1;33m\u001b[0m\u001b[0m\n",
       "\u001b[1;31mDocstring:\u001b[0m\n",
       "Check if estimator adheres to scikit-learn conventions.\n",
       "\n",
       "This estimator will run an extensive test-suite for input validation,\n",
       "shapes, etc, making sure that the estimator complies with `scikit-learn`\n",
       "conventions as detailed in :ref:`rolling_your_own_estimator`.\n",
       "Additional tests for classifiers, regressors, clustering or transformers\n",
       "will be run if the Estimator class inherits from the corresponding mixin\n",
       "from sklearn.base.\n",
       "\n",
       "This test can be applied to classes or instances.\n",
       "Classes currently have some additional tests that related to construction,\n",
       "while passing instances allows the testing of multiple options. However,\n",
       "support for classes is deprecated since version 0.23 and will be removed\n",
       "in version 0.24 (class checks will still be run on the instances).\n",
       "\n",
       "Setting `generate_only=True` returns a generator that yields (estimator,\n",
       "check) tuples where the check can be called independently from each\n",
       "other, i.e. `check(estimator)`. This allows all checks to be run\n",
       "independently and report the checks that are failing.\n",
       "\n",
       "scikit-learn provides a pytest specific decorator,\n",
       ":func:`~sklearn.utils.parametrize_with_checks`, making it easier to test\n",
       "multiple estimators.\n",
       "\n",
       "Parameters\n",
       "----------\n",
       "estimator : estimator object\n",
       "    Estimator to check. Estimator is a class object or instance.\n",
       "\n",
       "    .. deprecated:: 0.23\n",
       "       Passing a class is deprecated from version 0.23, and won't be\n",
       "       supported in 0.24. Pass an instance instead.\n",
       "\n",
       "generate_only : bool, optional (default=False)\n",
       "    When `False`, checks are evaluated when `check_estimator` is called.\n",
       "    When `True`, `check_estimator` returns a generator that yields\n",
       "    (estimator, check) tuples. The check is run by calling\n",
       "    `check(estimator)`.\n",
       "\n",
       "    .. versionadded:: 0.22\n",
       "\n",
       "Returns\n",
       "-------\n",
       "checks_generator : generator\n",
       "    Generator that yields (estimator, check) tuples. Returned when\n",
       "    `generate_only=True`.\n",
       "\u001b[1;31mFile:\u001b[0m      ~/.pyenv/versions/graspy/lib/python3.7/site-packages/sklearn/utils/estimator_checks.py\n",
       "\u001b[1;31mType:\u001b[0m      function\n"
      ]
     },
     "metadata": {},
     "output_type": "display_data"
    }
   ],
   "source": [
    "?check_estimator"
   ]
  },
  {
   "cell_type": "code",
   "execution_count": 132,
   "metadata": {},
   "outputs": [
    {
     "name": "stdout",
     "output_type": "stream",
     "text": [
      "Estimator doesn't check for NaN and inf in predict. AdjacencySpectralEmbed(n_components=2) matmul: Input operand 1 has a mismatch in its core dimension 0, with gufunc signature (n?,k),(k,m?)->(n?,m?) (size 10 is different from 3)\n",
      "Traceback (most recent call last):\n",
      "  File \"/Users/alex/.pyenv/versions/graspy/lib/python3.7/site-packages/sklearn/utils/estimator_checks.py\", line 1481, in check_estimators_nan_inf\n",
      "    estimator.predict(X_train)\n",
      "  File \"/Users/alex/Dropbox/School/NDD/graspologic/graspologic/embed/ase.py\", line 205, in predict\n",
      "    return y @ self.pinv_left_\n",
      "ValueError: matmul: Input operand 1 has a mismatch in its core dimension 0, with gufunc signature (n?,k),(k,m?)->(n?,m?) (size 10 is different from 3)\n"
     ]
    },
    {
     "ename": "ValueError",
     "evalue": "matmul: Input operand 1 has a mismatch in its core dimension 0, with gufunc signature (n?,k),(k,m?)->(n?,m?) (size 10 is different from 3)",
     "output_type": "error",
     "traceback": [
      "\u001b[1;31m---------------------------------------------------------------------------\u001b[0m",
      "\u001b[1;31mValueError\u001b[0m                                Traceback (most recent call last)",
      "\u001b[1;32m<ipython-input-132-cd21499ea763>\u001b[0m in \u001b[0;36m<module>\u001b[1;34m\u001b[0m\n\u001b[0;32m      1\u001b[0m \u001b[0mase\u001b[0m \u001b[1;33m=\u001b[0m \u001b[0mASE\u001b[0m\u001b[1;33m(\u001b[0m\u001b[0mn_components\u001b[0m\u001b[1;33m=\u001b[0m\u001b[1;36m2\u001b[0m\u001b[1;33m)\u001b[0m\u001b[1;33m\u001b[0m\u001b[0m\n\u001b[1;32m----> 2\u001b[1;33m \u001b[0mcheck_estimator\u001b[0m\u001b[1;33m(\u001b[0m\u001b[0mase\u001b[0m\u001b[1;33m,\u001b[0m \u001b[0mgenerate_only\u001b[0m\u001b[1;33m=\u001b[0m\u001b[1;32mFalse\u001b[0m\u001b[1;33m)\u001b[0m\u001b[1;33m\u001b[0m\u001b[0m\n\u001b[0m",
      "\u001b[1;32m~/.pyenv/versions/graspy/lib/python3.7/site-packages/sklearn/utils/estimator_checks.py\u001b[0m in \u001b[0;36mcheck_estimator\u001b[1;34m(Estimator, generate_only)\u001b[0m\n\u001b[0;32m    500\u001b[0m     \u001b[1;32mfor\u001b[0m \u001b[0mestimator\u001b[0m\u001b[1;33m,\u001b[0m \u001b[0mcheck\u001b[0m \u001b[1;32min\u001b[0m \u001b[0mchecks_generator\u001b[0m\u001b[1;33m:\u001b[0m\u001b[1;33m\u001b[0m\u001b[0m\n\u001b[0;32m    501\u001b[0m         \u001b[1;32mtry\u001b[0m\u001b[1;33m:\u001b[0m\u001b[1;33m\u001b[0m\u001b[0m\n\u001b[1;32m--> 502\u001b[1;33m             \u001b[0mcheck\u001b[0m\u001b[1;33m(\u001b[0m\u001b[0mestimator\u001b[0m\u001b[1;33m)\u001b[0m\u001b[1;33m\u001b[0m\u001b[0m\n\u001b[0m\u001b[0;32m    503\u001b[0m         \u001b[1;32mexcept\u001b[0m \u001b[0mSkipTest\u001b[0m \u001b[1;32mas\u001b[0m \u001b[0mexception\u001b[0m\u001b[1;33m:\u001b[0m\u001b[1;33m\u001b[0m\u001b[0m\n\u001b[0;32m    504\u001b[0m             \u001b[1;31m# the only SkipTest thrown currently results from not\u001b[0m\u001b[1;33m\u001b[0m\u001b[1;33m\u001b[0m\u001b[0m\n",
      "\u001b[1;32m~/.pyenv/versions/graspy/lib/python3.7/site-packages/sklearn/utils/_testing.py\u001b[0m in \u001b[0;36mwrapper\u001b[1;34m(*args, **kwargs)\u001b[0m\n\u001b[0;32m    315\u001b[0m             \u001b[1;32mwith\u001b[0m \u001b[0mwarnings\u001b[0m\u001b[1;33m.\u001b[0m\u001b[0mcatch_warnings\u001b[0m\u001b[1;33m(\u001b[0m\u001b[1;33m)\u001b[0m\u001b[1;33m:\u001b[0m\u001b[1;33m\u001b[0m\u001b[0m\n\u001b[0;32m    316\u001b[0m                 \u001b[0mwarnings\u001b[0m\u001b[1;33m.\u001b[0m\u001b[0msimplefilter\u001b[0m\u001b[1;33m(\u001b[0m\u001b[1;34m\"ignore\"\u001b[0m\u001b[1;33m,\u001b[0m \u001b[0mself\u001b[0m\u001b[1;33m.\u001b[0m\u001b[0mcategory\u001b[0m\u001b[1;33m)\u001b[0m\u001b[1;33m\u001b[0m\u001b[0m\n\u001b[1;32m--> 317\u001b[1;33m                 \u001b[1;32mreturn\u001b[0m \u001b[0mfn\u001b[0m\u001b[1;33m(\u001b[0m\u001b[1;33m*\u001b[0m\u001b[0margs\u001b[0m\u001b[1;33m,\u001b[0m \u001b[1;33m**\u001b[0m\u001b[0mkwargs\u001b[0m\u001b[1;33m)\u001b[0m\u001b[1;33m\u001b[0m\u001b[0m\n\u001b[0m\u001b[0;32m    318\u001b[0m \u001b[1;33m\u001b[0m\u001b[0m\n\u001b[0;32m    319\u001b[0m         \u001b[1;32mreturn\u001b[0m \u001b[0mwrapper\u001b[0m\u001b[1;33m\u001b[0m\u001b[0m\n",
      "\u001b[1;32m~/.pyenv/versions/graspy/lib/python3.7/site-packages/sklearn/utils/estimator_checks.py\u001b[0m in \u001b[0;36mcheck_estimators_nan_inf\u001b[1;34m(name, estimator_orig)\u001b[0m\n\u001b[0;32m   1484\u001b[0m                         \u001b[0mprint\u001b[0m\u001b[1;33m(\u001b[0m\u001b[0merror_string_predict\u001b[0m\u001b[1;33m,\u001b[0m \u001b[0mestimator\u001b[0m\u001b[1;33m,\u001b[0m \u001b[0me\u001b[0m\u001b[1;33m)\u001b[0m\u001b[1;33m\u001b[0m\u001b[0m\n\u001b[0;32m   1485\u001b[0m                         \u001b[0mtraceback\u001b[0m\u001b[1;33m.\u001b[0m\u001b[0mprint_exc\u001b[0m\u001b[1;33m(\u001b[0m\u001b[0mfile\u001b[0m\u001b[1;33m=\u001b[0m\u001b[0msys\u001b[0m\u001b[1;33m.\u001b[0m\u001b[0mstdout\u001b[0m\u001b[1;33m)\u001b[0m\u001b[1;33m\u001b[0m\u001b[0m\n\u001b[1;32m-> 1486\u001b[1;33m                         \u001b[1;32mraise\u001b[0m \u001b[0me\u001b[0m\u001b[1;33m\u001b[0m\u001b[0m\n\u001b[0m\u001b[0;32m   1487\u001b[0m                 \u001b[1;32mexcept\u001b[0m \u001b[0mException\u001b[0m \u001b[1;32mas\u001b[0m \u001b[0mexc\u001b[0m\u001b[1;33m:\u001b[0m\u001b[1;33m\u001b[0m\u001b[0m\n\u001b[0;32m   1488\u001b[0m                     \u001b[0mprint\u001b[0m\u001b[1;33m(\u001b[0m\u001b[0merror_string_predict\u001b[0m\u001b[1;33m,\u001b[0m \u001b[0mestimator\u001b[0m\u001b[1;33m,\u001b[0m \u001b[0mexc\u001b[0m\u001b[1;33m)\u001b[0m\u001b[1;33m\u001b[0m\u001b[0m\n",
      "\u001b[1;32m~/.pyenv/versions/graspy/lib/python3.7/site-packages/sklearn/utils/estimator_checks.py\u001b[0m in \u001b[0;36mcheck_estimators_nan_inf\u001b[1;34m(name, estimator_orig)\u001b[0m\n\u001b[0;32m   1479\u001b[0m             \u001b[1;32mif\u001b[0m \u001b[0mhasattr\u001b[0m\u001b[1;33m(\u001b[0m\u001b[0mestimator\u001b[0m\u001b[1;33m,\u001b[0m \u001b[1;34m\"predict\"\u001b[0m\u001b[1;33m)\u001b[0m\u001b[1;33m:\u001b[0m\u001b[1;33m\u001b[0m\u001b[0m\n\u001b[0;32m   1480\u001b[0m                 \u001b[1;32mtry\u001b[0m\u001b[1;33m:\u001b[0m\u001b[1;33m\u001b[0m\u001b[0m\n\u001b[1;32m-> 1481\u001b[1;33m                     \u001b[0mestimator\u001b[0m\u001b[1;33m.\u001b[0m\u001b[0mpredict\u001b[0m\u001b[1;33m(\u001b[0m\u001b[0mX_train\u001b[0m\u001b[1;33m)\u001b[0m\u001b[1;33m\u001b[0m\u001b[0m\n\u001b[0m\u001b[0;32m   1482\u001b[0m                 \u001b[1;32mexcept\u001b[0m \u001b[0mValueError\u001b[0m \u001b[1;32mas\u001b[0m \u001b[0me\u001b[0m\u001b[1;33m:\u001b[0m\u001b[1;33m\u001b[0m\u001b[0m\n\u001b[0;32m   1483\u001b[0m                     \u001b[1;32mif\u001b[0m \u001b[1;34m'inf'\u001b[0m \u001b[1;32mnot\u001b[0m \u001b[1;32min\u001b[0m \u001b[0mrepr\u001b[0m\u001b[1;33m(\u001b[0m\u001b[0me\u001b[0m\u001b[1;33m)\u001b[0m \u001b[1;32mand\u001b[0m \u001b[1;34m'NaN'\u001b[0m \u001b[1;32mnot\u001b[0m \u001b[1;32min\u001b[0m \u001b[0mrepr\u001b[0m\u001b[1;33m(\u001b[0m\u001b[0me\u001b[0m\u001b[1;33m)\u001b[0m\u001b[1;33m:\u001b[0m\u001b[1;33m\u001b[0m\u001b[0m\n",
      "\u001b[1;32m~/Dropbox/School/NDD/graspologic/graspologic/embed/ase.py\u001b[0m in \u001b[0;36mpredict\u001b[1;34m(self, y)\u001b[0m\n\u001b[0;32m    203\u001b[0m             \u001b[1;32mif\u001b[0m \u001b[1;32mnot\u001b[0m \u001b[0misinstance\u001b[0m\u001b[1;33m(\u001b[0m\u001b[0my\u001b[0m\u001b[1;33m,\u001b[0m \u001b[0mnp\u001b[0m\u001b[1;33m.\u001b[0m\u001b[0mndarray\u001b[0m\u001b[1;33m)\u001b[0m\u001b[1;33m:\u001b[0m\u001b[1;33m\u001b[0m\u001b[0m\n\u001b[0;32m    204\u001b[0m                 \u001b[1;32mraise\u001b[0m \u001b[0mTypeError\u001b[0m\u001b[1;33m(\u001b[0m\u001b[1;34m\"Undirected graphs require array input\"\u001b[0m\u001b[1;33m)\u001b[0m\u001b[1;33m\u001b[0m\u001b[0m\n\u001b[1;32m--> 205\u001b[1;33m             \u001b[1;32mreturn\u001b[0m \u001b[0my\u001b[0m \u001b[1;33m@\u001b[0m \u001b[0mself\u001b[0m\u001b[1;33m.\u001b[0m\u001b[0mpinv_left_\u001b[0m\u001b[1;33m\u001b[0m\u001b[0m\n\u001b[0m\u001b[0;32m    206\u001b[0m         \u001b[1;32melse\u001b[0m\u001b[1;33m:\u001b[0m  \u001b[1;31m# directed\u001b[0m\u001b[1;33m\u001b[0m\u001b[0m\n\u001b[0;32m    207\u001b[0m             \u001b[1;32mif\u001b[0m \u001b[1;32mnot\u001b[0m \u001b[0misinstance\u001b[0m\u001b[1;33m(\u001b[0m\u001b[0my\u001b[0m\u001b[1;33m,\u001b[0m \u001b[0mtuple\u001b[0m\u001b[1;33m)\u001b[0m\u001b[1;33m:\u001b[0m\u001b[1;33m\u001b[0m\u001b[0m\n",
      "\u001b[1;31mValueError\u001b[0m: matmul: Input operand 1 has a mismatch in its core dimension 0, with gufunc signature (n?,k),(k,m?)->(n?,m?) (size 10 is different from 3)"
     ]
    }
   ],
   "source": [
    "ase = ASE(n_components=2)\n",
    "check_estimator(ase, generate_only=False)"
   ]
  }
 ],
 "metadata": {
  "kernelspec": {
   "display_name": "graspy",
   "language": "python",
   "name": "graspy"
  },
  "language_info": {
   "codemirror_mode": {
    "name": "ipython",
    "version": 3
   },
   "file_extension": ".py",
   "mimetype": "text/x-python",
   "name": "python",
   "nbconvert_exporter": "python",
   "pygments_lexer": "ipython3",
   "version": "3.7.0"
  }
 },
 "nbformat": 4,
 "nbformat_minor": 4
}
