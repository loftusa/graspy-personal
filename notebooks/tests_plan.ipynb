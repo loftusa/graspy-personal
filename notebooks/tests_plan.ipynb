{
 "cells": [
  {
   "cell_type": "markdown",
   "metadata": {},
   "source": [
    "# Test plan"
   ]
  },
  {
   "cell_type": "markdown",
   "metadata": {},
   "source": [
    "#### cases\n",
    "- directed\n",
    "    - weighted\n",
    "    - unweighted\n",
    "- undirected\n",
    "    - weighted\n",
    "    - unweighted\n",
    "\n",
    "#### tests needed\n",
    "- make sure objects are correct shape/size/type\n",
    "- make sure exceptions get properly raised\n",
    "- given some embedding from a matrix B (with same weights everywhere, true generative matrix), make sure latent positions are in proper location\n",
    "\n",
    "#### things users could do:\n",
    "- pass original matrix into predict method\n",
    "- pass augmented matrix into predict method\n",
    "- forget to fit\n",
    "- pass list as y (or any other type)\n",
    "- call fit_transform without calling fit\n",
    "\n",
    "#### ideas\n",
    "- maybe predict should take some number of 1D arrays as `args` instead of a numpy array? (and a bunch of tuples in the directed case)\n",
    "\n",
    "#### notes\n",
    "- remove_vertex needs more testing\n",
    "- add remove_vertex to ASE predict tutorial"
   ]
  },
  {
   "cell_type": "code",
   "execution_count": 1,
   "metadata": {},
   "outputs": [],
   "source": [
    "import numpy as np\n",
    "from numpy.random import normal, poisson\n",
    "\n",
    "import graspologic\n",
    "from graspologic.embed import AdjacencySpectralEmbed as ASE\n",
    "from graspologic.simulations import sbm\n",
    "from graspologic.plot import heatmap, pairplot\n",
    "from graspologic.utils import get_lcc, remove_vertices\n",
    "\n",
    "import warnings\n",
    "warnings.filterwarnings(\"ignore\")"
   ]
  },
  {
   "cell_type": "code",
   "execution_count": 2,
   "metadata": {},
   "outputs": [
    {
     "data": {
      "text/plain": [
       "\u001b[1;31mInit signature:\u001b[0m\n",
       "\u001b[0mASE\u001b[0m\u001b[1;33m(\u001b[0m\u001b[1;33m\u001b[0m\n",
       "\u001b[1;33m\u001b[0m    \u001b[0mn_components\u001b[0m\u001b[1;33m=\u001b[0m\u001b[1;32mNone\u001b[0m\u001b[1;33m,\u001b[0m\u001b[1;33m\u001b[0m\n",
       "\u001b[1;33m\u001b[0m    \u001b[0mn_elbows\u001b[0m\u001b[1;33m=\u001b[0m\u001b[1;36m2\u001b[0m\u001b[1;33m,\u001b[0m\u001b[1;33m\u001b[0m\n",
       "\u001b[1;33m\u001b[0m    \u001b[0malgorithm\u001b[0m\u001b[1;33m=\u001b[0m\u001b[1;34m'randomized'\u001b[0m\u001b[1;33m,\u001b[0m\u001b[1;33m\u001b[0m\n",
       "\u001b[1;33m\u001b[0m    \u001b[0mn_iter\u001b[0m\u001b[1;33m=\u001b[0m\u001b[1;36m5\u001b[0m\u001b[1;33m,\u001b[0m\u001b[1;33m\u001b[0m\n",
       "\u001b[1;33m\u001b[0m    \u001b[0mcheck_lcc\u001b[0m\u001b[1;33m=\u001b[0m\u001b[1;32mTrue\u001b[0m\u001b[1;33m,\u001b[0m\u001b[1;33m\u001b[0m\n",
       "\u001b[1;33m\u001b[0m    \u001b[0mdiag_aug\u001b[0m\u001b[1;33m=\u001b[0m\u001b[1;32mTrue\u001b[0m\u001b[1;33m,\u001b[0m\u001b[1;33m\u001b[0m\n",
       "\u001b[1;33m\u001b[0m    \u001b[0mconcat\u001b[0m\u001b[1;33m=\u001b[0m\u001b[1;32mFalse\u001b[0m\u001b[1;33m,\u001b[0m\u001b[1;33m\u001b[0m\n",
       "\u001b[1;33m\u001b[0m\u001b[1;33m)\u001b[0m\u001b[1;33m\u001b[0m\u001b[0m\n",
       "\u001b[1;31mSource:\u001b[0m        \n",
       "\u001b[1;32mclass\u001b[0m \u001b[0mAdjacencySpectralEmbed\u001b[0m\u001b[1;33m(\u001b[0m\u001b[0mBaseEmbed\u001b[0m\u001b[1;33m)\u001b[0m\u001b[1;33m:\u001b[0m\u001b[1;33m\u001b[0m\n",
       "\u001b[1;33m\u001b[0m    \u001b[1;34mr\"\"\"\u001b[0m\n",
       "\u001b[1;34m    Class for computing the adjacency spectral embedding of a graph.\u001b[0m\n",
       "\u001b[1;34m\u001b[0m\n",
       "\u001b[1;34m    The adjacency spectral embedding (ASE) is a k-dimensional Euclidean representation\u001b[0m\n",
       "\u001b[1;34m    of the graph based on its adjacency matrix. It relies on an SVD to reduce\u001b[0m\n",
       "\u001b[1;34m    the dimensionality to the specified k, or if k is unspecified, can find a number of\u001b[0m\n",
       "\u001b[1;34m    dimensions automatically (see :class:`~graspologic.embed.selectSVD`).\u001b[0m\n",
       "\u001b[1;34m\u001b[0m\n",
       "\u001b[1;34m    Read more in the :ref:`tutorials <embed_tutorials>`\u001b[0m\n",
       "\u001b[1;34m\u001b[0m\n",
       "\u001b[1;34m    Parameters\u001b[0m\n",
       "\u001b[1;34m    ----------\u001b[0m\n",
       "\u001b[1;34m    n_components : int or None, default = None\u001b[0m\n",
       "\u001b[1;34m        Desired dimensionality of output data. If \"full\",\u001b[0m\n",
       "\u001b[1;34m        n_components must be <= min(X.shape). Otherwise, n_components must be\u001b[0m\n",
       "\u001b[1;34m        < min(X.shape). If None, then optimal dimensions will be chosen by\u001b[0m\n",
       "\u001b[1;34m        :func:`~graspologic.embed.select_dimension` using ``n_elbows`` argument.\u001b[0m\n",
       "\u001b[1;34m\u001b[0m\n",
       "\u001b[1;34m    n_elbows : int, optional, default: 2\u001b[0m\n",
       "\u001b[1;34m        If ``n_components=None``, then compute the optimal embedding dimension using\u001b[0m\n",
       "\u001b[1;34m        :func:`~graspologic.embed.select_dimension`. Otherwise, ignored.\u001b[0m\n",
       "\u001b[1;34m\u001b[0m\n",
       "\u001b[1;34m    algorithm : {'randomized' (default), 'full', 'truncated'}, optional\u001b[0m\n",
       "\u001b[1;34m        SVD solver to use:\u001b[0m\n",
       "\u001b[1;34m\u001b[0m\n",
       "\u001b[1;34m        - 'randomized'\u001b[0m\n",
       "\u001b[1;34m            Computes randomized svd using\u001b[0m\n",
       "\u001b[1;34m            :func:`sklearn.utils.extmath.randomized_svd`\u001b[0m\n",
       "\u001b[1;34m        - 'full'\u001b[0m\n",
       "\u001b[1;34m            Computes full svd using :func:`scipy.linalg.svd`\u001b[0m\n",
       "\u001b[1;34m        - 'truncated'\u001b[0m\n",
       "\u001b[1;34m            Computes truncated svd using :func:`scipy.sparse.linalg.svds`\u001b[0m\n",
       "\u001b[1;34m\u001b[0m\n",
       "\u001b[1;34m    n_iter : int, optional (default = 5)\u001b[0m\n",
       "\u001b[1;34m        Number of iterations for randomized SVD solver. Not used by 'full' or\u001b[0m\n",
       "\u001b[1;34m        'truncated'. The default is larger than the default in randomized_svd\u001b[0m\n",
       "\u001b[1;34m        to handle sparse matrices that may have large slowly decaying spectrum.\u001b[0m\n",
       "\u001b[1;34m\u001b[0m\n",
       "\u001b[1;34m    check_lcc : bool , optional (default = True)\u001b[0m\n",
       "\u001b[1;34m        Whether to check if input graph is connected. May result in non-optimal\u001b[0m\n",
       "\u001b[1;34m        results if the graph is unconnected. If True and input is unconnected,\u001b[0m\n",
       "\u001b[1;34m        a UserWarning is thrown. Not checking for connectedness may result in\u001b[0m\n",
       "\u001b[1;34m        faster computation.\u001b[0m\n",
       "\u001b[1;34m\u001b[0m\n",
       "\u001b[1;34m    diag_aug : bool, optional (default = True)\u001b[0m\n",
       "\u001b[1;34m        Whether to replace the main diagonal of the adjacency matrix with a vector\u001b[0m\n",
       "\u001b[1;34m        corresponding to the degree (or sum of edge weights for a weighted network)\u001b[0m\n",
       "\u001b[1;34m        before embedding. Empirically, this produces latent position estimates closer\u001b[0m\n",
       "\u001b[1;34m        to the ground truth.\u001b[0m\n",
       "\u001b[1;34m\u001b[0m\n",
       "\u001b[1;34m    concat : bool, optional (default False)\u001b[0m\n",
       "\u001b[1;34m        If graph is directed, whether to concatenate left and right (out and in) latent positions along axis 1.\u001b[0m\n",
       "\u001b[1;34m\u001b[0m\n",
       "\u001b[1;34m\u001b[0m\n",
       "\u001b[1;34m\u001b[0m\n",
       "\u001b[1;34m    Attributes\u001b[0m\n",
       "\u001b[1;34m    ----------\u001b[0m\n",
       "\u001b[1;34m    n_features_in_: int\u001b[0m\n",
       "\u001b[1;34m        Number of features passed to the fit method.\u001b[0m\n",
       "\u001b[1;34m    latent_left_ : array, shape (n_samples, n_components)\u001b[0m\n",
       "\u001b[1;34m        Estimated left latent positions of the graph.\u001b[0m\n",
       "\u001b[1;34m    latent_right_ : array, shape (n_samples, n_components), or None\u001b[0m\n",
       "\u001b[1;34m        Only computed when the graph is directed, or adjacency matrix is assymetric.\u001b[0m\n",
       "\u001b[1;34m        Estimated right latent positions of the graph. Otherwise, None.\u001b[0m\n",
       "\u001b[1;34m    singular_values_ : array, shape (n_components)\u001b[0m\n",
       "\u001b[1;34m        Singular values associated with the latent position matrices.\u001b[0m\n",
       "\u001b[1;34m\u001b[0m\n",
       "\u001b[1;34m    See Also\u001b[0m\n",
       "\u001b[1;34m    --------\u001b[0m\n",
       "\u001b[1;34m    graspologic.embed.selectSVD\u001b[0m\n",
       "\u001b[1;34m    graspologic.embed.select_dimension\u001b[0m\n",
       "\u001b[1;34m\u001b[0m\n",
       "\u001b[1;34m    Notes\u001b[0m\n",
       "\u001b[1;34m    -----\u001b[0m\n",
       "\u001b[1;34m    The singular value decomposition:\u001b[0m\n",
       "\u001b[1;34m\u001b[0m\n",
       "\u001b[1;34m    .. math:: A = U \\Sigma V^T\u001b[0m\n",
       "\u001b[1;34m\u001b[0m\n",
       "\u001b[1;34m    is used to find an orthonormal basis for a matrix, which in our case is the\u001b[0m\n",
       "\u001b[1;34m    adjacency matrix of the graph. These basis vectors (in the matrices U or V) are\u001b[0m\n",
       "\u001b[1;34m    ordered according to the amount of variance they explain in the original matrix.\u001b[0m\n",
       "\u001b[1;34m    By selecting a subset of these basis vectors (through our choice of dimensionality\u001b[0m\n",
       "\u001b[1;34m    reduction) we can find a lower dimensional space in which to represent the graph.\u001b[0m\n",
       "\u001b[1;34m\u001b[0m\n",
       "\u001b[1;34m    References\u001b[0m\n",
       "\u001b[1;34m    ----------\u001b[0m\n",
       "\u001b[1;34m    .. [1] Sussman, D.L., Tang, M., Fishkind, D.E., Priebe, C.E.  \"A\u001b[0m\n",
       "\u001b[1;34m       Consistent Adjacency Spectral Embedding for Stochastic Blockmodel Graphs,\"\u001b[0m\n",
       "\u001b[1;34m       Journal of the American Statistical Association, Vol. 107(499), 2012\u001b[0m\n",
       "\u001b[1;34m    \"\"\"\u001b[0m\u001b[1;33m\u001b[0m\n",
       "\u001b[1;33m\u001b[0m\u001b[1;33m\u001b[0m\n",
       "\u001b[1;33m\u001b[0m    \u001b[1;32mdef\u001b[0m \u001b[0m__init__\u001b[0m\u001b[1;33m(\u001b[0m\u001b[1;33m\u001b[0m\n",
       "\u001b[1;33m\u001b[0m        \u001b[0mself\u001b[0m\u001b[1;33m,\u001b[0m\u001b[1;33m\u001b[0m\n",
       "\u001b[1;33m\u001b[0m        \u001b[0mn_components\u001b[0m\u001b[1;33m=\u001b[0m\u001b[1;32mNone\u001b[0m\u001b[1;33m,\u001b[0m\u001b[1;33m\u001b[0m\n",
       "\u001b[1;33m\u001b[0m        \u001b[0mn_elbows\u001b[0m\u001b[1;33m=\u001b[0m\u001b[1;36m2\u001b[0m\u001b[1;33m,\u001b[0m\u001b[1;33m\u001b[0m\n",
       "\u001b[1;33m\u001b[0m        \u001b[0malgorithm\u001b[0m\u001b[1;33m=\u001b[0m\u001b[1;34m\"randomized\"\u001b[0m\u001b[1;33m,\u001b[0m\u001b[1;33m\u001b[0m\n",
       "\u001b[1;33m\u001b[0m        \u001b[0mn_iter\u001b[0m\u001b[1;33m=\u001b[0m\u001b[1;36m5\u001b[0m\u001b[1;33m,\u001b[0m\u001b[1;33m\u001b[0m\n",
       "\u001b[1;33m\u001b[0m        \u001b[0mcheck_lcc\u001b[0m\u001b[1;33m=\u001b[0m\u001b[1;32mTrue\u001b[0m\u001b[1;33m,\u001b[0m\u001b[1;33m\u001b[0m\n",
       "\u001b[1;33m\u001b[0m        \u001b[0mdiag_aug\u001b[0m\u001b[1;33m=\u001b[0m\u001b[1;32mTrue\u001b[0m\u001b[1;33m,\u001b[0m\u001b[1;33m\u001b[0m\n",
       "\u001b[1;33m\u001b[0m        \u001b[0mconcat\u001b[0m\u001b[1;33m=\u001b[0m\u001b[1;32mFalse\u001b[0m\u001b[1;33m,\u001b[0m\u001b[1;33m\u001b[0m\n",
       "\u001b[1;33m\u001b[0m    \u001b[1;33m)\u001b[0m\u001b[1;33m:\u001b[0m\u001b[1;33m\u001b[0m\n",
       "\u001b[1;33m\u001b[0m        \u001b[0msuper\u001b[0m\u001b[1;33m(\u001b[0m\u001b[1;33m)\u001b[0m\u001b[1;33m.\u001b[0m\u001b[0m__init__\u001b[0m\u001b[1;33m(\u001b[0m\u001b[1;33m\u001b[0m\n",
       "\u001b[1;33m\u001b[0m            \u001b[0mn_components\u001b[0m\u001b[1;33m=\u001b[0m\u001b[0mn_components\u001b[0m\u001b[1;33m,\u001b[0m\u001b[1;33m\u001b[0m\n",
       "\u001b[1;33m\u001b[0m            \u001b[0mn_elbows\u001b[0m\u001b[1;33m=\u001b[0m\u001b[0mn_elbows\u001b[0m\u001b[1;33m,\u001b[0m\u001b[1;33m\u001b[0m\n",
       "\u001b[1;33m\u001b[0m            \u001b[0malgorithm\u001b[0m\u001b[1;33m=\u001b[0m\u001b[0malgorithm\u001b[0m\u001b[1;33m,\u001b[0m\u001b[1;33m\u001b[0m\n",
       "\u001b[1;33m\u001b[0m            \u001b[0mn_iter\u001b[0m\u001b[1;33m=\u001b[0m\u001b[0mn_iter\u001b[0m\u001b[1;33m,\u001b[0m\u001b[1;33m\u001b[0m\n",
       "\u001b[1;33m\u001b[0m            \u001b[0mcheck_lcc\u001b[0m\u001b[1;33m=\u001b[0m\u001b[0mcheck_lcc\u001b[0m\u001b[1;33m,\u001b[0m\u001b[1;33m\u001b[0m\n",
       "\u001b[1;33m\u001b[0m            \u001b[0mconcat\u001b[0m\u001b[1;33m=\u001b[0m\u001b[0mconcat\u001b[0m\u001b[1;33m,\u001b[0m\u001b[1;33m\u001b[0m\n",
       "\u001b[1;33m\u001b[0m        \u001b[1;33m)\u001b[0m\u001b[1;33m\u001b[0m\n",
       "\u001b[1;33m\u001b[0m\u001b[1;33m\u001b[0m\n",
       "\u001b[1;33m\u001b[0m        \u001b[1;32mif\u001b[0m \u001b[1;32mnot\u001b[0m \u001b[0misinstance\u001b[0m\u001b[1;33m(\u001b[0m\u001b[0mdiag_aug\u001b[0m\u001b[1;33m,\u001b[0m \u001b[0mbool\u001b[0m\u001b[1;33m)\u001b[0m\u001b[1;33m:\u001b[0m\u001b[1;33m\u001b[0m\n",
       "\u001b[1;33m\u001b[0m            \u001b[1;32mraise\u001b[0m \u001b[0mTypeError\u001b[0m\u001b[1;33m(\u001b[0m\u001b[1;34m\"`diag_aug` must be of type bool\"\u001b[0m\u001b[1;33m)\u001b[0m\u001b[1;33m\u001b[0m\n",
       "\u001b[1;33m\u001b[0m        \u001b[0mself\u001b[0m\u001b[1;33m.\u001b[0m\u001b[0mdiag_aug\u001b[0m \u001b[1;33m=\u001b[0m \u001b[0mdiag_aug\u001b[0m\u001b[1;33m\u001b[0m\n",
       "\u001b[1;33m\u001b[0m\u001b[1;33m\u001b[0m\n",
       "\u001b[1;33m\u001b[0m    \u001b[1;32mdef\u001b[0m \u001b[0mfit\u001b[0m\u001b[1;33m(\u001b[0m\u001b[0mself\u001b[0m\u001b[1;33m,\u001b[0m \u001b[0mgraph\u001b[0m\u001b[1;33m,\u001b[0m \u001b[0my\u001b[0m\u001b[1;33m=\u001b[0m\u001b[1;32mNone\u001b[0m\u001b[1;33m)\u001b[0m\u001b[1;33m:\u001b[0m\u001b[1;33m\u001b[0m\n",
       "\u001b[1;33m\u001b[0m        \u001b[1;34m\"\"\"\u001b[0m\n",
       "\u001b[1;34m        Fit ASE model to input graph\u001b[0m\n",
       "\u001b[1;34m\u001b[0m\n",
       "\u001b[1;34m        Parameters\u001b[0m\n",
       "\u001b[1;34m        ----------\u001b[0m\n",
       "\u001b[1;34m        graph : array_like or networkx.Graph\u001b[0m\n",
       "\u001b[1;34m            Input graph to embed.\u001b[0m\n",
       "\u001b[1;34m\u001b[0m\n",
       "\u001b[1;34m        Returns\u001b[0m\n",
       "\u001b[1;34m        -------\u001b[0m\n",
       "\u001b[1;34m        self : object\u001b[0m\n",
       "\u001b[1;34m            Returns an instance of self.\u001b[0m\n",
       "\u001b[1;34m        \"\"\"\u001b[0m\u001b[1;33m\u001b[0m\n",
       "\u001b[1;33m\u001b[0m        \u001b[0mA\u001b[0m \u001b[1;33m=\u001b[0m \u001b[0mimport_graph\u001b[0m\u001b[1;33m(\u001b[0m\u001b[0mgraph\u001b[0m\u001b[1;33m)\u001b[0m\u001b[1;33m\u001b[0m\n",
       "\u001b[1;33m\u001b[0m\u001b[1;33m\u001b[0m\n",
       "\u001b[1;33m\u001b[0m        \u001b[1;32mif\u001b[0m \u001b[0mself\u001b[0m\u001b[1;33m.\u001b[0m\u001b[0mcheck_lcc\u001b[0m\u001b[1;33m:\u001b[0m\u001b[1;33m\u001b[0m\n",
       "\u001b[1;33m\u001b[0m            \u001b[1;32mif\u001b[0m \u001b[1;32mnot\u001b[0m \u001b[0mis_fully_connected\u001b[0m\u001b[1;33m(\u001b[0m\u001b[0mA\u001b[0m\u001b[1;33m)\u001b[0m\u001b[1;33m:\u001b[0m\u001b[1;33m\u001b[0m\n",
       "\u001b[1;33m\u001b[0m                \u001b[0mmsg\u001b[0m \u001b[1;33m=\u001b[0m \u001b[1;33m(\u001b[0m\u001b[1;33m\u001b[0m\n",
       "\u001b[1;33m\u001b[0m                    \u001b[1;34m\"Input graph is not fully connected. Results may not\"\u001b[0m\u001b[1;33m\u001b[0m\n",
       "\u001b[1;33m\u001b[0m                    \u001b[1;33m+\u001b[0m \u001b[1;34m\"be optimal. You can compute the largest connected component by\"\u001b[0m\u001b[1;33m\u001b[0m\n",
       "\u001b[1;33m\u001b[0m                    \u001b[1;33m+\u001b[0m \u001b[1;34m\"using ``graspologic.utils.get_lcc``.\"\u001b[0m\u001b[1;33m\u001b[0m\n",
       "\u001b[1;33m\u001b[0m                \u001b[1;33m)\u001b[0m\u001b[1;33m\u001b[0m\n",
       "\u001b[1;33m\u001b[0m                \u001b[0mwarnings\u001b[0m\u001b[1;33m.\u001b[0m\u001b[0mwarn\u001b[0m\u001b[1;33m(\u001b[0m\u001b[0mmsg\u001b[0m\u001b[1;33m,\u001b[0m \u001b[0mUserWarning\u001b[0m\u001b[1;33m)\u001b[0m\u001b[1;33m\u001b[0m\n",
       "\u001b[1;33m\u001b[0m\u001b[1;33m\u001b[0m\n",
       "\u001b[1;33m\u001b[0m        \u001b[1;32mif\u001b[0m \u001b[0mself\u001b[0m\u001b[1;33m.\u001b[0m\u001b[0mdiag_aug\u001b[0m\u001b[1;33m:\u001b[0m\u001b[1;33m\u001b[0m\n",
       "\u001b[1;33m\u001b[0m            \u001b[0mA\u001b[0m \u001b[1;33m=\u001b[0m \u001b[0maugment_diagonal\u001b[0m\u001b[1;33m(\u001b[0m\u001b[0mA\u001b[0m\u001b[1;33m)\u001b[0m\u001b[1;33m\u001b[0m\n",
       "\u001b[1;33m\u001b[0m\u001b[1;33m\u001b[0m\n",
       "\u001b[1;33m\u001b[0m        \u001b[0mself\u001b[0m\u001b[1;33m.\u001b[0m\u001b[0mn_features_in_\u001b[0m \u001b[1;33m=\u001b[0m \u001b[0mlen\u001b[0m\u001b[1;33m(\u001b[0m\u001b[0mA\u001b[0m\u001b[1;33m)\u001b[0m\u001b[1;33m\u001b[0m\n",
       "\u001b[1;33m\u001b[0m        \u001b[0mself\u001b[0m\u001b[1;33m.\u001b[0m\u001b[0m_reduce_dim\u001b[0m\u001b[1;33m(\u001b[0m\u001b[0mA\u001b[0m\u001b[1;33m)\u001b[0m\u001b[1;33m\u001b[0m\n",
       "\u001b[1;33m\u001b[0m\u001b[1;33m\u001b[0m\n",
       "\u001b[1;33m\u001b[0m        \u001b[1;31m# for out-of-sample\u001b[0m\u001b[1;33m\u001b[0m\n",
       "\u001b[1;33m\u001b[0m        \u001b[0minv_eigs\u001b[0m \u001b[1;33m=\u001b[0m \u001b[0mnp\u001b[0m\u001b[1;33m.\u001b[0m\u001b[0mdiag\u001b[0m\u001b[1;33m(\u001b[0m\u001b[1;36m1\u001b[0m \u001b[1;33m/\u001b[0m \u001b[0mself\u001b[0m\u001b[1;33m.\u001b[0m\u001b[0msingular_values_\u001b[0m\u001b[1;33m)\u001b[0m\u001b[1;33m\u001b[0m\n",
       "\u001b[1;33m\u001b[0m        \u001b[0mself\u001b[0m\u001b[1;33m.\u001b[0m\u001b[0mpinv_left_\u001b[0m \u001b[1;33m=\u001b[0m \u001b[0mself\u001b[0m\u001b[1;33m.\u001b[0m\u001b[0mlatent_left_\u001b[0m \u001b[1;33m@\u001b[0m \u001b[0minv_eigs\u001b[0m\u001b[1;33m\u001b[0m\n",
       "\u001b[1;33m\u001b[0m        \u001b[1;32mif\u001b[0m \u001b[0mself\u001b[0m\u001b[1;33m.\u001b[0m\u001b[0mlatent_right_\u001b[0m \u001b[1;32mis\u001b[0m \u001b[1;32mnot\u001b[0m \u001b[1;32mNone\u001b[0m\u001b[1;33m:\u001b[0m\u001b[1;33m\u001b[0m\n",
       "\u001b[1;33m\u001b[0m            \u001b[0mself\u001b[0m\u001b[1;33m.\u001b[0m\u001b[0mpinv_right_\u001b[0m \u001b[1;33m=\u001b[0m \u001b[0mself\u001b[0m\u001b[1;33m.\u001b[0m\u001b[0mlatent_right_\u001b[0m \u001b[1;33m@\u001b[0m \u001b[0minv_eigs\u001b[0m\u001b[1;33m\u001b[0m\n",
       "\u001b[1;33m\u001b[0m\u001b[1;33m\u001b[0m\n",
       "\u001b[1;33m\u001b[0m        \u001b[0mself\u001b[0m\u001b[1;33m.\u001b[0m\u001b[0mis_fitted_\u001b[0m \u001b[1;33m=\u001b[0m \u001b[1;32mTrue\u001b[0m\u001b[1;33m\u001b[0m\n",
       "\u001b[1;33m\u001b[0m        \u001b[1;32mreturn\u001b[0m \u001b[0mself\u001b[0m\u001b[1;33m\u001b[0m\n",
       "\u001b[1;33m\u001b[0m\u001b[1;33m\u001b[0m\n",
       "\u001b[1;33m\u001b[0m    \u001b[1;32mdef\u001b[0m \u001b[0mpredict\u001b[0m\u001b[1;33m(\u001b[0m\u001b[0mself\u001b[0m\u001b[1;33m,\u001b[0m \u001b[0my\u001b[0m\u001b[1;33m)\u001b[0m\u001b[1;33m:\u001b[0m\u001b[1;33m\u001b[0m\n",
       "\u001b[1;33m\u001b[0m        \u001b[1;34m\"\"\"\u001b[0m\n",
       "\u001b[1;34m        Obtain an out-of-sample embedding from vertices not in the original embedding.\u001b[0m\n",
       "\u001b[1;34m        For more details, see [1].\u001b[0m\n",
       "\u001b[1;34m\u001b[0m\n",
       "\u001b[1;34m        Parameters\u001b[0m\n",
       "\u001b[1;34m        ----------\u001b[0m\n",
       "\u001b[1;34m        y : array_like or tuple, shape (n_oos_vertices, n_vertices)\u001b[0m\n",
       "\u001b[1;34m            out-of-sample matrix.\u001b[0m\n",
       "\u001b[1;34m            If tuple, graph is directed and y[0] contains edges from y to other nodes.\u001b[0m\n",
       "\u001b[1;34m\u001b[0m\n",
       "\u001b[1;34m        Returns\u001b[0m\n",
       "\u001b[1;34m        -------\u001b[0m\n",
       "\u001b[1;34m        array_like or tuple\u001b[0m\n",
       "\u001b[1;34m            Out-of-sample prediction for the latent position(s) of y.\u001b[0m\n",
       "\u001b[1;34m            If the original embedding was undirected, input should be an array.\u001b[0m\n",
       "\u001b[1;34m            If the original embedding was directed, input should be a tuple (y_left, y_right).\u001b[0m\n",
       "\u001b[1;34m\u001b[0m\n",
       "\u001b[1;34m        References\u001b[0m\n",
       "\u001b[1;34m        ----------\u001b[0m\n",
       "\u001b[1;34m        .. [1] Levin, K., Roosta-Khorasani, F., Mahoney, M. W., & Priebe, C. E. (2018).\u001b[0m\n",
       "\u001b[1;34m        Out-of-sample extension of graph adjacency spectral embedding. PMLR: Proceedings\u001b[0m\n",
       "\u001b[1;34m        of Machine Learning Research, 80, 2975-2984.\u001b[0m\n",
       "\u001b[1;34m        \"\"\"\u001b[0m\u001b[1;33m\u001b[0m\n",
       "\u001b[1;33m\u001b[0m\u001b[1;33m\u001b[0m\n",
       "\u001b[1;33m\u001b[0m        \u001b[1;31m# checks\u001b[0m\u001b[1;33m\u001b[0m\n",
       "\u001b[1;33m\u001b[0m        \u001b[0mcheck_is_fitted\u001b[0m\u001b[1;33m(\u001b[0m\u001b[0mself\u001b[0m\u001b[1;33m,\u001b[0m \u001b[1;34m\"is_fitted_\"\u001b[0m\u001b[1;33m)\u001b[0m\u001b[1;33m\u001b[0m\n",
       "\u001b[1;33m\u001b[0m\u001b[1;33m\u001b[0m\n",
       "\u001b[1;33m\u001b[0m        \u001b[1;31m# workhorse code\u001b[0m\u001b[1;33m\u001b[0m\n",
       "\u001b[1;33m\u001b[0m        \u001b[1;32mif\u001b[0m \u001b[0mself\u001b[0m\u001b[1;33m.\u001b[0m\u001b[0mlatent_right_\u001b[0m \u001b[1;32mis\u001b[0m \u001b[1;32mNone\u001b[0m\u001b[1;33m:\u001b[0m  \u001b[1;31m# undirected\u001b[0m\u001b[1;33m\u001b[0m\n",
       "\u001b[1;33m\u001b[0m            \u001b[1;32mif\u001b[0m \u001b[1;32mnot\u001b[0m \u001b[0misinstance\u001b[0m\u001b[1;33m(\u001b[0m\u001b[0my\u001b[0m\u001b[1;33m,\u001b[0m \u001b[0mnp\u001b[0m\u001b[1;33m.\u001b[0m\u001b[0mndarray\u001b[0m\u001b[1;33m)\u001b[0m\u001b[1;33m:\u001b[0m\u001b[1;33m\u001b[0m\n",
       "\u001b[1;33m\u001b[0m                \u001b[1;32mraise\u001b[0m \u001b[0mTypeError\u001b[0m\u001b[1;33m(\u001b[0m\u001b[1;34m\"Undirected graphs require array input\"\u001b[0m\u001b[1;33m)\u001b[0m\u001b[1;33m\u001b[0m\n",
       "\u001b[1;33m\u001b[0m            \u001b[1;32mreturn\u001b[0m \u001b[0my\u001b[0m \u001b[1;33m@\u001b[0m \u001b[0mself\u001b[0m\u001b[1;33m.\u001b[0m\u001b[0mpinv_left_\u001b[0m\u001b[1;33m\u001b[0m\n",
       "\u001b[1;33m\u001b[0m        \u001b[1;32melse\u001b[0m\u001b[1;33m:\u001b[0m  \u001b[1;31m# directed\u001b[0m\u001b[1;33m\u001b[0m\n",
       "\u001b[1;33m\u001b[0m            \u001b[1;32mif\u001b[0m \u001b[1;32mnot\u001b[0m \u001b[0misinstance\u001b[0m\u001b[1;33m(\u001b[0m\u001b[0my\u001b[0m\u001b[1;33m,\u001b[0m \u001b[0mtuple\u001b[0m\u001b[1;33m)\u001b[0m\u001b[1;33m:\u001b[0m\u001b[1;33m\u001b[0m\n",
       "\u001b[1;33m\u001b[0m                \u001b[1;32mraise\u001b[0m \u001b[0mTypeError\u001b[0m\u001b[1;33m(\u001b[0m\u001b[1;34m\"Directed graphs require a tuple (y_left, y_right)\"\u001b[0m\u001b[1;33m)\u001b[0m\u001b[1;33m\u001b[0m\n",
       "\u001b[1;33m\u001b[0m            \u001b[1;32mreturn\u001b[0m \u001b[0my\u001b[0m\u001b[1;33m[\u001b[0m\u001b[1;36m0\u001b[0m\u001b[1;33m]\u001b[0m \u001b[1;33m@\u001b[0m \u001b[0mself\u001b[0m\u001b[1;33m.\u001b[0m\u001b[0mpinv_left_\u001b[0m\u001b[1;33m,\u001b[0m \u001b[0my\u001b[0m\u001b[1;33m[\u001b[0m\u001b[1;36m1\u001b[0m\u001b[1;33m]\u001b[0m \u001b[1;33m@\u001b[0m \u001b[0mself\u001b[0m\u001b[1;33m.\u001b[0m\u001b[0mpinv_right_\u001b[0m\u001b[1;33m\u001b[0m\u001b[0m\n",
       "\u001b[1;31mFile:\u001b[0m           ~/Dropbox/School/NDD/graspologic/graspologic/embed/ase.py\n",
       "\u001b[1;31mType:\u001b[0m           type\n",
       "\u001b[1;31mSubclasses:\u001b[0m     \n"
      ]
     },
     "metadata": {},
     "output_type": "display_data"
    }
   ],
   "source": [
    "??ASE"
   ]
  },
  {
   "cell_type": "markdown",
   "metadata": {},
   "source": [
    "## Test weighted"
   ]
  },
  {
   "cell_type": "code",
   "execution_count": 3,
   "metadata": {},
   "outputs": [
    {
     "data": {
      "text/plain": [
       "\u001b[1;31mDocstring:\u001b[0m\n",
       "array(object, dtype=None, *, copy=True, order='K', subok=False, ndmin=0)\n",
       "\n",
       "Create an array.\n",
       "\n",
       "Parameters\n",
       "----------\n",
       "object : array_like\n",
       "    An array, any object exposing the array interface, an object whose\n",
       "    __array__ method returns an array, or any (nested) sequence.\n",
       "dtype : data-type, optional\n",
       "    The desired data-type for the array.  If not given, then the type will\n",
       "    be determined as the minimum type required to hold the objects in the\n",
       "    sequence.\n",
       "copy : bool, optional\n",
       "    If true (default), then the object is copied.  Otherwise, a copy will\n",
       "    only be made if __array__ returns a copy, if obj is a nested sequence,\n",
       "    or if a copy is needed to satisfy any of the other requirements\n",
       "    (`dtype`, `order`, etc.).\n",
       "order : {'K', 'A', 'C', 'F'}, optional\n",
       "    Specify the memory layout of the array. If object is not an array, the\n",
       "    newly created array will be in C order (row major) unless 'F' is\n",
       "    specified, in which case it will be in Fortran order (column major).\n",
       "    If object is an array the following holds.\n",
       "\n",
       "    ===== ========= ===================================================\n",
       "    order  no copy                     copy=True\n",
       "    ===== ========= ===================================================\n",
       "    'K'   unchanged F & C order preserved, otherwise most similar order\n",
       "    'A'   unchanged F order if input is F and not C, otherwise C order\n",
       "    'C'   C order   C order\n",
       "    'F'   F order   F order\n",
       "    ===== ========= ===================================================\n",
       "\n",
       "    When ``copy=False`` and a copy is made for other reasons, the result is\n",
       "    the same as if ``copy=True``, with some exceptions for `A`, see the\n",
       "    Notes section. The default order is 'K'.\n",
       "subok : bool, optional\n",
       "    If True, then sub-classes will be passed-through, otherwise\n",
       "    the returned array will be forced to be a base-class array (default).\n",
       "ndmin : int, optional\n",
       "    Specifies the minimum number of dimensions that the resulting\n",
       "    array should have.  Ones will be pre-pended to the shape as\n",
       "    needed to meet this requirement.\n",
       "\n",
       "Returns\n",
       "-------\n",
       "out : ndarray\n",
       "    An array object satisfying the specified requirements.\n",
       "\n",
       "See Also\n",
       "--------\n",
       "empty_like : Return an empty array with shape and type of input.\n",
       "ones_like : Return an array of ones with shape and type of input.\n",
       "zeros_like : Return an array of zeros with shape and type of input.\n",
       "full_like : Return a new array with shape of input filled with value.\n",
       "empty : Return a new uninitialized array.\n",
       "ones : Return a new array setting values to one.\n",
       "zeros : Return a new array setting values to zero.\n",
       "full : Return a new array of given shape filled with value.\n",
       "\n",
       "\n",
       "Notes\n",
       "-----\n",
       "When order is 'A' and `object` is an array in neither 'C' nor 'F' order,\n",
       "and a copy is forced by a change in dtype, then the order of the result is\n",
       "not necessarily 'C' as expected. This is likely a bug.\n",
       "\n",
       "Examples\n",
       "--------\n",
       ">>> np.array([1, 2, 3])\n",
       "array([1, 2, 3])\n",
       "\n",
       "Upcasting:\n",
       "\n",
       ">>> np.array([1, 2, 3.0])\n",
       "array([ 1.,  2.,  3.])\n",
       "\n",
       "More than one dimension:\n",
       "\n",
       ">>> np.array([[1, 2], [3, 4]])\n",
       "array([[1, 2],\n",
       "       [3, 4]])\n",
       "\n",
       "Minimum dimensions 2:\n",
       "\n",
       ">>> np.array([1, 2, 3], ndmin=2)\n",
       "array([[1, 2, 3]])\n",
       "\n",
       "Type provided:\n",
       "\n",
       ">>> np.array([1, 2, 3], dtype=complex)\n",
       "array([ 1.+0.j,  2.+0.j,  3.+0.j])\n",
       "\n",
       "Data-type consisting of more than one element:\n",
       "\n",
       ">>> x = np.array([(1,2),(3,4)],dtype=[('a','<i4'),('b','<i4')])\n",
       ">>> x['a']\n",
       "array([1, 3])\n",
       "\n",
       "Creating an array from sub-classes:\n",
       "\n",
       ">>> np.array(np.mat('1 2; 3 4'))\n",
       "array([[1, 2],\n",
       "       [3, 4]])\n",
       "\n",
       ">>> np.array(np.mat('1 2; 3 4'), subok=True)\n",
       "matrix([[1, 2],\n",
       "        [3, 4]])\n",
       "\u001b[1;31mType:\u001b[0m      builtin_function_or_method\n"
      ]
     },
     "metadata": {},
     "output_type": "display_data"
    }
   ],
   "source": [
    "?np.array"
   ]
  },
  {
   "cell_type": "code",
   "execution_count": 4,
   "metadata": {},
   "outputs": [
    {
     "data": {
      "text/plain": [
       "<AxesSubplot:>"
      ]
     },
     "execution_count": 4,
     "metadata": {},
     "output_type": "execute_result"
    },
    {
     "data": {
      "image/png": "[encoded data removed]",
      "text/plain": [
       "<Figure size 720x720 with 2 Axes>"
      ]
     },
     "metadata": {
      "needs_background": "light"
     },
     "output_type": "display_data"
    }
   ],
   "source": [
    "n = [10, 10]\n",
    "p = np.eye(2)\n",
    "wt = [[normal, poisson],\n",
    "      [poisson, normal]]\n",
    "wtargs = [[dict(loc=3, scale=1), dict(lam=5)],\n",
    "          [dict(lam=5), dict(loc=3, scale=1)]]\n",
    "\n",
    "# B = sbm(n=n, p=p, \n",
    "#         wt=wt, wtargs=wtargs)\n",
    "Guw = sbm(n=n, p=p)\n",
    "Gw = sbm(n=n, p=p, wt=wt, wtargs=wtargs)\n",
    "Guwd = sbm(n=n, p=p, directed=True)\n",
    "Gwd = sbm(n=n, p=p, wt=wt, wtargs=wtargs, directed=True)\n",
    "\n",
    "heatmap(Guw)"
   ]
  },
  {
   "cell_type": "code",
   "execution_count": 5,
   "metadata": {},
   "outputs": [
    {
     "data": {
      "text/plain": [
       "<seaborn.axisgrid.PairGrid at 0x135790668>"
      ]
     },
     "execution_count": 5,
     "metadata": {},
     "output_type": "execute_result"
    },
    {
     "data": {
      "image/png": "[encoded data removed]",
      "text/plain": [
       "<Figure size 360x360 with 6 Axes>"
      ]
     },
     "metadata": {
      "needs_background": "light"
     },
     "output_type": "display_data"
    }
   ],
   "source": [
    "# plot\n",
    "ase = ASE(n_components=2)\n",
    "Xhat = ase.fit_transform(Guw)\n",
    "\n",
    "pairplot(Xhat)"
   ]
  },
  {
   "cell_type": "code",
   "execution_count": 6,
   "metadata": {},
   "outputs": [
    {
     "data": {
      "text/plain": [
       "array([[ 1., -0.],\n",
       "       [ 1., -0.],\n",
       "       [ 1., -0.],\n",
       "       [ 1., -0.],\n",
       "       [ 1., -0.],\n",
       "       [ 1., -0.],\n",
       "       [ 1., -0.],\n",
       "       [ 1., -0.],\n",
       "       [ 1., -0.],\n",
       "       [ 1., -0.],\n",
       "       [ 0.,  1.],\n",
       "       [ 0.,  1.],\n",
       "       [ 0.,  1.],\n",
       "       [ 0.,  1.],\n",
       "       [ 0.,  1.],\n",
       "       [ 0.,  1.],\n",
       "       [ 0.,  1.],\n",
       "       [ 0.,  1.],\n",
       "       [ 0.,  1.],\n",
       "       [ 0.,  1.]])"
      ]
     },
     "execution_count": 6,
     "metadata": {},
     "output_type": "execute_result"
    }
   ],
   "source": [
    "np.round(Xhat)"
   ]
  },
  {
   "cell_type": "code",
   "execution_count": 7,
   "metadata": {},
   "outputs": [
    {
     "data": {
      "text/plain": [
       "<AxesSubplot:>"
      ]
     },
     "execution_count": 7,
     "metadata": {},
     "output_type": "execute_result"
    },
    {
     "data": {
      "image/png": "[encoded data removed]",
      "text/plain": [
       "<Figure size 720x720 with 2 Axes>"
      ]
     },
     "metadata": {
      "needs_background": "light"
     },
     "output_type": "display_data"
    }
   ],
   "source": [
    "heatmap(Gw)"
   ]
  },
  {
   "cell_type": "code",
   "execution_count": 8,
   "metadata": {},
   "outputs": [
    {
     "data": {
      "text/plain": [
       "<seaborn.axisgrid.PairGrid at 0x137a07e48>"
      ]
     },
     "execution_count": 8,
     "metadata": {},
     "output_type": "execute_result"
    },
    {
     "data": {
      "image/png": "[encoded data removed]",
      "text/plain": [
       "<Figure size 360x360 with 6 Axes>"
      ]
     },
     "metadata": {
      "needs_background": "light"
     },
     "output_type": "display_data"
    }
   ],
   "source": [
    "ase = ASE(n_components=2)\n",
    "Xhat = ase.fit_transform(Gw)\n",
    "\n",
    "pairplot(Xhat)"
   ]
  },
  {
   "cell_type": "code",
   "execution_count": 9,
   "metadata": {},
   "outputs": [
    {
     "data": {
      "text/plain": [
       "array([[ 0.,  2.],\n",
       "       [-0.,  1.],\n",
       "       [-0.,  1.],\n",
       "       [ 0.,  2.],\n",
       "       [ 0.,  1.],\n",
       "       [-0.,  2.],\n",
       "       [ 0.,  2.],\n",
       "       [-0.,  1.],\n",
       "       [-0.,  2.],\n",
       "       [-0.,  2.],\n",
       "       [ 2., -0.],\n",
       "       [ 1., -0.],\n",
       "       [ 2.,  0.],\n",
       "       [ 2., -0.],\n",
       "       [ 2., -0.],\n",
       "       [ 2.,  0.],\n",
       "       [ 2.,  0.],\n",
       "       [ 2.,  0.],\n",
       "       [ 2.,  0.],\n",
       "       [ 2.,  0.]])"
      ]
     },
     "execution_count": 9,
     "metadata": {},
     "output_type": "execute_result"
    }
   ],
   "source": [
    "np.round(Xhat)"
   ]
  },
  {
   "cell_type": "code",
   "execution_count": 10,
   "metadata": {},
   "outputs": [
    {
     "data": {
      "text/plain": [
       "(20, 20)"
      ]
     },
     "execution_count": 10,
     "metadata": {},
     "output_type": "execute_result"
    }
   ],
   "source": [
    "Gw.shape"
   ]
  },
  {
   "cell_type": "code",
   "execution_count": 11,
   "metadata": {},
   "outputs": [
    {
     "data": {
      "text/plain": [
       "(array([[0.        , 1.01683414, 4.44731536, 2.87462681, 3.54897054,\n",
       "         3.0120366 , 2.4680422 , 3.76681302, 3.06466778, 0.        ,\n",
       "         0.        , 0.        , 0.        , 0.        , 0.        ,\n",
       "         0.        , 0.        , 0.        , 0.        ],\n",
       "        [1.01683414, 0.        , 2.19903643, 0.89104761, 3.12896009,\n",
       "         2.77388083, 2.39068144, 3.08234434, 3.46053277, 0.        ,\n",
       "         0.        , 0.        , 0.        , 0.        , 0.        ,\n",
       "         0.        , 0.        , 0.        , 0.        ],\n",
       "        [4.44731536, 2.19903643, 0.        , 1.85807944, 1.98905925,\n",
       "         2.75894442, 1.15469635, 3.14110177, 2.23977077, 0.        ,\n",
       "         0.        , 0.        , 0.        , 0.        , 0.        ,\n",
       "         0.        , 0.        , 0.        , 0.        ],\n",
       "        [2.87462681, 0.89104761, 1.85807944, 0.        , 2.94129447,\n",
       "         4.44629157, 2.48022354, 2.11219134, 1.71309016, 0.        ,\n",
       "         0.        , 0.        , 0.        , 0.        , 0.        ,\n",
       "         0.        , 0.        , 0.        , 0.        ],\n",
       "        [3.54897054, 3.12896009, 1.98905925, 2.94129447, 0.        ,\n",
       "         2.81113002, 2.65635123, 3.33209475, 3.73275966, 0.        ,\n",
       "         0.        , 0.        , 0.        , 0.        , 0.        ,\n",
       "         0.        , 0.        , 0.        , 0.        ],\n",
       "        [3.0120366 , 2.77388083, 2.75894442, 4.44629157, 2.81113002,\n",
       "         0.        , 4.8725855 , 1.36578206, 3.90884998, 0.        ,\n",
       "         0.        , 0.        , 0.        , 0.        , 0.        ,\n",
       "         0.        , 0.        , 0.        , 0.        ],\n",
       "        [2.4680422 , 2.39068144, 1.15469635, 2.48022354, 2.65635123,\n",
       "         4.8725855 , 0.        , 1.88017971, 3.09608021, 0.        ,\n",
       "         0.        , 0.        , 0.        , 0.        , 0.        ,\n",
       "         0.        , 0.        , 0.        , 0.        ],\n",
       "        [3.76681302, 3.08234434, 3.14110177, 2.11219134, 3.33209475,\n",
       "         1.36578206, 1.88017971, 0.        , 3.30045143, 0.        ,\n",
       "         0.        , 0.        , 0.        , 0.        , 0.        ,\n",
       "         0.        , 0.        , 0.        , 0.        ],\n",
       "        [3.06466778, 3.46053277, 2.23977077, 1.71309016, 3.73275966,\n",
       "         3.90884998, 3.09608021, 3.30045143, 0.        , 0.        ,\n",
       "         0.        , 0.        , 0.        , 0.        , 0.        ,\n",
       "         0.        , 0.        , 0.        , 0.        ],\n",
       "        [0.        , 0.        , 0.        , 0.        , 0.        ,\n",
       "         0.        , 0.        , 0.        , 0.        , 0.        ,\n",
       "         2.84920096, 2.8573358 , 3.82752535, 4.02249328, 2.28756077,\n",
       "         1.36370374, 1.77031508, 3.44470539, 3.31655137],\n",
       "        [0.        , 0.        , 0.        , 0.        , 0.        ,\n",
       "         0.        , 0.        , 0.        , 0.        , 2.84920096,\n",
       "         0.        , 3.34893154, 2.83737917, 3.49505759, 1.02956318,\n",
       "         2.77475308, 2.69438643, 2.87614573, 1.83374134],\n",
       "        [0.        , 0.        , 0.        , 0.        , 0.        ,\n",
       "         0.        , 0.        , 0.        , 0.        , 2.8573358 ,\n",
       "         3.34893154, 0.        , 1.7532222 , 2.16123154, 3.78877696,\n",
       "         3.68910582, 3.29547909, 3.86769118, 3.04879132],\n",
       "        [0.        , 0.        , 0.        , 0.        , 0.        ,\n",
       "         0.        , 0.        , 0.        , 0.        , 3.82752535,\n",
       "         2.83737917, 1.7532222 , 0.        , 2.43965417, 2.67332071,\n",
       "         3.32921951, 3.57890024, 2.39885652, 2.26626354],\n",
       "        [0.        , 0.        , 0.        , 0.        , 0.        ,\n",
       "         0.        , 0.        , 0.        , 0.        , 4.02249328,\n",
       "         3.49505759, 2.16123154, 2.43965417, 0.        , 2.85118176,\n",
       "         4.84316418, 2.53606286, 2.88497461, 2.86576199],\n",
       "        [0.        , 0.        , 0.        , 0.        , 0.        ,\n",
       "         0.        , 0.        , 0.        , 0.        , 2.28756077,\n",
       "         1.02956318, 3.78877696, 2.67332071, 2.85118176, 0.        ,\n",
       "         4.0798404 , 2.39497459, 2.46498676, 3.59613747],\n",
       "        [0.        , 0.        , 0.        , 0.        , 0.        ,\n",
       "         0.        , 0.        , 0.        , 0.        , 1.36370374,\n",
       "         2.77475308, 3.68910582, 3.32921951, 4.84316418, 4.0798404 ,\n",
       "         0.        , 3.51316362, 3.60688547, 2.71373492],\n",
       "        [0.        , 0.        , 0.        , 0.        , 0.        ,\n",
       "         0.        , 0.        , 0.        , 0.        , 1.77031508,\n",
       "         2.69438643, 3.29547909, 3.57890024, 2.53606286, 2.39497459,\n",
       "         3.51316362, 0.        , 4.57770635, 4.82958762],\n",
       "        [0.        , 0.        , 0.        , 0.        , 0.        ,\n",
       "         0.        , 0.        , 0.        , 0.        , 3.44470539,\n",
       "         2.87614573, 3.86769118, 2.39885652, 2.88497461, 2.46498676,\n",
       "         3.60688547, 4.57770635, 0.        , 4.28535178],\n",
       "        [0.        , 0.        , 0.        , 0.        , 0.        ,\n",
       "         0.        , 0.        , 0.        , 0.        , 3.31655137,\n",
       "         1.83374134, 3.04879132, 2.26626354, 2.86576199, 3.59613747,\n",
       "         2.71373492, 4.82958762, 4.28535178, 0.        ]]),\n",
       " array([[2.61685139, 3.90869982, 2.87289693, 3.22932866, 1.5265357 ,\n",
       "         1.45197295, 1.46803042, 4.37181515, 1.0364243 , 0.        ,\n",
       "         0.        , 0.        , 0.        , 0.        , 0.        ,\n",
       "         0.        , 0.        , 0.        , 0.        ]]))"
      ]
     },
     "execution_count": 11,
     "metadata": {},
     "output_type": "execute_result"
    }
   ],
   "source": [
    "remove_vertices(Gw, 1, return_vertices=True)"
   ]
  },
  {
   "cell_type": "markdown",
   "metadata": {},
   "source": [
    "## Tests for remove_vertices"
   ]
  },
  {
   "cell_type": "code",
   "execution_count": 115,
   "metadata": {},
   "outputs": [
    {
     "data": {
      "text/plain": [
       "'1.19.1'"
      ]
     },
     "execution_count": 115,
     "metadata": {},
     "output_type": "execute_result"
    }
   ],
   "source": [
    "np.__version__"
   ]
  },
  {
   "cell_type": "code",
   "execution_count": 125,
   "metadata": {},
   "outputs": [],
   "source": [
    "# testing remove_vertices\n",
    "from graspologic.utils import is_almost_symmetric, import_graph, symmetrize\n",
    "\n",
    "def remove_vertices(graph, indices, return_vertices=False):\n",
    "    # type checks\n",
    "    directed = not is_almost_symmetric(graph)\n",
    "    graph = import_graph(graph)\n",
    "\n",
    "    # truncate graph\n",
    "    A = np.delete(np.delete(graph, indices, 0), indices, 1)\n",
    "\n",
    "    # grab relevant vertices\n",
    "    if return_vertices:\n",
    "        rows = np.delete(graph, indices, axis=0)\n",
    "        vertices = rows[:, indices].T\n",
    "        if directed:\n",
    "            cols = np.delete(graph, indices, axis=1)\n",
    "            vertices_right = cols[indices, :]\n",
    "            return A, (vertices, vertices_right)\n",
    "        return A, vertices\n",
    "    return A\n",
    "\n",
    "# generate data (undirected)\n",
    "G = np.arange(1, 26).reshape(5, 5)\n",
    "G = symmetrize(G, method='tril')\n",
    "G[np.diag_indices(len(G))] = 0\n",
    "\n",
    "# tests (undirected)\n",
    "vertices = [0, -1, 1]\n",
    "A, a = remove_vertices(G, indices=vertices, return_vertices=True)\n",
    "assert np.array_equal(A, np.array([[0, 18], [18, 0]]))\n",
    "assert np.array_equal(a, np.array([[11, 16],\n",
    "                                   [23, 24],\n",
    "                                   [12, 17]]))\n",
    "\n",
    "# with integer index\n",
    "A, a = remove_vertices(G, indices=0, return_vertices=True)\n",
    "assert np.array_equal(A, G[1:, 1:])\n",
    "assert np.array_equal(a, np.array([6, 11, 16, 21]))\n",
    "\n",
    "assert np.array_equal(remove_vertices(G, 0), remove_vertices(G, [0]))\n",
    "\n",
    "# directed case\n",
    "G = np.arange(1, 26).reshape(5, 5)\n",
    "G[np.diag_indices(len(G))] = 0\n",
    "A, a = remove_vertices(G, indices=vertices, return_vertices=True)\n",
    "assert np.array_equal(A, np.array([[0, 14], [18, 0]]))\n",
    "assert np.array_equal(a[0], np.array([[11, 16],\n",
    "                                      [15, 20],\n",
    "                                      [12, 17]]))\n",
    "assert np.array_equal(a[1], np.array([[3, 4],\n",
    "                                      [23, 24],\n",
    "                                      [8, 9]]))"
   ]
  },
  {
   "cell_type": "code",
   "execution_count": 123,
   "metadata": {},
   "outputs": [
    {
     "data": {
      "text/plain": [
       "(array([[11., 16.],\n",
       "        [15., 20.],\n",
       "        [12., 17.]]),\n",
       " array([[ 3.,  4.],\n",
       "        [23., 24.],\n",
       "        [ 8.,  9.]]))"
      ]
     },
     "execution_count": 123,
     "metadata": {},
     "output_type": "execute_result"
    }
   ],
   "source": [
    "a"
   ]
  },
  {
   "cell_type": "code",
   "execution_count": 118,
   "metadata": {},
   "outputs": [
    {
     "data": {
      "text/plain": [
       "array([[ 0,  2,  3,  4,  5],\n",
       "       [ 6,  0,  8,  9, 10],\n",
       "       [11, 12,  0, 14, 15],\n",
       "       [16, 17, 18,  0, 20],\n",
       "       [21, 22, 23, 24,  0]])"
      ]
     },
     "execution_count": 118,
     "metadata": {},
     "output_type": "execute_result"
    }
   ],
   "source": [
    "G"
   ]
  }
 ],
 "metadata": {
  "kernelspec": {
   "display_name": "graspy",
   "language": "python",
   "name": "graspy"
  },
  "language_info": {
   "codemirror_mode": {
    "name": "ipython",
    "version": 3
   },
   "file_extension": ".py",
   "mimetype": "text/x-python",
   "name": "python",
   "nbconvert_exporter": "python",
   "pygments_lexer": "ipython3",
   "version": "3.7.0"
  }
 },
 "nbformat": 4,
 "nbformat_minor": 4
}
