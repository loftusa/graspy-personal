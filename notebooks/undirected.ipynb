{
 "cells": [
  {
   "cell_type": "markdown",
   "metadata": {},
   "source": [
    "# Implement functionality for directed graphs"
   ]
  },
  {
   "cell_type": "code",
   "execution_count": 3,
   "metadata": {},
   "outputs": [],
   "source": [
    "# API 2: we augment the AdjacencySpectralEmbed class with\n",
    "# a predict method. This was Hayden's idea in the\n",
    "# issue\n",
    "\n",
    "import numpy as np\n",
    "from scipy.linalg import orthogonal_procrustes\n",
    "from sklearn.utils.validation import check_is_fitted\n",
    "\n",
    "from sklearn.metrics.pairwise import euclidean_distances\n",
    "from tqdm.notebook import tqdm\n",
    "\n",
    "from graspologic.simulations import sbm\n",
    "from graspologic.embed.base import BaseEmbed\n",
    "from graspologic.plot import heatmap\n",
    "from graspologic.utils import (\n",
    "    import_graph,\n",
    "    is_fully_connected,\n",
    "    augment_diagonal,\n",
    "    pass_to_ranks,\n",
    "    is_unweighted,\n",
    ")\n",
    "\n",
    "import matplotlib as mpl\n",
    "import matplotlib.pyplot as plt\n",
    "%config InlineBackend.figure_format = 'retina'\n",
    "mpl.rcParams['figure.dpi'] = 120"
   ]
  },
  {
   "cell_type": "code",
   "execution_count": 11,
   "metadata": {},
   "outputs": [
    {
     "data": {
      "text/plain": [
       "array([[ 0.67570526,  0.69613136],\n",
       "       [ 0.67570526,  0.69613136],\n",
       "       [ 0.67570526,  0.69613136],\n",
       "       [ 0.67570526,  0.69613136],\n",
       "       [ 0.67570526,  0.69613136],\n",
       "       [ 0.67570526,  0.69613136],\n",
       "       [ 0.67570526,  0.69613136],\n",
       "       [ 0.67570526,  0.69613136],\n",
       "       [ 0.67570526,  0.69613136],\n",
       "       [ 0.69613136, -0.67570526],\n",
       "       [ 0.69613136, -0.67570526],\n",
       "       [ 0.69613136, -0.67570526],\n",
       "       [ 0.69613136, -0.67570526],\n",
       "       [ 0.69613136, -0.67570526],\n",
       "       [ 0.69613136, -0.67570526],\n",
       "       [ 0.69613136, -0.67570526],\n",
       "       [ 0.69613136, -0.67570526],\n",
       "       [ 0.69613136, -0.67570526]])"
      ]
     },
     "execution_count": 11,
     "metadata": {},
     "output_type": "execute_result"
    }
   ],
   "source": [
    "ase.latent_left_"
   ]
  },
  {
   "cell_type": "code",
   "execution_count": 12,
   "metadata": {},
   "outputs": [
    {
     "data": {
      "text/plain": [
       "array([[1., 1., 1., 1., 1., 1., 1., 1., 1., 0., 0., 0., 0., 0., 0., 0.,\n",
       "        0., 0.],\n",
       "       [0., 0., 0., 0., 0., 0., 0., 0., 0., 1., 1., 1., 1., 1., 1., 1.,\n",
       "        1., 1.]])"
      ]
     },
     "execution_count": 12,
     "metadata": {},
     "output_type": "execute_result"
    }
   ],
   "source": [
    "a"
   ]
  },
  {
   "cell_type": "code",
   "execution_count": 16,
   "metadata": {},
   "outputs": [
    {
     "name": "stdout",
     "output_type": "stream",
     "text": [
      "[[ 4.04616085e-16  1.03712596e+00]\n",
      " [ 4.04616085e-16  1.03712596e+00]\n",
      " [ 1.02899151e+00 -5.01932791e-16]] \n",
      "\n",
      "(3, 17)\n",
      "(17, 2)\n"
     ]
    },
    {
     "name": "stderr",
     "output_type": "stream",
     "text": [
      "/Users/alex/Dropbox/School/NDD/graspologic/graspologic/embed/ase.py:156: UserWarning: Input graph is not fully connected. Results may notbe optimal. You can compute the largest connected component byusing ``graspologic.utils.get_lcc``.\n",
      "  warnings.warn(msg, UserWarning)\n"
     ]
    },
    {
     "data": {
      "text/plain": [
       "True"
      ]
     },
     "execution_count": 16,
     "metadata": {},
     "output_type": "execute_result"
    }
   ],
   "source": [
    "from graspologic.embed import AdjacencySpectralEmbed as ASE\n",
    "from graspologic.utils import remove_vertices\n",
    "\n",
    "n = [10, 10]\n",
    "p = np.eye(2)\n",
    "G = sbm(n=n, p=p)\n",
    "\n",
    "A, a = remove_vertices(G, [1, 2, -1], return_vertices=True)\n",
    "ase = ASE(n_components=2)\n",
    "ase.fit(A)\n",
    "print(ase.predict(a), \"\\n\")\n",
    "\n",
    "print(a.shape)\n",
    "print(ase.latent_left_.shape)\n",
    "\n",
    "_, y_cols = a.shape\n",
    "latent_rows, _ = ase.latent_left_.shape\n",
    "\n",
    "y_cols == latent_rows"
   ]
  },
  {
   "cell_type": "code",
   "execution_count": 17,
   "metadata": {},
   "outputs": [],
   "source": [
    "undirected = True\n",
    "_, y_cols = a.shape if undirected else a[0].shape"
   ]
  },
  {
   "cell_type": "markdown",
   "metadata": {},
   "source": [
    "## Define class"
   ]
  },
  {
   "cell_type": "code",
   "execution_count": 68,
   "metadata": {},
   "outputs": [],
   "source": [
    "# TODO: maybe add a `self.directed` property to superclass if graph is directed?\n",
    "class AdjacencySpectralEmbed(BaseEmbed):\n",
    "    r\"\"\"\n",
    "    bla bla bla\n",
    "    \"\"\"\n",
    "\n",
    "    def __init__(\n",
    "        self,\n",
    "        n_components=None,\n",
    "        n_elbows=2,\n",
    "        algorithm=\"randomized\",\n",
    "        n_iter=5,\n",
    "        check_lcc=True,\n",
    "        diag_aug=True,\n",
    "    ):\n",
    "        super().__init__(\n",
    "            n_components=n_components,\n",
    "            n_elbows=n_elbows,\n",
    "            algorithm=algorithm,\n",
    "            n_iter=n_iter,\n",
    "            check_lcc=check_lcc,\n",
    "        )\n",
    "\n",
    "        if not isinstance(diag_aug, bool):\n",
    "            raise TypeError(\"`diag_aug` must be of type bool\")\n",
    "        self.diag_aug = diag_aug\n",
    "\n",
    "    def fit(self, graph, y=None):\n",
    "        # would add the pseudoinverse\n",
    "        # as a class attribute in fit\n",
    "        \"\"\"\n",
    "        bla bla bla\n",
    "        \"\"\"\n",
    "        A = import_graph(graph)\n",
    "\n",
    "        if self.check_lcc:\n",
    "            if not is_fully_connected(A):\n",
    "                msg = (\n",
    "                    \"Input graph is not fully connected. Results may not\"\n",
    "                    + \"be optimal. You can compute the largest connected component by\"\n",
    "                    + \"using ``graspy.utils.get_lcc``.\"\n",
    "                )\n",
    "                warnings.warn(msg, UserWarning)\n",
    "\n",
    "        if self.diag_aug:\n",
    "            A = augment_diagonal(A)\n",
    "\n",
    "        self._reduce_dim(A)\n",
    "        \n",
    "        # for out-of-sample\n",
    "        inv_eigs = np.diag(1/self.singular_values_)\n",
    "        self.pinv_left_ = self.latent_left_ @ inv_eigs\n",
    "        if self.latent_right_ is not None:\n",
    "            self.pinv_right_ = self.latent_right_ @ inv_eigs\n",
    "        \n",
    "        self.is_fitted_ = True\n",
    "        return self\n",
    "    \n",
    "    def predict(self, y):\n",
    "        \"\"\"\n",
    "        something about how out-of-sample works and a reference\n",
    "\n",
    "        Parameters\n",
    "        ----------\n",
    "        y : array_like or tuple\n",
    "            out-of-sample matrix.\n",
    "            If tuple, graph is directed and y[0] contains edges from y to other nodes.\n",
    "\n",
    "        Returns\n",
    "        -------\n",
    "        array_like or tuple\n",
    "            Out-of-sample prediction.\n",
    "        \"\"\"\n",
    "        # TODO: make sure y has correct shape\n",
    "        # TODO: make sure y is 1's and 0's?\n",
    "        # TODO: other checks?\n",
    "            \n",
    "        check_is_fitted(self, 'is_fitted_')\n",
    "        if self.latent_right_ is None:  # undirected\n",
    "            if not isinstance(y, np.ndarray):\n",
    "                raise TypeError(\"Undirected graphs require array input y\")\n",
    "            return y @ self.pinv_left_\n",
    "        else:  # directed\n",
    "            if not isinstance(y, tuple):\n",
    "                raise TypeError(\"Directed graphs require a tuple (y_right, y_left) as input\")\n",
    "            return y[0] @ self.pinv_left_, y[1] @ self.pinv_right_"
   ]
  },
  {
   "cell_type": "markdown",
   "metadata": {},
   "source": [
    "## Test on directed graph"
   ]
  },
  {
   "cell_type": "code",
   "execution_count": 70,
   "metadata": {},
   "outputs": [
    {
     "data": {
      "text/plain": [
       "(array([0.63560049, 0.64849359]), array([0.63563454, 0.63747695]))"
      ]
     },
     "execution_count": 70,
     "metadata": {},
     "output_type": "execute_result"
    }
   ],
   "source": [
    "p = np.array([[.9, .1,],\n",
    "              [.1, .9]])\n",
    "\n",
    "M = sbm(n=[50, 50], p=p, directed=True)\n",
    "\n",
    "# embed original matrix\n",
    "idx = 0\n",
    "a1 = M[idx, 1:]  # vector containing edges from a to other nodes\n",
    "a2 = M[1:, idx]  # vector containing edges from other nodes to a\n",
    "A = np.delete(np.delete(M, idx, 0), idx, 1)  # delete row/column `idx`\n",
    "\n",
    "ase = AdjacencySpectralEmbed(n_components=2)\n",
    "ase.fit(A)\n",
    "\n",
    "\n",
    "ase.predict((a1, a2))"
   ]
  }
 ],
 "metadata": {
  "kernelspec": {
   "display_name": "graspy",
   "language": "python",
   "name": "graspy"
  },
  "language_info": {
   "codemirror_mode": {
    "name": "ipython",
    "version": 3
   },
   "file_extension": ".py",
   "mimetype": "text/x-python",
   "name": "python",
   "nbconvert_exporter": "python",
   "pygments_lexer": "ipython3",
   "version": "3.7.0"
  }
 },
 "nbformat": 4,
 "nbformat_minor": 4
}
