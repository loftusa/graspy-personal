{
 "cells": [
  {
   "cell_type": "markdown",
   "metadata": {},
   "source": [
    "## compare two arrays"
   ]
  },
  {
   "cell_type": "code",
   "execution_count": 1,
   "metadata": {},
   "outputs": [
    {
     "name": "stdout",
     "output_type": "stream",
     "text": [
      "18CF16256CFF79066D8F663E6119B415749E58E7033F0EBC4D8B0BD04D44E1A8\n",
      "991CFE077450749C30A48BFCA8403265AADCE31EB847DD84A896335D536D11A7\n",
      "867D1C4975F6427D5B80F7B4F8D05C263F93ACE4013FF1ED5D20156079933838\n"
     ]
    }
   ],
   "source": [
    "import hashlib\n",
    "\n",
    "def array_id(a, *, include_dtype = False, include_shape = False):\n",
    "    data = bytes()\n",
    "    if include_dtype:\n",
    "        data += str(a.dtype).encode('ascii')\n",
    "    data += b','\n",
    "    if include_shape:\n",
    "        data += str(a.shape).encode('ascii')\n",
    "    data += b','\n",
    "    data += a.tobytes()\n",
    "    return hashlib.sha256(data).hexdigest().upper()\n",
    "\n",
    "# Test\n",
    "import numpy as np\n",
    "a = np.array([[1,2,3],[4,5,6]])\n",
    "print(array_id(a))\n",
    "print(array_id(a, include_shape = True))\n",
    "print(array_id(a, include_shape = True, include_dtype = True))"
   ]
  },
  {
   "cell_type": "code",
   "execution_count": null,
   "metadata": {},
   "outputs": [],
   "source": [
    "data = bytes()\n",
    "\n",
    "A = np.full((10000, 10000), 1)\n",
    "A.tobytes()"
   ]
  }
 ],
 "metadata": {
  "kernelspec": {
   "display_name": "Python 3",
   "language": "python",
   "name": "python3"
  },
  "language_info": {
   "codemirror_mode": {
    "name": "ipython",
    "version": 3
   },
   "file_extension": ".py",
   "mimetype": "text/x-python",
   "name": "python",
   "nbconvert_exporter": "python",
   "pygments_lexer": "ipython3",
   "version": "3.7.0"
  }
 },
 "nbformat": 4,
 "nbformat_minor": 4
}
